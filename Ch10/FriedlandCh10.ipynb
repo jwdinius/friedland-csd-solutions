{
 "cells": [
  {
   "cell_type": "markdown",
   "metadata": {},
   "source": [
    "## Chapter 10"
   ]
  },
  {
   "cell_type": "code",
   "execution_count": 1,
   "metadata": {
    "collapsed": true
   },
   "outputs": [],
   "source": [
    "import sympy\n",
    "import numpy as np\n",
    "sympy.init_printing(use_latex='mathjax')\n",
    "s, w = sympy.symbols('s w', real=True)\n",
    "import control\n",
    "import matplotlib.pyplot as plt\n",
    "from scipy.optimize import minimize"
   ]
  },
  {
   "cell_type": "markdown",
   "metadata": {},
   "source": [
    "### Problem 10.1\n",
    "####  a)\n",
    "##### i)\n",
    "The spectral density $S(\\omega)$ is:\n",
    "\\begin{eqnarray}\n",
    "S(\\omega) &=& H(-j \\omega) H^T(j \\omega) \\\\\n",
    "&=& \\frac{1}{(\\omega^2 + \\alpha^2)(\\omega^2 + \\beta^2)} \\\\\n",
    "&=& \\frac{1}{\\beta^2 - \\alpha^2} \\biggl [ \\frac{1}{\\omega^2 + \\alpha^2} - \\frac{1}{\\omega^2 + \\beta^2} \\biggr ]\n",
    "\\end{eqnarray}\n",
    "where the last result comes from partial fraction decomposition.\n",
    "\n",
    "##### ii)\n",
    "\\begin{eqnarray}\n",
    "\\lim_{T \\to \\infty} \\int_{-T/2}^{T/2} x^2 (\\tau) d \\tau &=& \\rho(0) \\\\\n",
    "&\\triangleq& \\frac{1}{2 \\pi} \\int_{-\\infty}^\\infty S(\\omega) d \\omega \\\\\n",
    "&=& \\frac{1}{2 \\pi} \\frac{1}{\\beta^2 - \\alpha^2} \\int_{-\\infty}^\\infty \\biggl [ \\frac{1}{\\omega^2 + \\alpha^2} - \\frac{1}{\\omega^2 + \\beta^2} \\biggr ] \\\\\n",
    "&=& \\frac{1}{2 \\pi} \\frac{1}{\\beta^2 - \\alpha^2} \\biggl [ \\frac{\\pi}{\\alpha} - \\frac{\\pi}{\\beta} \\biggr ] \\\\\n",
    "&=& \\frac{1}{2} \\frac{1}{(\\beta + \\alpha)(\\beta - \\alpha)} \\biggl [ \\frac{\\beta - \\alpha}{\\alpha \\beta} \\biggr ] \\\\\n",
    "&=& \\frac{1}{2} \\frac{1}{\\alpha \\beta(\\beta + \\alpha)}\n",
    "\\end{eqnarray}\n",
    "\n",
    "##### iii)\n",
    "Put the transfer function into the \"first-companion\" form:"
   ]
  },
  {
   "cell_type": "code",
   "execution_count": 2,
   "metadata": {},
   "outputs": [
    {
     "name": "stdout",
     "output_type": "stream",
     "text": [
      "2*p2 = 0\n",
      "-a*b*p1 + p2*(-a - b) + p3 = 0\n",
      "-2*a*b*p2 + 2*p3*(-a - b) + 1 = 0\n"
     ]
    }
   ],
   "source": [
    "p1, p2, p3, a, b = sympy.symbols('p1 p2 p3 a b')\n",
    "# use first companion form (Eqn. 3.88)\n",
    "A = sympy.Matrix([[0, 1], [-a*b, -(a+b)]])\n",
    "F = sympy.Matrix([[0], [1]])\n",
    "Q = 1\n",
    "P = sympy.Matrix([[p1, p2], [p2, p3]])\n",
    "Z = A*P + P*A.T + F*Q*F.T\n",
    "# Z == [[0, 0], [0, 0]], so 3 equations and 3 unknowns\n",
    "sympy.pprint('{} = 0'.format(Z[0, 0]))\n",
    "sympy.pprint('{} = 0'.format(Z[0, 1]))\n",
    "sympy.pprint('{} = 0'.format(Z[1, 1]))"
   ]
  },
  {
   "cell_type": "markdown",
   "metadata": {},
   "source": [
    "The above linear equation leads to the covariance matrix:\n",
    "\\begin{eqnarray}\n",
    "\\bar P = \\begin{pmatrix}\n",
    "\\frac{1}{2 \\alpha \\beta (\\alpha+\\beta)} & 0 \\\\\n",
    "0 & \\frac{1}{2 \\alpha \\beta}\n",
    "\\end{pmatrix},\n",
    "\\end{eqnarray}\n",
    "and, for the mean-squared value, $\\rho(0) = C^T \\bar P e^{A \\cdot 0} C = C^T \\bar P C$."
   ]
  },
  {
   "cell_type": "code",
   "execution_count": 3,
   "metadata": {},
   "outputs": [
    {
     "name": "stdout",
     "output_type": "stream",
     "text": [
      "      1      \n",
      "─────────────\n",
      "2⋅a⋅b⋅(a + b)\n"
     ]
    }
   ],
   "source": [
    "P = sympy.Matrix([[1/(2*a*b*(a+b)), 0], [0, 1/(2*a*b)]])\n",
    "C = sympy.Matrix([[1], [0]])  # from the first companion form definition\n",
    "qdrtc = sympy.simplify((C.T*P*C)[0])\n",
    "sympy.pprint(qdrtc)"
   ]
  },
  {
   "cell_type": "markdown",
   "metadata": {
    "collapsed": true
   },
   "source": [
    "####  b)\n",
    "_omitted because it's basically the same problem as above_"
   ]
  },
  {
   "cell_type": "markdown",
   "metadata": {
    "collapsed": true
   },
   "source": [
    "### Problem 10.2\n",
    "_this is how I would solve the problem, but the kernel keeps crashing so I'm moving on_"
   ]
  },
  {
   "cell_type": "code",
   "execution_count": null,
   "metadata": {},
   "outputs": [],
   "source": [
    "# data to use for regression\n",
    "frequencies = np.array([0.1, 0.35, 1., 5., 100.])\n",
    "Sw = np.array([90., 19000., 10., 1.])\n",
    "# objective function - solve an optimization problem for the coefficients in feature\n",
    "def obj(feature, freqs, powSpecDens):\n",
    "    K, a, icsi1, icsi2, icsi3, w1, w2, w3 = feature\n",
    "    def S(w):\n",
    "        num = K**2 * w**4 * ( (w3-w)**2 + 4.*icsi3**2*w3**2*w**2 )\n",
    "        den = ( (w**2 + a**2) * ( (w1-w)**2 + 4.*icsi1**2*w1**2*w**2 )*( (w2-w)**2 + 4.*icsi2**2*w2**2*w**2 ) )\n",
    "        return num / den\n",
    "    return np.sum([(S(f) - psd)**2 for f,psd in zip(frequencies, powSpecDens)])\n",
    "# initial guess\n",
    "feature = np.array([100., 1., 100., 100., 100., 0.5, 0.5, 0.5])\n",
    "# bounds\n",
    "bnds = ((0, 1000),(0, 10),(0, 1000),(0, 1000),(0, 1000),(0, 1),(0, 1),(0, 1))\n",
    "# solve optimization problem\n",
    "sol = minimize(obj, feature, args=(frequencies, Sw), bounds=bnds)\n",
    "print(sol)"
   ]
  },
  {
   "cell_type": "markdown",
   "metadata": {
    "collapsed": true
   },
   "source": [
    "### Problem 10.3\n",
    "#### a)\n",
    "The covariance equation can be written as:\n",
    "\\begin{eqnarray}\n",
    "\\dot P = AP + PA^T + FQ_vF^T,\n",
    "\\end{eqnarray}\n",
    "where $Q_v$ is the diagonal matrix representing the expected value of the white-noise and\n",
    "\\begin{eqnarray}\n",
    "A = \\begin{pmatrix}\n",
    "0 & 1 & 0 \\\\\n",
    "0 & 0 & -g \\\\\n",
    "0 & \\frac{1}{R} & 0\n",
    "\\end{pmatrix}, F = \\begin{pmatrix}\n",
    "0 & 0 \\\\\n",
    "1 & 0 \\\\\n",
    "0 & 1\n",
    "\\end{pmatrix}.\n",
    "\\end{eqnarray}\n",
    "\n",
    "#### b)\n",
    "_There are no numbers for the Q matrix, so just setup the problem_"
   ]
  },
  {
   "cell_type": "code",
   "execution_count": 6,
   "metadata": {},
   "outputs": [
    {
     "name": "stdout",
     "output_type": "stream",
     "text": [
      "Matrix([[p1d, p2d, p3d], [p2d, p4d, p5d], [p3d, p5d, p6d]]) = Matrix([[2.0*p2, -9.8*p3 + 1.0*p4, 1.55635204081633e-7*p2 + 1.0*p5], [-9.8*p3 + 1.0*p4, -19.6*p5 + 1.0*w1, 1.55635204081633e-7*p4 - 9.8*p6], [1.55635204081633e-7*p2 + 1.0*p5, 1.55635204081633e-7*p4 - 9.8*p6, 3.11270408163265e-7*p5 + 1.0*w2]])\n"
     ]
    }
   ],
   "source": [
    "# numbers from Example 3E\n",
    "Omega = 1.235e-3\n",
    "g = 9.8\n",
    "R = g / Omega**2\n",
    "A = np.array([[0, 1, 0], [0, 0, -g], [0, 1./R, 0]]).astype('float')\n",
    "F = np.array([[0, 0], [1, 0], [0, 1]]).astype('float')\n",
    "p1d, p2d, p3d, p4d, p5d, p6d = sympy.symbols('p1d p2d p3d p4d p5d p6d')\n",
    "p1, p2, p3, p4, p5, p6 = sympy.symbols('p1 p2 p3 p4 p5 p6')\n",
    "lhs = sympy.Matrix([[p1d, p2d, p3d], [p2d, p4d, p5d], [p3d, p5d, p6d]])\n",
    "P = sympy.Matrix([[p1, p2, p3], [p2, p4, p5], [p3, p5, p6]])\n",
    "w1, w2 = sympy.symbols('w1 w2')\n",
    "Q = sympy.Matrix([[w1, 0], [0, w2]])\n",
    "rhs = sympy.Matrix(A)*P + P*sympy.Matrix(A.T) + sympy.Matrix(F)*Q*sympy.Matrix(F.transpose())\n",
    "print('{} = {}'.format(lhs, rhs))"
   ]
  }
 ],
 "metadata": {
  "kernelspec": {
   "display_name": "Python 3",
   "language": "python",
   "name": "python3"
  },
  "language_info": {
   "codemirror_mode": {
    "name": "ipython",
    "version": 3
   },
   "file_extension": ".py",
   "mimetype": "text/x-python",
   "name": "python",
   "nbconvert_exporter": "python",
   "pygments_lexer": "ipython3",
   "version": "3.6.0"
  }
 },
 "nbformat": 4,
 "nbformat_minor": 2
}
