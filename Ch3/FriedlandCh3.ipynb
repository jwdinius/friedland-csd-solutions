{
 "cells": [
  {
   "cell_type": "markdown",
   "metadata": {},
   "source": [
    "## Chapter 3\n",
    "\n",
    "### Notes\n",
    "* Python functions are written with very narrow scope: they only address the individual problem-at-hand and _probably_ won't generalize.\n"
   ]
  },
  {
   "cell_type": "code",
   "execution_count": 289,
   "metadata": {},
   "outputs": [],
   "source": [
    "import sys\n",
    "from importlib import reload\n",
    "sys.path.append(\"..\")"
   ]
  },
  {
   "cell_type": "code",
   "execution_count": 290,
   "metadata": {},
   "outputs": [
    {
     "data": {
      "text/plain": [
       "<module 'Ch3.utilities' from '../Ch3/utilities.py'>"
      ]
     },
     "execution_count": 290,
     "metadata": {},
     "output_type": "execute_result"
    }
   ],
   "source": [
    "from sympy import *\n",
    "init_printing(use_latex='mathjax')\n",
    "s = symbols('s')\n",
    "import Ch3.utilities as ch3_utils\n",
    "reload(ch3_utils)"
   ]
  },
  {
   "cell_type": "markdown",
   "metadata": {},
   "source": [
    "### Problem 3.1\n",
    "\n",
    "#### Notes\n",
    "* The `sympy` package does algebra symbolically (check the `environment.yml` file)\n",
    "* The state transition matrix, STM, is represented by $\\Phi(t)$\n",
    "* The helper function `computeResolvent` (see Ch3/utilities.py) does the heavy-lifting"
   ]
  },
  {
   "cell_type": "code",
   "execution_count": 320,
   "metadata": {},
   "outputs": [],
   "source": [
    "def helper3p1(A):\n",
    "    res = ch3_utils.computeResolvent(A)\n",
    "    pprint('Matrix A')\n",
    "    pprint(A)\n",
    "    pprint('has resolvent')\n",
    "    pprint(res)"
   ]
  },
  {
   "cell_type": "markdown",
   "metadata": {},
   "source": [
    "#### a)"
   ]
  },
  {
   "cell_type": "code",
   "execution_count": 321,
   "metadata": {},
   "outputs": [
    {
     "name": "stdout",
     "output_type": "stream",
     "text": [
      "Matrix A\n",
      "⎡-1  0   0 ⎤\n",
      "⎢          ⎥\n",
      "⎢1   -2  0 ⎥\n",
      "⎢          ⎥\n",
      "⎣1   2   -3⎦\n",
      "has resolvent\n",
      "⎡              1                                      ⎤\n",
      "⎢            ─────                     0           0  ⎥\n",
      "⎢            s + 1                                    ⎥\n",
      "⎢                                                     ⎥\n",
      "⎢           1       1                  1              ⎥\n",
      "⎢       - ───── + ─────              ─────         0  ⎥\n",
      "⎢         s + 2   s + 1              s + 2            ⎥\n",
      "⎢                                                     ⎥\n",
      "⎢    1         2         3          2       2      1  ⎥\n",
      "⎢───────── - ───── + ─────────  - ───── + ─────  ─────⎥\n",
      "⎣2⋅(s + 3)   s + 2   2⋅(s + 1)    s + 3   s + 2  s + 3⎦\n"
     ]
    }
   ],
   "source": [
    "A = Matrix([[-1, 0, 0],[1, -2, 0], [1, 2, -3]])\n",
    "helper3p1(A)"
   ]
  },
  {
   "cell_type": "markdown",
   "metadata": {},
   "source": [
    "The inverse Laplace transform of the resolvent of A is:\n",
    "\\begin{eqnarray}\n",
    "\\Phi(t) = \\begin{pmatrix}\n",
    "e^{-t} & 0 & 0 \\\\\n",
    "e^{-t} - e^{-2t} & e^{-2t} & 0 \\\\\n",
    "\\frac{1}{2}e^{-3t} - 2 e^{-2t} + \\frac{3}{2} e^{-t} & 2(e^{-2t} - e^{-3t}) & e^{-3t} \\\\\n",
    "\\end{pmatrix}\n",
    "\\end{eqnarray}"
   ]
  },
  {
   "cell_type": "markdown",
   "metadata": {},
   "source": [
    "#### b)"
   ]
  },
  {
   "cell_type": "code",
   "execution_count": 322,
   "metadata": {},
   "outputs": [
    {
     "name": "stdout",
     "output_type": "stream",
     "text": [
      "Matrix A\n",
      "⎡-1  0   0 ⎤\n",
      "⎢          ⎥\n",
      "⎢1   -1  0 ⎥\n",
      "⎢          ⎥\n",
      "⎣0   1   -1⎦\n",
      "has resolvent\n",
      "⎡   1                     ⎤\n",
      "⎢ ─────       0        0  ⎥\n",
      "⎢ s + 1                   ⎥\n",
      "⎢                         ⎥\n",
      "⎢   1         1           ⎥\n",
      "⎢────────   ─────      0  ⎥\n",
      "⎢       2   s + 1         ⎥\n",
      "⎢(s + 1)                  ⎥\n",
      "⎢                         ⎥\n",
      "⎢   1         1        1  ⎥\n",
      "⎢────────  ────────  ─────⎥\n",
      "⎢       3         2  s + 1⎥\n",
      "⎣(s + 1)   (s + 1)        ⎦\n"
     ]
    }
   ],
   "source": [
    "A = Matrix([[-1, 0, 0],[1, -1, 0], [0, 1, -1]])\n",
    "helper3p1(A)"
   ]
  },
  {
   "cell_type": "markdown",
   "metadata": {},
   "source": [
    "The inverse Laplace transform of the resolvent of A is:\n",
    "\\begin{eqnarray}\n",
    "\\Phi(t) = \\begin{pmatrix}\n",
    "e^{-t} & 0 & 0 \\\\\n",
    "t e^{-t} & e^{-t} & 0 \\\\\n",
    "\\frac{t^2}{2} e^{-t} & t e^{-t} & e^{-t} \\\\\n",
    "\\end{pmatrix}\n",
    "\\end{eqnarray}\n",
    "The terms involving repeated roots require using the shift property of Laplace transforms, namely that\n",
    "\\begin{eqnarray}\n",
    "\\mathcal{L}^{-1} \\bigl [ F(s-a) \\bigr ] = e^{at} \\mathcal{L}^{-1} \\bigl [ F(s) \\bigr ]\n",
    "\\end{eqnarray}"
   ]
  },
  {
   "cell_type": "markdown",
   "metadata": {},
   "source": [
    "#### c)"
   ]
  },
  {
   "cell_type": "code",
   "execution_count": 323,
   "metadata": {},
   "outputs": [
    {
     "name": "stdout",
     "output_type": "stream",
     "text": [
      "Matrix A\n",
      "⎡-2  1   1 ⎤\n",
      "⎢          ⎥\n",
      "⎢1   -2  1 ⎥\n",
      "⎢          ⎥\n",
      "⎣1   1   -2⎦\n",
      "has resolvent\n",
      "⎡     2        1          1        1         1        1 ⎤\n",
      "⎢ ───────── + ───   - ───────── + ───  - ───────── + ───⎥\n",
      "⎢ 3⋅(s + 3)   3⋅s     3⋅(s + 3)   3⋅s    3⋅(s + 3)   3⋅s⎥\n",
      "⎢                                                       ⎥\n",
      "⎢      1        1        2        1          1        1 ⎥\n",
      "⎢- ───────── + ───   ───────── + ───   - ───────── + ───⎥\n",
      "⎢  3⋅(s + 3)   3⋅s   3⋅(s + 3)   3⋅s     3⋅(s + 3)   3⋅s⎥\n",
      "⎢                                                       ⎥\n",
      "⎢      1        1         1        1        2        1  ⎥\n",
      "⎢- ───────── + ───  - ───────── + ───   ───────── + ─── ⎥\n",
      "⎣  3⋅(s + 3)   3⋅s    3⋅(s + 3)   3⋅s   3⋅(s + 3)   3⋅s ⎦\n"
     ]
    }
   ],
   "source": [
    "A = Matrix([[-2, 1, 1],[1, -2, 1], [1, 1, -2]])\n",
    "helper3p1(A)"
   ]
  },
  {
   "cell_type": "markdown",
   "metadata": {},
   "source": [
    "The inverse Laplace transform of the resolvent of A is:\n",
    "\\begin{eqnarray}\n",
    "\\Phi(t) = \\frac{1}{3} \\begin{pmatrix}\n",
    "2 e^{-3t} + 1 & 1 - e^{-3t} & 1 - e^{-3t} \\\\\n",
    "1 - e^{-3t} & 2 e^{-3t} + 1 & 1 - e^{-3t} \\\\\n",
    "1 - e^{-3t} & 1 - e^{-3t} & 2 e^{-3t} + 1 \\\\\n",
    "\\end{pmatrix}\n",
    "\\end{eqnarray}"
   ]
  },
  {
   "cell_type": "markdown",
   "metadata": {},
   "source": [
    "### Problem 3.2\n",
    "\n",
    "#### Notes\n",
    "* The `sympy` package does algebra symbolically, as in previous problem\n",
    "* The helper function `firstCompanionForm` computes the first companion form described by Eqns. 3.88 and 3.94\n",
    "* The helper function `PFDforJordanForm` computes the partial fraction decomposition of an input transfer function.  This makes the Jordan form easier to calculate by Eqns. 3.108 and 3.116"
   ]
  },
  {
   "cell_type": "code",
   "execution_count": 324,
   "metadata": {},
   "outputs": [],
   "source": [
    "def helper3p2(num, den):\n",
    "    pprint('Transfer function H(s):')\n",
    "    pprint(factor(num)/factor(den))\n",
    "    pprint('First Companion Form matrices A, B, C, D:')\n",
    "    A, B, C, D = ch3_utils.firstCompanionForm(num, den)\n",
    "    pprint(A)\n",
    "    pprint(B)\n",
    "    pprint(C)\n",
    "    pprint(D)\n",
    "    try:\n",
    "        A, B, C, D = ch3_utils.jordanForm(num, den)\n",
    "        pprint('Jordan (canonical) Form matrices A, B, C, D:')\n",
    "        pprint(A)\n",
    "        pprint(B)\n",
    "        pprint(C)\n",
    "        pprint(D)\n",
    "    except NotImplementedError:\n",
    "        pprint('Jordan form condition not implemented.')\n",
    "        pprint('Here is the partial fraction decomposition to compute Jordan form manually.')\n",
    "        num = factor(num)\n",
    "        den = factor(den)\n",
    "        pd = apart(num/den)\n",
    "        pprint(pd)"
   ]
  },
  {
   "cell_type": "markdown",
   "metadata": {},
   "source": [
    "#### a)"
   ]
  },
  {
   "cell_type": "code",
   "execution_count": 325,
   "metadata": {},
   "outputs": [
    {
     "name": "stdout",
     "output_type": "stream",
     "text": [
      "Transfer function H(s):\n",
      "    (s + 2)⋅(s + 4)    \n",
      "───────────────────────\n",
      "(s + 1)⋅(s + 3)⋅(s + 5)\n",
      "First Companion Form matrices A, B, C, D:\n",
      "⎡ 0    1   0 ⎤\n",
      "⎢            ⎥\n",
      "⎢ 0    0   1 ⎥\n",
      "⎢            ⎥\n",
      "⎣-15  -23  -9⎦\n",
      "⎡0⎤\n",
      "⎢ ⎥\n",
      "⎢0⎥\n",
      "⎢ ⎥\n",
      "⎣1⎦\n",
      "[8  6  1]\n",
      "[0]\n",
      "3/(8*(s + 5)) + 1/(4*(s + 3)) + 3/(8*(s + 1))\n",
      "Jordan (canonical) Form matrices A, B, C, D:\n",
      "⎡-3  0   0 ⎤\n",
      "⎢          ⎥\n",
      "⎢0   -1  0 ⎥\n",
      "⎢          ⎥\n",
      "⎣0   0   -5⎦\n",
      "⎡1⎤\n",
      "⎢ ⎥\n",
      "⎢1⎥\n",
      "⎢ ⎥\n",
      "⎣1⎦\n",
      "[1/4  3/8  3/8]\n",
      "[0]\n"
     ]
    }
   ],
   "source": [
    "num = expand((s+2)*(s+4)).as_poly()\n",
    "den = expand((s+1)*(s+3)*(s+5)).as_poly()\n",
    "helper3p2(num, den)"
   ]
  },
  {
   "cell_type": "markdown",
   "metadata": {},
   "source": [
    "There are no repeated roots, so the Jordan form (Eqn. 3.108) is:\n",
    "\\begin{eqnarray}\n",
    "A &=& \\begin{pmatrix}\n",
    "-5 & 0 & 0 \\\\\n",
    "0 & -3 & 0 \\\\\n",
    "0 & 0 & -1 \\\\\n",
    "\\end{pmatrix}, \\\n",
    "B = \\begin{pmatrix}\n",
    "1 & 1 & 1 \\\\\n",
    "\\end{pmatrix}^T, \\\\\n",
    "C &=& \\frac{1}{8} \\begin{pmatrix}\n",
    "3 & 2 & 3\n",
    "\\end{pmatrix}, \\\n",
    "D = \\begin{pmatrix}\n",
    "0\n",
    "\\end{pmatrix}\n",
    "\\end{eqnarray}\n",
    "\n",
    "_NOTE_: the form above is a bit different than the one returned by `jordanForm`.  A simple transformation to reorder the poles from smallest to largest was done offline because it was easiest."
   ]
  },
  {
   "cell_type": "markdown",
   "metadata": {},
   "source": [
    "#### b)"
   ]
  },
  {
   "cell_type": "code",
   "execution_count": 326,
   "metadata": {},
   "outputs": [
    {
     "name": "stdout",
     "output_type": "stream",
     "text": [
      "Transfer function H(s):\n",
      "     s + 2      \n",
      "────────────────\n",
      "  ⎛ 2          ⎞\n",
      "s⋅⎝s  + 2⋅s + 5⎠\n",
      "First Companion Form matrices A, B, C, D:\n",
      "⎡0  1   0 ⎤\n",
      "⎢         ⎥\n",
      "⎢0  0   1 ⎥\n",
      "⎢         ⎥\n",
      "⎣0  -5  -2⎦\n",
      "⎡0⎤\n",
      "⎢ ⎥\n",
      "⎢0⎥\n",
      "⎢ ⎥\n",
      "⎣1⎦\n",
      "[2  1  0]\n",
      "[0]\n",
      "-(2*s - 1)/(5*(s**2 + 2*s + 5)) + 2/(5*s)\n",
      "Jordan (canonical) Form matrices A, B, C, D:\n",
      "⎡0   0     0  ⎤\n",
      "⎢             ⎥\n",
      "⎢0   0     1  ⎥\n",
      "⎢             ⎥\n",
      "⎣0  -1/5  -2/5⎦\n",
      "⎡1⎤\n",
      "⎢ ⎥\n",
      "⎢0⎥\n",
      "⎢ ⎥\n",
      "⎣1⎦\n",
      "[2/5  1/5  -2/5]\n",
      "[0]\n"
     ]
    }
   ],
   "source": [
    "num = expand((s+2)).as_poly()\n",
    "den = expand(s*((s+1)**2 + 4)).as_poly()\n",
    "helper3p2(num, den)"
   ]
  },
  {
   "cell_type": "markdown",
   "metadata": {},
   "source": [
    "#### c)"
   ]
  },
  {
   "cell_type": "code",
   "execution_count": 327,
   "metadata": {},
   "outputs": [
    {
     "name": "stdout",
     "output_type": "stream",
     "text": [
      "Transfer function H(s):\n",
      "     s + 3      \n",
      "────────────────\n",
      "       2        \n",
      "(s + 1) ⋅(s + 2)\n",
      "First Companion Form matrices A, B, C, D:\n",
      "⎡0   1   0 ⎤\n",
      "⎢          ⎥\n",
      "⎢0   0   1 ⎥\n",
      "⎢          ⎥\n",
      "⎣-2  -5  -4⎦\n",
      "⎡0⎤\n",
      "⎢ ⎥\n",
      "⎢0⎥\n",
      "⎢ ⎥\n",
      "⎣1⎦\n",
      "[3  1  0]\n",
      "[0]\n",
      "Jordan form condition not implemented.\n",
      "Here is the partial fraction decomposition to compute Jordan form manually.\n",
      "  1       1        2    \n",
      "───── - ───── + ────────\n",
      "s + 2   s + 1          2\n",
      "                (s + 1) \n"
     ]
    }
   ],
   "source": [
    "num = expand((s+3)).as_poly()\n",
    "den = expand((s+1)**2*(s+2)).as_poly()\n",
    "helper3p2(num, den)"
   ]
  },
  {
   "cell_type": "markdown",
   "metadata": {},
   "source": [
    "We can use the partial fraction decomposition to do the Jordan form construction manually with $-1$ as a repeated root.\n",
    "\n",
    "The system can be decomposed into two subsystems.\n",
    "\n",
    "##### Subsystem 1: $H_1(s) = \\frac{1}{s+2}$\n",
    "\\begin{eqnarray}\n",
    "A_1 &=& \\begin{pmatrix}\n",
    "-2\n",
    "\\end{pmatrix}, B_1 = \\begin{pmatrix}\n",
    "1\n",
    "\\end{pmatrix}, \\\\\n",
    "C_1 &=& \\begin{pmatrix}\n",
    "1\n",
    "\\end{pmatrix}\n",
    "\\end{eqnarray}\n",
    "\n",
    "##### Subsystem 2: $H_2(s) = \\frac{1}{(s+1)^2} - \\frac{1}{s+1}$\n",
    "Using Eqn 3.116, with $s_1 = -1$ and $r_{11}, r_{21} = -1, 1$:\n",
    "\\begin{eqnarray}\n",
    "A_2 &=& \\begin{pmatrix}\n",
    "-1 & 0 \\\\\n",
    "1 & -1 \\\\\n",
    "\\end{pmatrix}, \\\n",
    "B_2 = \\begin{pmatrix}\n",
    "1 & 0 \\\\\n",
    "\\end{pmatrix}^T, \\\\\n",
    "C_2 &=& \\begin{pmatrix}\n",
    "-1 & 1\n",
    "\\end{pmatrix}\n",
    "\\end{eqnarray}\n",
    "\n",
    "Both systems are (again) combined block-diagonally:\n",
    "\\begin{eqnarray}\n",
    "A &=& \\begin{pmatrix}\n",
    "A_1 & 0_{1x2} \\\\\n",
    "0_{2x1} & A_2 \\\\\n",
    "\\end{pmatrix}, \\\n",
    "B = \\begin{pmatrix}\n",
    "B_1^T & B_2^T \\\\\n",
    "\\end{pmatrix}^T, \\\\\n",
    "C &=& \\begin{pmatrix}\n",
    "C_1 & C_2\n",
    "\\end{pmatrix}, \\\n",
    "D = \\begin{pmatrix}\n",
    "b_0\n",
    "\\end{pmatrix}\n",
    "\\end{eqnarray}\n",
    "\n",
    "which, for this problem, are:\n",
    "\\begin{eqnarray}\n",
    "A &=& \\begin{pmatrix}\n",
    "-2 & 0 & 0 \\\\\n",
    "0 & -1 & 0 \\\\\n",
    "0 & 1 & -1 \\\\\n",
    "\\end{pmatrix}, \\\n",
    "B = \\begin{pmatrix}\n",
    "1 & 1 & 0 \\\\\n",
    "\\end{pmatrix}^T, \\\\\n",
    "C &=& \\begin{pmatrix}\n",
    "1 & -1 & 1\n",
    "\\end{pmatrix}, \\\n",
    "D = \\begin{pmatrix}\n",
    "0\n",
    "\\end{pmatrix}\n",
    "\\end{eqnarray}"
   ]
  },
  {
   "cell_type": "markdown",
   "metadata": {},
   "source": [
    "### Problem 3.3\n",
    "#### a)\n",
    "The matrices can be derived by just looking at the block-diagram as:\n",
    "\n",
    "\\begin{eqnarray}\n",
    "A &=& \\begin{pmatrix}\n",
    "-s_1 & 1 & 0 & \\dots \\\\\n",
    "0 & -s_2 & 1 & 0 \\dots \\\\\n",
    "0 & \\dots & \\ddots & \\dots 1 \\\\\n",
    "0 & \\dots & 0 & -s_k\n",
    "\\end{pmatrix}, \\\n",
    "B = \\begin{pmatrix}\n",
    "0_{k-1} \\\\\n",
    "1\n",
    "\\end{pmatrix}, \\\\\n",
    "C &=& \\begin{pmatrix}\n",
    "C_1 & C_2 & \\dots & C_k\n",
    "\\end{pmatrix}, \\\n",
    "D = \\begin{pmatrix}\n",
    "0\n",
    "\\end{pmatrix}\n",
    "\\end{eqnarray}\n",
    "\n",
    "#### b)\n",
    "The dynamics of the system transformed to the normal form are _similar_ to the tandem form with $\\mathbf{z}= T \\mathbf{x}$ (where I have reversed the book's convention and am using $\\mathbf{z}$ to refer to the normal form).  This amounts to finding a tranformation matrix, $T$ s.t. $T^{-1} \\Lambda T = A$ from above, which is a Schur decomposition.  The upper-triangular Schur matrix, $U$, is simply $\\Lambda$.  The Schur transformation matrix, $T$, is obtained by finding the eigenvectors of $A$ using $(A + s_iI)\\mathbf{t}_i = \\mathbf{0}$.  Since $A$ is upper-triangular, the eigenvalues are simply the diagonal elements.  To find the columns $\\{\\mathbf{t}_i \\}_{1 \\le i \\le k}$ of $T$, it is necessary to solve linear equations of the form\n",
    "\\begin{eqnarray}\n",
    "(s_i - s_1)t_i^1 + t_i^2 &=& 0 \\\\\n",
    "(s_i - s_2)t_i^2 + t_i^3 &=& 0 \\\\\n",
    "\\vdots\n",
    "\\end{eqnarray}\n",
    "for $0 \\le i < k$.  **Note:  The superscripts above are not powers, they represent the numbered elements of the eigenvector $\\mathbf{t}_i$**\n",
    "\n",
    "To find the first eigenvector, there is only a single equation, leaving $t_1^1$ free.  Choosing $t_1^1=1$ is fine (the application of $T^{-1}$ would rescale correctly regardless), so $\\mathbf{t}_1 = (1 \\ 0 \\ \\dots 0)^T$.  Setting the free parameter to 1 will be done subsequently for the same reason.\n",
    "\n",
    "To find the second eigenvector ($t_2^2 = 1$):\n",
    "\\begin{eqnarray}\n",
    "(s_2 - s_1) t_2^1 + 1 &=& 0\n",
    "\\end{eqnarray}\n",
    "which means $\\mathbf{t}_2 = (-\\frac{1}{s_2 - s_1} \\ 1 \\ 0 \\ \\dots 0)^T$\n",
    "\n",
    "To find the third eigenvector ($t_3^3 = 1$):\n",
    "\\begin{eqnarray}\n",
    "(s_3 - s_1) t_3^1 + t_3^2 &=& 0 \\\\\n",
    "(s_3 - s_2) t_3^2 + 1 &=& 0\n",
    "\\end{eqnarray}\n",
    "which means $\\mathbf{t}_3 = (\\frac{1}{(s_3 - s_2)(s_2 - s_1)} \\ -\\frac{1}{s_3 - s_2} \\ 1 \\ \\dots 0)^T$\n",
    "\n",
    "To nail down the pattern, the fourth eigenvector is computed from the following set of linear equations:\n",
    "\\begin{eqnarray}\n",
    "(s_4 - s_1) t_4^1 + t_4^2 &=& 0 \\\\\n",
    "(s_4 - s_2) t_4^2 + t_4^3 &=& 0 \\\\\n",
    "(s_4 - s_3) t_4^3 + 1 &=& 0\n",
    "\\end{eqnarray}\n",
    "which means $\\mathbf{t}_4 = (-\\frac{1}{(s_4 - s_3)(s_4 - s_2)(s_4-s_1)} \\ \\frac{1}{(s_4 - s_3)(s_4-s_2)} \\ -\\frac{1}{s_4-s_3} \\ 1 \\dots 0)^T$\n",
    "\n",
    "Finally, putting it all together (and extending where necessary):\n",
    "\n",
    "\\begin{eqnarray}\n",
    "T = \\begin{pmatrix}\n",
    "1 & -\\frac{1}{s_2 - s_1} & \\frac{1}{(s_3 - s_2)(s_3-s_1)} & -\\frac{1}{(s_4-s_3)(s_4 - s_2)(s_4-s_1)} & \\dots & (-1)^{k-1} \\prod_{i = 1}^k \\frac{1}{(s_i - s_1)}\\\\\n",
    "0 & 1 & -\\frac{1}{s_3 - s_2} & \\frac{1}{(s_4 - s_3)(s_4-s_2)} & \\dots & (-1)^{k-2} \\prod_{i = 2}^k \\frac{1}{(s_i - s_2)}\\\\\n",
    "0 & 0 & 1 & -\\frac{1}{s_4 - s_3} & \\dots & (-1)^{k-3} \\prod_{i = 3}^k \\frac{1}{(s_i - s_3)}\\\\\n",
    "0 & 0 & 0 & 1 & \\dots & (-1)^{k-4} \\prod_{i = 4}^k \\frac{1}{(s_i - s_4)}\\\\ \n",
    "0 & 0 & 0 & \\ddots & \\ddots & \\vdots \\\\\n",
    "\\vdots & \\vdots & \\vdots & \\dots & \\ddots & \\vdots \\\\\n",
    "0 & 0 & 0 & \\dots & \\dots & 1\n",
    "\\end{pmatrix}\n",
    "\\end{eqnarray}\n"
   ]
  },
  {
   "cell_type": "code",
   "execution_count": 328,
   "metadata": {},
   "outputs": [
    {
     "name": "stdout",
     "output_type": "stream",
     "text": [
      "⎡-s₁   0    0 ⎤\n",
      "⎢             ⎥\n",
      "⎢ 0   -s₂   0 ⎥\n",
      "⎢             ⎥\n",
      "⎣ 0    0   -s₃⎦\n"
     ]
    }
   ],
   "source": [
    "# perform a quick check of the above for a 3x3\n",
    "S = numbered_symbols('s')\n",
    "next(S)\n",
    "s_array = [next(S) for i in range(3)]\n",
    "A = Matrix([[-s_array[0], 1, 0], [0, -s_array[1], 1], [0, 0, -s_array[2]]])\n",
    "T = Matrix([[1, -1/(s_array[1]-s_array[0]), 1/((s_array[2]-s_array[1])*(s_array[2]-s_array[0]))], \n",
    "            [0, 1, -1/(s_array[2]-s_array[1])], \n",
    "            [0, 0, 1]])\n",
    "result = T**-1*A*T  # makes sure that T \\Lambda T**-1 = A\n",
    "for i in range(result.shape[0]):\n",
    "    for j in range(result.shape[1]):\n",
    "        result[i, j] = simplify(result[i, j])\n",
    "pprint(result)"
   ]
  },
  {
   "cell_type": "markdown",
   "metadata": {},
   "source": [
    "The above check equals $\\Lambda$ for the $3x3$ case, indicating the correct solution for $T$ was found."
   ]
  },
  {
   "cell_type": "markdown",
   "metadata": {},
   "source": [
    "### Problem 3.4\n"
   ]
  },
  {
   "cell_type": "markdown",
   "metadata": {},
   "source": [
    "From Eqn. 3.25:\n",
    "\\begin{eqnarray}\n",
    "\\frac{\\partial \\Phi(\\tau, t)}{\\partial \\tau} = A(\\tau) \\Phi(\\tau, t)\n",
    "\\end{eqnarray}\n",
    "Using the fact that $\\Phi(t, \\tau) = \\Phi^{-1}(\\tau, t)$ and the hint given, it follows that:\n",
    "\\begin{eqnarray}\n",
    "\\frac{\\partial \\Phi(t, \\tau)}{\\partial \\tau} &=& \\frac{\\partial \\Phi^{-1}(\\tau, t)}{\\partial \\tau} \\\\\n",
    "&=& -\\Phi^{-1}(\\tau, t) \\frac{\\partial \\Phi(\\tau, t)}{\\partial \\tau} \\Phi^{-1}(\\tau, t) \\\\\n",
    "&=& -\\Phi^{-1}(\\tau, t) A(\\tau) \\Phi(\\tau, t) \\Phi^{-1}(\\tau, t) \\\\\n",
    "&=& -\\Phi^{-1}(\\tau, t) A(\\tau) \\\\\n",
    "&=& -\\Phi(t, \\tau) A(\\tau)\n",
    "\\end{eqnarray}\n",
    "QED"
   ]
  },
  {
   "cell_type": "markdown",
   "metadata": {},
   "source": [
    "### Problem 3.5"
   ]
  },
  {
   "cell_type": "markdown",
   "metadata": {},
   "source": [
    "The state space matrices can be quickly computed from the block-diagram:\n",
    "\\begin{eqnarray}\n",
    "A &=& \\begin{pmatrix}\n",
    "-a_1 & 1 & 0 & \\dots \\\\\n",
    "-a_2 & 0 & 1 & 0 \\dots \\\\\n",
    "\\vdots & \\dots & \\ddots & \\dots 1 \\\\\n",
    "-a_k & \\dots & 0 & 0\n",
    "\\end{pmatrix}, \\\n",
    "B = \\begin{pmatrix}\n",
    "0_{k-1} \\\\\n",
    "1\n",
    "\\end{pmatrix}, \\\\\n",
    "C &=& \\begin{pmatrix}\n",
    "q_0 - \\sum_{i=1}^k q_i a_i & q_1 & \\dots & q_{k-1}\n",
    "\\end{pmatrix}, \\\n",
    "D = \\begin{pmatrix}\n",
    "q_k\n",
    "\\end{pmatrix}\n",
    "\\end{eqnarray}\n",
    "\n",
    "I used these matrices to find the transfer function via $H(s) = C (sI - A)^{-1} B + D$ (Eqn. 3.65) and the algorithm from Fig. 3.1 for computing the $E_i$ matrices in $\\text{adj}(sI - A)$ (see Eqn. 3.67).  Some observations (I'm not going to work through all the details):\n",
    "\n",
    "* The form of $A$ means that $|sI - A|$, which is the denominator of $H(s)$, will be $s^k + a_1 s^{k-1} + a_2 s^{k-2} + \\cdots + a_k$\n",
    "* The algorithm for computing $E_i$ recursively, combined with the sparseness of $B$, lead to incrementing of the index on the $q$ terms in lower powers of $s$ in the numerator of $H(s)$.\n",
    "\n",
    "The transfer function $H(s)$ is:\n",
    "\\begin{eqnarray}\n",
    "H(s) = \\frac{q_{k-1} s^{k-1} + [a_1 q_{k-1} + q_{k-2}]s^{k-2} + [(a_1 + a_2)q_{k-1} + q_{k-2} + q_{k-3}]s^{k-2} + \\cdots}{s^k + a_1 s^{k-1} + a_2 s^{k-2} + \\cdots + a_k}\n",
    "\\end{eqnarray}\n",
    "\n",
    "The relationship between the $q_i$'s and the numerator coefficients of the standard transfer function representation (using $b_i$'s) is:\n",
    "\\begin{eqnarray}\n",
    "b_0 &=& q_{k-1} \\\\\n",
    "b_1 &=& a_1 q_{k-1} + q_{k-2} \\\\\n",
    "b_2 &=& (a_1 + a_2)q_{k-1} + q_{k-2} + q_{k-3} \\\\\n",
    "\\vdots \\\\\n",
    "b_j &=& q_{k-1} \\sum_{i=1}^j a_i + \\sum_{i=2}^{j+1} q_{k-i} \\\\\n",
    "\\vdots \\\\\n",
    "b_k &=& q_{k-1} \\sum_{i=1}^k a_i + \\sum_{i=2}^k q_{k-i}\n",
    "\\end{eqnarray}"
   ]
  },
  {
   "cell_type": "markdown",
   "metadata": {},
   "source": [
    "### Problem 3.6\n",
    "\n",
    "#### a)\n",
    "The differential equations are:\n",
    "\\begin{eqnarray}\n",
    "\\ddot x + \\frac{k^2}{Mr^2R} \\dot x + \\frac{mg}{M} \\theta &=& \\frac{k}{MRr} e \\\\\n",
    "\\ddot \\theta - \\frac{M+m}{M \\ell} g \\dot \\theta - \\frac{k^2}{Mr^2R \\ell} \\dot x &=& -\\frac{k}{MRr \\ell} e\n",
    "\\end{eqnarray}\n",
    "The 2 second-order ODEs above can be cast as 4 first-order ODEs with $x_1 \\equiv x, x_2 \\equiv \\dot x, \\theta_1 \\equiv \\theta, \\theta_2 \\equiv \\dot \\theta$:\n",
    "\\begin{eqnarray}\n",
    "\\dot x_1 &=& x_2 \\\\\n",
    "\\dot x_2 &=& -\\frac{k^2}{Mr^2R} x_2 - \\frac{mg}{M} \\theta_1 + \\frac{k}{MRr} e \\\\\n",
    "\\dot \\theta_1 &=& \\theta_2 \\\\\n",
    "\\dot \\theta_2 &=& \\frac{M+m}{M \\ell} g \\dot \\theta + \\frac{k^2}{Mr^2R \\ell} x_2 -\\frac{k}{MRr \\ell} e\n",
    "\\end{eqnarray}\n",
    "With $\\mathbf{x} \\equiv [x_1 \\ x_2 \\ \\theta_1 \\ \\theta_2]^T$, the state-space model (with output $\\mathbf{y} = [x_1 \\ \\theta_1]^T$) can be written:\n",
    "\\begin{eqnarray}\n",
    "\\mathbf{\\dot x} &=& A \\mathbf{x} + B e \\\\\n",
    "\\mathbf{y} &=& C \\mathbf{x} + D e,\n",
    "\\end{eqnarray}\n",
    "with\n",
    "\\begin{eqnarray}\n",
    "A &=& \\begin{pmatrix}\n",
    "0 & 1 & 0 & 0 \\\\\n",
    "0 & -\\frac{k^2}{Mr^2R} & -\\frac{mg}{M} & 0 \\\\\n",
    "0 & 0 & 0 & 1 \\\\\n",
    "0 & \\frac{k^2}{Mr^2R \\ell} & \\frac{M+m}{M \\ell} g & 0\n",
    "\\end{pmatrix}, \\\n",
    "B = \\frac{k}{MRr}\\begin{pmatrix}\n",
    "0 \\\\\n",
    "1 \\\\\n",
    "0 \\\\\n",
    "-\\frac{1}{\\ell}\n",
    "\\end{pmatrix}, \\\\\n",
    "C &=& \\begin{pmatrix}\n",
    "1 & 0 & 0 & 0 \\\\\n",
    "0 & 0 & 1 & 0\n",
    "\\end{pmatrix}, \\\n",
    "D = \\begin{pmatrix}\n",
    "0 \\\\\n",
    "0\n",
    "\\end{pmatrix}\n",
    "\\end{eqnarray}"
   ]
  },
  {
   "cell_type": "markdown",
   "metadata": {},
   "source": [
    "#### b)\n",
    "![title](problem3p6_smaller.jpg)\n",
    "\n",
    "#### c)"
   ]
  },
  {
   "cell_type": "code",
   "execution_count": 329,
   "metadata": {},
   "outputs": [
    {
     "name": "stdout",
     "output_type": "stream",
     "text": [
      "⎡0  1  0  0⎤\n",
      "⎢          ⎥\n",
      "⎢0  a  b  0⎥\n",
      "⎢          ⎥\n",
      "⎢0  0  0  1⎥\n",
      "⎢          ⎥\n",
      "⎣0  c  d  0⎦\n",
      "⎡                     2                                                       \n",
      "⎢1              -d + s                            b                           \n",
      "⎢─  ───────────────────────────────  ───────────────────────────   ───────────\n",
      "⎢s    ⎛         2                3⎞           2                3     ⎛        \n",
      "⎢   s⋅⎝a⋅d - a⋅s  - b⋅c - d⋅s + s ⎠  a⋅d - a⋅s  - b⋅c - d⋅s + s    s⋅⎝a⋅d - a⋅\n",
      "⎢                                                                             \n",
      "⎢                    2                                                        \n",
      "⎢               d - s                            b⋅s                          \n",
      "⎢0   ────────────────────────────    ───────────────────────────     ─────────\n",
      "⎢              2                3             2                3              \n",
      "⎢    -a⋅d + a⋅s  + b⋅c + d⋅s - s     a⋅d - a⋅s  - b⋅c - d⋅s + s      a⋅d - a⋅s\n",
      "⎢                                                                             \n",
      "⎢                  c                          s⋅(a - s)                       \n",
      "⎢0    ───────────────────────────    ────────────────────────────   ──────────\n",
      "⎢              2                3              2                3             \n",
      "⎢     a⋅d - a⋅s  - b⋅c - d⋅s + s     -a⋅d + a⋅s  + b⋅c + d⋅s - s    -a⋅d + a⋅s\n",
      "⎢                                                                             \n",
      "⎢                 c⋅s                      a⋅d - b⋅c - d⋅s                   s\n",
      "⎢0    ───────────────────────────    ────────────────────────────   ──────────\n",
      "⎢              2                3              2                3             \n",
      "⎣     a⋅d - a⋅s  - b⋅c - d⋅s + s     -a⋅d + a⋅s  + b⋅c + d⋅s - s    -a⋅d + a⋅s\n",
      "\n",
      "                    ⎤\n",
      "    b               ⎥\n",
      "────────────────────⎥\n",
      " 2                3⎞⎥\n",
      "s  - b⋅c - d⋅s + s ⎠⎥\n",
      "                    ⎥\n",
      "                    ⎥\n",
      "    b               ⎥\n",
      "──────────────────  ⎥\n",
      "2                3  ⎥\n",
      "  - b⋅c - d⋅s + s   ⎥\n",
      "                    ⎥\n",
      " a - s              ⎥\n",
      "──────────────────  ⎥\n",
      "2                3  ⎥\n",
      "  + b⋅c + d⋅s - s   ⎥\n",
      "                    ⎥\n",
      "⋅(a - s)            ⎥\n",
      "──────────────────  ⎥\n",
      "2                3  ⎥\n",
      "  + b⋅c + d⋅s - s   ⎦\n"
     ]
    }
   ],
   "source": [
    "a, b, c, d = symbols('a b c d')\n",
    "# a = -k^2 / (Mr^2R)\n",
    "# b = -mg / M\n",
    "# c = k^2 / (Mr^2Rl)\n",
    "# d = (M+m)g / (Ml)\n",
    "A = Matrix([[0, 1, 0, 0],[0, a, b, 0], [0, 0, 0, 1], [0, c, d, 0]])\n",
    "pprint(A)\n",
    "res = simplify(ch3_utils.computeResolvent(A))\n",
    "pprint(res)"
   ]
  },
  {
   "cell_type": "markdown",
   "metadata": {},
   "source": [
    "To get the STM, do a table-lookup for the inverse Laplace transform element-by-element (or evaluate numerically).  This would be tedious, so I am not going to do it.\n",
    "\n",
    "#### d)\n",
    "Split the matrices $C, D$ into two components: $C_x, D_x$ correspond to the first rows and $C_\\theta$ the second rows.  The transfer function from $e$ to output $x$ is $H_x(s) = C_x(sI-A)^{-1}B + D_x$.  Similarly, the transfer function from $e$ to $\\theta$ is $H_\\theta(s) = C_\\theta(sI-A)^{-1}+D_\\theta$.  The resolvent $(sI-A)^{-1}$ was computed in part c) above."
   ]
  },
  {
   "cell_type": "markdown",
   "metadata": {},
   "source": [
    "### Problem 3.7\n",
    "\n",
    "#### a)\n",
    "From Problem 2.3's solution:\n",
    "\\begin{eqnarray}\n",
    "A &=& \\frac{1}{RC} \\begin{pmatrix}\n",
    "-3 & 1 & 0 \\\\\n",
    "1 & -2 & 1 \\\\\n",
    "0 & 1 & -3\n",
    "\\end{pmatrix}, \\ \n",
    "B &=& \\frac{1}{RC} \\begin{pmatrix}\n",
    "2 \\\\\n",
    "0 \\\\\n",
    "0\n",
    "\\end{pmatrix}, \\\n",
    "E &=& \\frac{1}{RC} \\begin{pmatrix}\n",
    "0 \\\\\n",
    "0 \\\\\n",
    "2\n",
    "\\end{pmatrix}\n",
    "\\end{eqnarray}\n",
    "\n",
    "#### b)\n",
    "The solution to b) follows exactly the same as part c) above."
   ]
  },
  {
   "cell_type": "code",
   "execution_count": 330,
   "metadata": {},
   "outputs": [
    {
     "name": "stdout",
     "output_type": "stream",
     "text": [
      "⎡-3    1      ⎤\n",
      "⎢───  ───   0 ⎥\n",
      "⎢C⋅R  C⋅R     ⎥\n",
      "⎢             ⎥\n",
      "⎢ 1   -2    1 ⎥\n",
      "⎢───  ───  ───⎥\n",
      "⎢C⋅R  C⋅R  C⋅R⎥\n",
      "⎢             ⎥\n",
      "⎢      1   -3 ⎥\n",
      "⎢ 0   ───  ───⎥\n",
      "⎣     C⋅R  C⋅R⎦\n",
      "⎡         ⎛ 2  2  2              ⎞                                            \n",
      "⎢     C⋅R⋅⎝C ⋅R ⋅s  + 5⋅C⋅R⋅s + 5⎠                C⋅R                         \n",
      "⎢─────────────────────────────────────  ───────────────────────  ─────────────\n",
      "⎢ 3  3  3      2  2  2                  (C⋅R⋅s + 1)⋅(C⋅R⋅s + 4)   3  3  3     \n",
      "⎢C ⋅R ⋅s  + 8⋅C ⋅R ⋅s  + 19⋅C⋅R⋅s + 12                           C ⋅R ⋅s  + 8⋅\n",
      "⎢                                                                             \n",
      "⎢                 C⋅R                       C⋅R⋅(C⋅R⋅s + 3)                   \n",
      "⎢       ───────────────────────         ───────────────────────         ──────\n",
      "⎢       (C⋅R⋅s + 1)⋅(C⋅R⋅s + 4)         (C⋅R⋅s + 1)⋅(C⋅R⋅s + 4)         (C⋅R⋅s\n",
      "⎢                                                                             \n",
      "⎢                                                                         ⎛ 2 \n",
      "⎢                 C⋅R                             C⋅R                 C⋅R⋅⎝C ⋅\n",
      "⎢─────────────────────────────────────  ───────────────────────  ─────────────\n",
      "⎢ 3  3  3      2  2  2                  (C⋅R⋅s + 1)⋅(C⋅R⋅s + 4)   3  3  3     \n",
      "⎣C ⋅R ⋅s  + 8⋅C ⋅R ⋅s  + 19⋅C⋅R⋅s + 12                           C ⋅R ⋅s  + 8⋅\n",
      "\n",
      "                        ⎤\n",
      "    C⋅R                 ⎥\n",
      "────────────────────────⎥\n",
      " 2  2  2                ⎥\n",
      "C ⋅R ⋅s  + 19⋅C⋅R⋅s + 12⎥\n",
      "                        ⎥\n",
      "    C⋅R                 ⎥\n",
      "─────────────────       ⎥\n",
      " + 1)⋅(C⋅R⋅s + 4)       ⎥\n",
      "                        ⎥\n",
      " 2  2              ⎞    ⎥\n",
      "R ⋅s  + 5⋅C⋅R⋅s + 5⎠    ⎥\n",
      "────────────────────────⎥\n",
      " 2  2  2                ⎥\n",
      "C ⋅R ⋅s  + 19⋅C⋅R⋅s + 12⎦\n"
     ]
    }
   ],
   "source": [
    "R, C = symbols('R C')\n",
    "A = Matrix([[-3/(R*C), 1/(R*C), 0],[1/(R*C), -2/(R*C), 1/(R*C)], [0, 1/(R*C), -3/(R*C)]])\n",
    "pprint(A)\n",
    "res = simplify(ch3_utils.computeResolvent(A))\n",
    "pprint(res)"
   ]
  },
  {
   "cell_type": "markdown",
   "metadata": {},
   "source": [
    "#### c)\n",
    "The transfer function from $e_0$ to $v_3$ is $H(s) = C_{v_3}(sI - A)^{-1}B + \\frac{2}{RC}$, with $C_{v_3} = [0 \\ 0 \\ 1]^T$.\n",
    "\n",
    "### Problem 3.8\n",
    "\n",
    "![3p8](kcl.jpg)\n",
    "\n",
    "With only resistors, capacitors, and voltage/current sources, any node in the network will look like the above.  By Kirchoff's loop law, the current through node $i$ must be the sum of the two currents due to the current source and $\\frac{v}{R_i}$ ($v$ will be due to adjacent loops) minus the current drop across the capacitor.  This results in a differential equation $\\dot v_i = \\frac{1}{R_i C_i}(iR_i + v - v_i)$.  So, in the construction of the block submatrix in the full system matrix A, the entry at $(i,i)$ will be $-\\frac{1}{R_i C_i}$, which is _negative_ clearly.  A consequence of Kirchoff's loop law is symmetry of the system matrix $A$: positive voltage difference across resistor $R_i$ into node $v_i$ is seen as a negative voltage difference into an adjacent node.\n",
    "\n",
    "From the problem above, the structure of the block due node $v_i$ becomes clear.  The magnitude of the element on the diagonal will be larger than the magnitude of the off-diagonal elements (terms due to current sources will be an additive bias not captured in the $A$ matrix).  This means that reduction to row-echelon form will result in an upper-triangular matrix with negative diagonal.  This proves that all eigenvalues lie on the _negative_ real axis, as required.  QED\n",
    "\n",
    "### Problem 3.9\n",
    "\n",
    "#### a)\n",
    "From Problem 2.5's solution:\n",
    "\\begin{eqnarray}\n",
    "A &=& \\begin{pmatrix}\n",
    "0 & 0 & 1 & 0 \\\\\n",
    "0 & 0 & 0 & 1 \\\\\n",
    "-\\frac{K}{M} & \\frac{K}{M} & -\\frac{k^2}{r^2R} & 0 \\\\\n",
    "\\frac{K}{M} & -\\frac{K}{M} & 0 & -\\frac{k^2}{r^2R}\n",
    "\\end{pmatrix}, \\\n",
    "B = \\frac{k}{MRr}\\begin{pmatrix}\n",
    "0 & 0 \\\\\n",
    "0 & 0 \\\\\n",
    "\\frac{k}{Rr} & 0 \\\\\n",
    "0 & \\frac{k}{Rr}\n",
    "\\end{pmatrix}, \\\\\n",
    "C &=& \\begin{pmatrix}\n",
    "1 & 0 & 0 & 0 \\\\\n",
    "0 & 1 & 0 & 0\n",
    "\\end{pmatrix}, \\\n",
    "D = \\begin{pmatrix}\n",
    "0 \\\\\n",
    "0\n",
    "\\end{pmatrix}\n",
    "\\end{eqnarray}\n",
    "\n",
    "#### b)"
   ]
  },
  {
   "cell_type": "code",
   "execution_count": 333,
   "metadata": {},
   "outputs": [
    {
     "name": "stdout",
     "output_type": "stream",
     "text": [
      "         1                  1           1  \n",
      "─────────────────── - ───────────── + ─────\n",
      "  ⎛ 2             ⎞   200⋅(s + 100)   200⋅s\n",
      "2⋅⎝s  + 100⋅s + 80⎠                        \n",
      "           1                  1           1  \n",
      "- ─────────────────── - ───────────── + ─────\n",
      "    ⎛ 2             ⎞   200⋅(s + 100)   200⋅s\n",
      "  2⋅⎝s  + 100⋅s + 80⎠                        \n"
     ]
    }
   ],
   "source": [
    "# with K, M, k, R, r = 40, 1, 2, 100, 0.02\n",
    "A = Matrix([[0, 0, 1, 0], [0, 0, 0, 1], [-40, 40, -100, 0], [40, -40, 0, -100]])\n",
    "res = computeResolvent(A)\n",
    "C_x1 = Matrix([1, 0, 0, 0])\n",
    "C_x2 = Matrix([0, 1, 0, 0])\n",
    "B = Matrix([[0, 0], [0, 0], [1, 0], [0, 1]])\n",
    "H_x1 = C_x1.T * res * B\n",
    "H_x2 = C_x2.T * res * B\n",
    "# H_x1\n",
    "pprint(H_x1[0])\n",
    "# H_x2\n",
    "pprint(H_x2[0])"
   ]
  },
  {
   "cell_type": "code",
   "execution_count": 335,
   "metadata": {},
   "outputs": [
    {
     "name": "stdout",
     "output_type": "stream",
     "text": [
      "Roots of both transfer functions are nearly the same: -100, 0, -0.8065044950046243, -99.19349550499538\n"
     ]
    }
   ],
   "source": [
    "from numpy import sqrt\n",
    "r1 = -100\n",
    "r2 = 0\n",
    "a, b, c = 1., 100., 80.\n",
    "r3 = (-b + sqrt(b**2 - 4.*a*c)) / (2.*a)\n",
    "r4 = (-b - sqrt(b**2 - 4.*a*c)) / (2.*a)\n",
    "print('Roots of both transfer functions are nearly the same: {}, {}, {}, {}'.format(r1, r2, r3, r4))"
   ]
  }
 ],
 "metadata": {
  "kernelspec": {
   "display_name": "Python 3",
   "language": "python",
   "name": "python3"
  },
  "language_info": {
   "codemirror_mode": {
    "name": "ipython",
    "version": 3
   },
   "file_extension": ".py",
   "mimetype": "text/x-python",
   "name": "python",
   "nbconvert_exporter": "python",
   "pygments_lexer": "ipython3",
   "version": "3.6.0"
  }
 },
 "nbformat": 4,
 "nbformat_minor": 2
}
