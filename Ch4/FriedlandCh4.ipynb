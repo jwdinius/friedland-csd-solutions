{
 "cells": [
  {
   "cell_type": "markdown",
   "metadata": {},
   "source": [
    "## Chapter 4"
   ]
  },
  {
   "cell_type": "code",
   "execution_count": 32,
   "metadata": {},
   "outputs": [],
   "source": [
    "import sys\n",
    "from importlib import reload\n",
    "sys.path.append(\"..\")"
   ]
  },
  {
   "cell_type": "code",
   "execution_count": 33,
   "metadata": {},
   "outputs": [
    {
     "data": {
      "text/plain": [
       "<module 'Ch3.utilities' from '../Ch3/utilities.py'>"
      ]
     },
     "execution_count": 33,
     "metadata": {},
     "output_type": "execute_result"
    }
   ],
   "source": [
    "## INCLUDES\n",
    "from sympy import *\n",
    "init_printing(use_latex='mathjax')\n",
    "s, w = symbols('s w', real=True)\n",
    "import numpy as np\n",
    "import matplotlib.pyplot as plt\n",
    "import control \n",
    "import Ch3.utilities as ch3_utils\n",
    "reload(ch3_utils)"
   ]
  },
  {
   "cell_type": "code",
   "execution_count": 34,
   "metadata": {},
   "outputs": [
    {
     "data": {
      "text/plain": [
       "<module 'Ch4.utilities' from '../Ch4/utilities.py'>"
      ]
     },
     "execution_count": 34,
     "metadata": {},
     "output_type": "execute_result"
    }
   ],
   "source": [
    "import Ch4.utilities as ch4_utils\n",
    "reload(ch4_utils)"
   ]
  },
  {
   "cell_type": "markdown",
   "metadata": {},
   "source": [
    "### Problem 4.1\n",
    "#### a)\n",
    "The difference feedback rule can be used to compose the $\\mathbf{\\dot x} = A \\mathbf{x} + B \\mathbf{u}$ and $G$ blocks using a relationship from pg. 117, namely:\n",
    "\n",
    "\\begin{eqnarray}\n",
    "H(s) = H_1(s)[I + H_2(s)H_1(s)]^{-1}.\n",
    "\\end{eqnarray}\n",
    "\n",
    "$H_1(s) \\equiv (sI-A)^{-1} B \\triangleq \\Phi(s) B$ comes from the state-space model and $H_2(s) \\equiv G$.  It follows that the single-loop feedback transfer function $H(s)$ is\n",
    "\n",
    "\\begin{eqnarray}\n",
    "H'(s) = \\Phi(s) B[I + G \\Phi(s) B]^{-1}.\n",
    "\\end{eqnarray}\n",
    "\n",
    "Finally, use the tandem rule $H(s) = H_2(s) H_1(s)$, with $H_2(s) \\equiv C$ and $H_1(s) \\equiv H'(s)$ above to get the final reduced transfer function from $\\mathbf{u_0}(s)$ to $\\mathbf{y}(s)$:\n",
    "\n",
    "\\begin{eqnarray}\n",
    "H(s) = C \\Phi(s) B[I + G \\Phi(s) B]^{-1}.\n",
    "\\end{eqnarray}\n",
    "\n",
    "#### b)\n",
    "If $z$ is a zero of the open-loop process $\\Phi(s)B$, then $\\det(\\Phi(z)B) = 0$.  It follows that $\\det(C \\Phi(z) B) = \\det(C) \\det(\\Phi(z)B) = 0$ _regardless of the matrices_ $C$ and $G$!  Therefore, $z$ must also be a zero of the closed-loop process.\n",
    "\n",
    "A nicer approach to showing this equivalence via a generalized eigenvalue problem is shown [here](https://ocw.mit.edu/courses/aeronautics-and-astronautics/16-30-feedback-control-systems-fall-2010/lecture-notes/MIT16_30F10_lec08.pdf).  Basically, it can be shown that the closed-loop system is the same as the open-loop system up to some nonsingular transformation:\n",
    "\\begin{eqnarray}\n",
    "T = \\begin{pmatrix}\n",
    "I & 0 \\\\\n",
    "-G & I\n",
    "\\end{pmatrix}.\n",
    "\\end{eqnarray}\n",
    "\n",
    "From this fact, it is clear that, if $z$ is a zero of the open-loop process (i.e. it is a singular value of the matrix resulting from the generalized eigenvalue problem) then it will be a zero of the closed-loop process because, again, it will be a singular value of the matrix arising from the generalized eigenvalue problem with state-feedback."
   ]
  },
  {
   "cell_type": "markdown",
   "metadata": {},
   "source": [
    "### Problem 4.2\n",
    "\n",
    "#### a)"
   ]
  },
  {
   "cell_type": "code",
   "execution_count": 35,
   "metadata": {},
   "outputs": [
    {
     "name": "stdout",
     "output_type": "stream",
     "text": [
      "Transfer function H1 (input to v3) is\n",
      "                                    0.0833333333333333⋅g                      \n",
      "──────────────────────────────────────────────────────────────────────────────\n",
      "                                          3                     2             \n",
      "0.0833333333333333⋅g + 0.333333333333333⋅s  + 1.33333333333333⋅s  + 1.58333333\n",
      "\n",
      "              \n",
      "──────────────\n",
      "              \n",
      "333333⋅s + 0.5\n",
      "Transfer function H2 (disturbance to v3) is\n",
      "     ⎛                   2                                          ⎞\n",
      " 1.0⋅⎝0.333333333333333⋅s  + 0.833333333333333⋅s + 0.416666666666667⎠\n",
      "─────────────────────────────────────────────────────────────────────\n",
      "                   3                     2                           \n",
      "0.333333333333333⋅s  + 1.33333333333333⋅s  + 1.58333333333333⋅s + 0.5\n"
     ]
    }
   ],
   "source": [
    "g = symbols('g', real=True)\n",
    "A = Matrix([[-1.5, 0.5, 0], [0.5, -1, 0.5], [0, 0.5, -1.5]])\n",
    "Phi = ch3_utils.computeResolvent(A)\n",
    "C = Matrix([[0,0,1]])\n",
    "B = Matrix([[1],[0],[0]])\n",
    "E = Matrix([[0],[0],[1]])\n",
    "H = g*C*Phi*B\n",
    "Iden = eye(1)\n",
    "H1 = simplify(H * (Iden + H)**-1)[0]\n",
    "print('Transfer function H1 (input to v3) is')\n",
    "pprint(H1)\n",
    "H2 = simplify(C*Phi*E)[0]\n",
    "print('Transfer function H2 (disturbance to v3) is')\n",
    "pprint(H2)"
   ]
  },
  {
   "cell_type": "markdown",
   "metadata": {},
   "source": [
    "#### b)"
   ]
  },
  {
   "cell_type": "code",
   "execution_count": 36,
   "metadata": {},
   "outputs": [
    {
     "name": "stdout",
     "output_type": "stream",
     "text": [
      "                                          3                     2             \n",
      "0.0833333333333333⋅g + 0.333333333333333⋅s  + 1.33333333333333⋅s  + 1.58333333\n",
      "\n",
      "              \n",
      "333333⋅s + 0.5\n",
      "⎡                               2                ⎤\n",
      "⎣4.0, -0.25⋅g + 17.5, - 0.0625⋅g  + 4.0⋅g + 26.25⎦\n"
     ]
    }
   ],
   "source": [
    "# need to use Routh-Hurwitz here\n",
    "n, d = fraction(H1)\n",
    "pprint(d)\n",
    "Dcoeffs = [0.0625, 0.25, 0.296875, 0.09375+0.015625*g]\n",
    "dets = ch4_utils.hurwitz(Dcoeffs)\n",
    "pprint(dets)"
   ]
  },
  {
   "cell_type": "markdown",
   "metadata": {},
   "source": [
    "The Hurwitz conditions (see above) are:\n",
    "\\begin{eqnarray}\n",
    "4 &>& 0 \\\\\n",
    "17.5 - 0.25 g &>& 0 \\\\\n",
    "-0.0625g^2 + 4g + 26.25 &>& 0 \n",
    "\\end{eqnarray}\n",
    "The first condition puts no constraints on g, the second requires $g < 70$, and the third requires a bit of work. By the quadratic equation, the two roots are $g = \\frac{-4 \\pm \\sqrt{16 - 4*0.0625*26.25}}{-2*0.0625}$.  The final condition yields a concave-down parabolic equation in $g$, the roots of which are $\\approx 24.576$ and $\\approx 56.576$.  This condition is the most restrictive of the three, so conclude that $\\approx 24.576 < g < \\approx 56.576$ is the valid stability range for $g$.\n",
    "\n",
    "Naively, it makes sense that driving the system with negative feedback would drive the system unstable, since the feedback would continue to drive the error larger and larger."
   ]
  },
  {
   "cell_type": "markdown",
   "metadata": {},
   "source": [
    "#### c)\n",
    "The open loop transfer function is $C \\Phi(s) B$.  The [Python Control Systems Library](https://python-control.readthedocs.io/en/latest/index.html) has functions to do frequency domain plots."
   ]
  },
  {
   "cell_type": "code",
   "execution_count": 37,
   "metadata": {},
   "outputs": [
    {
     "data": {
      "image/png": "[encoded data removed]",
      "text/plain": [
       "<matplotlib.figure.Figure at 0x7fb27c2b6160>"
      ]
     },
     "metadata": {
      "needs_background": "light"
     },
     "output_type": "display_data"
    }
   ],
   "source": [
    "H = simplify(C * Phi * B)\n",
    "n, d = fraction(H[0])\n",
    "num = np.array([float(n)])\n",
    "den = np.array([float(p) for p in poly(d).all_coeffs()])\n",
    "G = control.TransferFunction(num, den)\n",
    "control.root_locus(G, PrintGain=False)\n",
    "plt.show()"
   ]
  },
  {
   "cell_type": "markdown",
   "metadata": {},
   "source": [
    "#### d)"
   ]
  },
  {
   "cell_type": "code",
   "execution_count": 38,
   "metadata": {},
   "outputs": [
    {
     "data": {
      "image/png": "[encoded data removed]",
      "text/plain": [
       "<matplotlib.figure.Figure at 0x7fb27c0f3da0>"
      ]
     },
     "metadata": {
      "needs_background": "light"
     },
     "output_type": "display_data"
    },
    {
     "data": {
      "image/png": "[encoded data removed]",
      "text/plain": [
       "<matplotlib.figure.Figure at 0x7fb27c47d940>"
      ]
     },
     "metadata": {
      "needs_background": "light"
     },
     "output_type": "display_data"
    }
   ],
   "source": [
    "plt.figure()\n",
    "control.bode_plot(G)\n",
    "plt.figure()\n",
    "control.nyquist_plot(G)\n",
    "plt.show()"
   ]
  },
  {
   "cell_type": "markdown",
   "metadata": {},
   "source": [
    "#### e)\n",
    "Following signal flow around the loop yields the following error equation:\n",
    "\\begin{eqnarray}\n",
    "e(s) (1 + g C \\Phi(s) B) &=& u_r(s) - C \\Phi(s) E v_0(s) \\\\\n",
    "\\implies e(s) = \\frac{u_r(s) - C \\Phi(s) E v_0(s)}{1 + g C \\Phi(s) B}\n",
    "\\end{eqnarray}\n",
    "\n",
    "The steady-state error is computed by the final-value theorem:\n",
    "\\begin{eqnarray}\n",
    "e_{ss} &=& \\lim_{s \\to 0} s e(s)\n",
    "&=& \\lim_{s \\to 0} \\frac{s \\bigl ( e_d(s) - s C \\Phi(s) E v_0(s) \\bigr )}{1 + g C \\Phi(s) B}\n",
    "\\end{eqnarray}"
   ]
  },
  {
   "cell_type": "markdown",
   "metadata": {},
   "source": [
    "### Problem 4.3\n",
    "\n",
    "#### a)"
   ]
  },
  {
   "cell_type": "code",
   "execution_count": 39,
   "metadata": {},
   "outputs": [
    {
     "name": "stdout",
     "output_type": "stream",
     "text": [
      "                                                                     3        \n",
      "0.0833333333333333⋅g⋅s + 0.0833333333333333⋅h + 0.333333333333333⋅s⋅s  + 1.333\n",
      "\n",
      "               2                               \n",
      "33333333333⋅s⋅s  + 1.58333333333333⋅s⋅s + 0.5⋅s\n",
      "⎡                               2                            ⎛            2   \n",
      "⎣4.0, -0.25⋅g + 17.5, - 0.0625⋅g  + 4.0⋅g - 4.0⋅h + 26.25, h⋅⎝- 0.015625⋅g  + \n",
      "\n",
      "                      ⎞⎤\n",
      "1.0⋅g - 1.0⋅h + 6.5625⎠⎦\n"
     ]
    }
   ],
   "source": [
    "h = symbols('h')\n",
    "A = Matrix([[-1.5, 0.5, 0], [0.5, -1, 0.5], [0, 0.5, -1.5]])\n",
    "Phi = ch3_utils.computeResolvent(A)\n",
    "C = Matrix([[0,0,1]])\n",
    "B = Matrix([[1],[0],[0]])\n",
    "E = Matrix([[0],[0],[1]])\n",
    "K = g + h/s\n",
    "H = K*C*Phi*B\n",
    "Iden = eye(1)\n",
    "H1 = simplify(H * (Iden + H)**-1)[0]\n",
    "#H2 = simplify(C*Phi*E)[0]\n",
    "#print('Transfer function H2 (disturbance to v3) is')\n",
    "#pprint(H2)\n",
    "\n",
    "# need to use Routh-Hurwitz here\n",
    "n, d = fraction(H1)\n",
    "pprint(d)\n",
    "Dcoeffs = [0.0625, 0.25, 0.296875, 0.09375+0.015625*g, 0.015625*h]\n",
    "dets = ch4_utils.hurwitz(Dcoeffs)\n",
    "pprint(dets)"
   ]
  },
  {
   "cell_type": "code",
   "execution_count": 40,
   "metadata": {},
   "outputs": [
    {
     "data": {
      "image/png": "[encoded data removed]",
      "text/plain": [
       "<matplotlib.figure.Figure at 0x7fb27be5bb00>"
      ]
     },
     "metadata": {
      "needs_background": "light"
     },
     "output_type": "display_data"
    }
   ],
   "source": [
    "def f(g, h):\n",
    "    c1 = (-0.25*g + 17.5 > 0)\n",
    "    c2 = (-0.0625*g**2 + 4.*g - 4.*h + 26.25 > 0)\n",
    "    c3 = (h*(-0.15625*g**2 + g - h + 6.5625) > 0)\n",
    "    return int(c1 and c2 and c3)\n",
    "\n",
    "vf = np.vectorize(f)\n",
    "gs = np.linspace(-100, 100, 501)\n",
    "hs = np.linspace(-100, 100, 501)\n",
    "X = np.meshgrid(gs,hs)\n",
    "out = vf(X[0], X[1])\n",
    "plt.imshow(out, origin='lower', extent=(-100, 100, -100, 100))\n",
    "plt.xlabel('g1')\n",
    "plt.ylabel('g2')\n",
    "plt.title('Stability Region (in yellow)')\n",
    "plt.show()"
   ]
  },
  {
   "cell_type": "markdown",
   "metadata": {},
   "source": [
    "The plot above shows a rough discretization of the stability region vs $g_1$ and $g_2$ using the Hurwitz criteria.\n",
    "\n",
    "#### b)"
   ]
  },
  {
   "cell_type": "code",
   "execution_count": 43,
   "metadata": {},
   "outputs": [
    {
     "data": {
      "image/png": "[encoded data removed]",
      "text/plain": [
       "<matplotlib.figure.Figure at 0x7fb27c3a6048>"
      ]
     },
     "metadata": {
      "needs_background": "light"
     },
     "output_type": "display_data"
    }
   ],
   "source": [
    "H = simplify(C * Phi * B)[0]\n",
    "PInoGain = 1. + 1./s\n",
    "A = np.array([[-1.5, 0.5, 0], [0.5, -1, 0.5], [0, 0.5, -1.5]])\n",
    "C = np.array([[0,0,1]]).astype('float')\n",
    "B = np.array([[1],[0],[0]]).astype('float')\n",
    "D = np.zeros((1, 1))\n",
    "plantSS = control.StateSpace(A, B, C, D)\n",
    "plantTF = control.ss2tf(plantSS)\n",
    "PItf = control.TransferFunction(np.array([1]), np.array([1])) + control.TransferFunction(np.array([1]), np.array([0, 1]))\n",
    "G = PItf * plantTF\n",
    "control.root_locus(G, PrintGain=False)\n",
    "plt.show()"
   ]
  },
  {
   "cell_type": "markdown",
   "metadata": {},
   "source": [
    "#### c)"
   ]
  },
  {
   "cell_type": "code",
   "execution_count": 44,
   "metadata": {},
   "outputs": [
    {
     "data": {
      "image/png": "[encoded data removed]",
      "text/plain": [
       "<matplotlib.figure.Figure at 0x7fb27be70898>"
      ]
     },
     "metadata": {
      "needs_background": "light"
     },
     "output_type": "display_data"
    },
    {
     "data": {
      "image/png": "[encoded data removed]",
      "text/plain": [
       "<matplotlib.figure.Figure at 0x7fb27be5b3c8>"
      ]
     },
     "metadata": {
      "needs_background": "light"
     },
     "output_type": "display_data"
    }
   ],
   "source": [
    "plt.figure()\n",
    "control.bode_plot(G)\n",
    "plt.figure()\n",
    "control.nyquist_plot(G)\n",
    "plt.show()"
   ]
  },
  {
   "cell_type": "markdown",
   "metadata": {},
   "source": [
    "### Problem 4.4\n",
    "#### a)\n",
    "\\begin{eqnarray}\n",
    "A &=& \\begin{pmatrix}\n",
    "-0.746 & 0.006 & 0.001 & 0.0369 \\\\\n",
    "-12.9 & -0.746 & 0.387 & 0 \\\\\n",
    "4.31 & 0.024 & -0.0174 & 0 \\\\\n",
    "0 & 1 & 0 & 0 \\\\\n",
    "\\end{pmatrix}, \\\\\n",
    "B &=& \\begin{pmatrix}\n",
    "0.0012 & 0.0092 \\\\\n",
    "6.05 & 0.952 \\\\\n",
    "-0.416 & -1.76 \\\\\n",
    "0 & 0\n",
    "\\end{pmatrix}\n",
    "\\end{eqnarray}\n",
    "\n",
    "#### b)"
   ]
  },
  {
   "cell_type": "code",
   "execution_count": 45,
   "metadata": {},
   "outputs": [
    {
     "name": "stdout",
     "output_type": "stream",
     "text": [
      "[-1.31182557+0.j         -0.14760023+0.62779697j -0.14760023-0.62779697j\n",
      "                         0.09762603+0.j        ]                        \n"
     ]
    }
   ],
   "source": [
    "A = np.array([[-.746, .006, .001, .0369], [-12.9, -.746, .387, 0], [4.31, .024, -.0174, 0], [0, 1, 0, 0]])\n",
    "lam, v = np.linalg.eig(A)\n",
    "pprint(lam)"
   ]
  },
  {
   "cell_type": "markdown",
   "metadata": {},
   "source": [
    "The dutch roll mode is described by $s=-0.1477 \\pm 0.6278j$.  The roll subsidence mode is described by $s = -1.3118$.  The spiral mode is described by $s = 0.0976$.\n",
    "\n",
    "#### c)"
   ]
  },
  {
   "cell_type": "code",
   "execution_count": 48,
   "metadata": {},
   "outputs": [
    {
     "name": "stdout",
     "output_type": "stream",
     "text": [
      "Transfer function p(s) / deltaA(s)\n",
      "                 ⎛                  2                                         \n",
      "               s⋅⎝4.00821518484166⋅s  + 2.94295614151318⋅s - 0.040112296276666\n",
      "──────────────────────────────────────────────────────────────────────────────\n",
      "                   4        3                      2                          \n",
      "0.662514906585398⋅s  + 1.0⋅s  + 0.428169338810123⋅s  + 0.309525513714059⋅s - 0\n",
      "\n",
      " ⎞               \n",
      "2⎠               \n",
      "─────────────────\n",
      "                 \n",
      ".0352892003445077\n",
      "    -Zeros: [-0.74761697  0.01338589  0.        ]\n",
      "    -Poles: [-1.31182557+0.j         -0.14760023+0.62779697j -0.14760023-0.62779697j\n",
      "  0.09762603+0.j        ]\n",
      "\n",
      "Transfer function r(s) / deltaA(s)\n",
      "                         4                      3                       2     \n",
      "    - 0.297674418604651⋅s  - 0.303219749552773⋅s  + 0.0409134211091232⋅s  + 0.\n",
      "──────────────────────────────────────────────────────────────────────────────\n",
      "                   5        4                      3                      2   \n",
      "0.715563506261181⋅s  + 1.0⋅s  + 0.341593516994633⋅s  + 0.282561153974955⋅s  - \n",
      "\n",
      "                                          \n",
      "546444831600429⋅s - 0.0611879441152057    \n",
      "──────────────────────────────────────────\n",
      "                                          \n",
      "0.0755241173407943⋅s + 0.00426505300615385\n",
      "    -Zeros: [-1.0371158 +0.93322642j -1.0371158 -0.93322642j  0.94370276+0.j\n",
      "  0.1119    +0.j        ]\n",
      "    -Poles: [-1.31182557+0.j         -0.14760023+0.62779697j -0.14760023-0.62779697j\n",
      "  0.1119    +0.j          0.09762603+0.j        ]\n",
      "\n",
      "Transfer function p(s) / deltaR(s)\n",
      "                ⎛                   2                                         \n",
      "              s⋅⎝0.630714191069299⋅s  - 0.0483922088246985⋅s - 0.3073254320922\n",
      "──────────────────────────────────────────────────────────────────────────────\n",
      "                   4        3                      2                          \n",
      "0.662514906585398⋅s  + 1.0⋅s  + 0.428169338810123⋅s  + 0.309525513714059⋅s - 0\n",
      "\n",
      "  ⎞              \n",
      "22⎠              \n",
      "─────────────────\n",
      "                 \n",
      ".0352892003445077\n",
      "    -Zeros: [ 0.73746065 -0.6607346   0.        ]\n",
      "    -Poles: [-1.31182557+0.j         -0.14760023+0.62779697j -0.14760023-0.62779697j\n",
      "  0.09762603+0.j        ]\n",
      "\n",
      "Transfer function r(s) / deltaR(s)\n",
      "                         4                     3                      2       \n",
      "     - 1.25939177101968⋅s  - 1.69336386404293⋅s  - 0.544150312701252⋅s  - 0.40\n",
      "──────────────────────────────────────────────────────────────────────────────\n",
      "                   5        4                      3                      2   \n",
      "0.715563506261181⋅s  + 1.0⋅s  + 0.341593516994633⋅s  + 0.282561153974955⋅s  - \n",
      "\n",
      "                                          \n",
      "7284411131306⋅s + 0.0549589120692665      \n",
      "──────────────────────────────────────────\n",
      "                                          \n",
      "0.0755241173407943⋅s + 0.00426505300615385\n",
      "    -Zeros: [-1.23046487+0.j         -0.11301188+0.55151517j -0.11301188-0.55151517j\n",
      "  0.1119    +0.j        ]\n",
      "    -Poles: [-1.31182557+0.j         -0.14760023+0.62779697j -0.14760023-0.62779697j\n",
      "  0.1119    +0.j          0.09762603+0.j        ]\n",
      "\n"
     ]
    }
   ],
   "source": [
    "A = Matrix([[-.746, .006, .001, .0369], [-12.9, -.746, .387, 0], [4.31, .024, -.0174, 0], [0, 1, 0, 0]])\n",
    "Phi = ch3_utils.computeResolvent(A)\n",
    "# p(s) / deltaA(s)\n",
    "C = Matrix([[0, 1, 0, 0]])\n",
    "B = Matrix([[.0012],[6.05],[-.416],[0]])\n",
    "H = simplify(C*Phi*B)[0]\n",
    "print('Transfer function p(s) / deltaA(s)')\n",
    "pprint(H)\n",
    "n, d = fraction(H)\n",
    "num = np.array([float(p) for p in poly(n).all_coeffs()])\n",
    "den = np.array([float(p) for p in poly(d).all_coeffs()])\n",
    "G = control.TransferFunction(num, den)\n",
    "print('    -Zeros: {}'.format(G.zero()))\n",
    "print('    -Poles: {}'.format(G.pole()))\n",
    "print('')\n",
    "# r(s) / deltaA(s)\n",
    "C = Matrix([[0, 0, 1, 0]])\n",
    "H = simplify(C*Phi*B)[0]\n",
    "print('Transfer function r(s) / deltaA(s)')\n",
    "pprint(H)\n",
    "n, d = fraction(H)\n",
    "num = np.array([float(p) for p in poly(n).all_coeffs()])\n",
    "den = np.array([float(p) for p in poly(d).all_coeffs()])\n",
    "G = control.TransferFunction(num, den)\n",
    "print('    -Zeros: {}'.format(G.zero()))\n",
    "print('    -Poles: {}'.format(G.pole()))\n",
    "print('')\n",
    "# p(s) / deltaR(s)\n",
    "C = Matrix([[0, 1, 0, 0]])\n",
    "B = Matrix([[.0092],[0.952],[-1.76],[0]])\n",
    "H = simplify(C*Phi*B)[0]\n",
    "print('Transfer function p(s) / deltaR(s)')\n",
    "pprint(H)\n",
    "n, d = fraction(H)\n",
    "num = np.array([float(p) for p in poly(n).all_coeffs()])\n",
    "den = np.array([float(p) for p in poly(d).all_coeffs()])\n",
    "G = control.TransferFunction(num, den)\n",
    "print('    -Zeros: {}'.format(G.zero()))\n",
    "print('    -Poles: {}'.format(G.pole()))\n",
    "print('')# r(s) / deltaR(s)\n",
    "C = Matrix([[0, 0, 1, 0]])\n",
    "H = simplify(C*Phi*B)[0]\n",
    "print('Transfer function r(s) / deltaR(s)')\n",
    "pprint(H)\n",
    "n, d = fraction(H)\n",
    "num = np.array([float(p) for p in poly(n).all_coeffs()])\n",
    "den = np.array([float(p) for p in poly(d).all_coeffs()])\n",
    "G = control.TransferFunction(num, den)\n",
    "print('    -Zeros: {}'.format(G.zero()))\n",
    "print('    -Poles: {}'.format(G.pole()))\n",
    "print('')"
   ]
  },
  {
   "cell_type": "markdown",
   "metadata": {},
   "source": [
    "After computing the zeros and poles for each transfer function, it's clear that the pole-zero combinations for $p(s) / \\delta_A(s)$ and $r(s) / \\delta_R(s)$ are more amenable for control than the other pair; it requires less movement for pole-zero cancellation."
   ]
  },
  {
   "cell_type": "markdown",
   "metadata": {},
   "source": [
    "#### d)\n",
    "I'd need to find an $s_0$ such that the rank of $H(s)$ is reduced when $s=s_0$.  I can't think of a way to do this easily, so I'll just sketch out an approach.\n",
    "\n",
    "The rank of the resulting transfer matrix $H(s)$, which has all input-output transfer functions represented as $(i, j)$ entries in the matrix ($i$ corresponds to system output, $j$ to input).  The resulting $H(s)$ is $4 \\times 2$, so it has rank 2 _at most_.  I would try and find $s_0$ such that the two columns of $H(s)$ are linearly dependent.  Whenever this condition was met, $s_0$ would be a transmission zero for the process.\n",
    "\n",
    "I'd find the $4 \\times 2$ matrix $H(s)$ via the following cell.  I'd first factor out a common denominator and then I'd look at the resulting scaled matrix.  I would then row-reduce the transpose of that matrix to row-reduced echelon form and then solve for $s_0$ that would turn a row into a linear combination of the others."
   ]
  },
  {
   "cell_type": "code",
   "execution_count": 49,
   "metadata": {},
   "outputs": [
    {
     "name": "stdout",
     "output_type": "stream",
     "text": [
      "H(0, 0)\n",
      "        ⎛                      8                       7                      \n",
      "    1.0⋅⎝0.000568885787407855⋅s  + 0.0182408866274625⋅s  + 0.130251581209987⋅s\n",
      "──────────────────────────────────────────────────────────────────────────────\n",
      "                   9                     8                     7              \n",
      "0.474071489506546⋅s  + 1.37807841284658⋅s  + 1.53269315035438⋅s  + 1.178448994\n",
      "\n",
      "6                      5                       4                       3      \n",
      "  + 0.155153309249951⋅s  + 0.0558774649271001⋅s  + 0.0393957508638441⋅s  - 0.0\n",
      "──────────────────────────────────────────────────────────────────────────────\n",
      "       6                     5                     4                       3  \n",
      "20566⋅s  + 0.66305902052578⋅s  + 0.11872827480869⋅s  + 0.0473332659022544⋅s  -\n",
      "\n",
      "                 2                                               ⎞   \n",
      "114264117146682⋅s  + 0.000732296736037176⋅s - 5.80996009352629e-6⎠   \n",
      "─────────────────────────────────────────────────────────────────────\n",
      "                     2                                               \n",
      " 0.0315218334642727⋅s  + 0.00398532843042886⋅s - 0.000150510310014108\n",
      "\n",
      "H(0, 1)\n",
      "       ⎛                     8                       7                       6\n",
      "   1.0⋅⎝0.00436145770346022⋅s  + 0.0112982044779371⋅s  + 0.0235211273647575⋅s \n",
      "──────────────────────────────────────────────────────────────────────────────\n",
      "                   9                     8                     7              \n",
      "0.474071489506546⋅s  + 1.37807841284658⋅s  + 1.53269315035438⋅s  + 1.178448994\n",
      "\n",
      "                      5                        4                        3     \n",
      " + 0.012380325641365⋅s  - 0.00788862267262728⋅s  - 0.00047821206980725⋅s  - 0.\n",
      "──────────────────────────────────────────────────────────────────────────────\n",
      "       6                     5                     4                       3  \n",
      "20566⋅s  + 0.66305902052578⋅s  + 0.11872827480869⋅s  + 0.0473332659022544⋅s  -\n",
      "\n",
      "                  2                                              ⎞   \n",
      "0060548840266216⋅s  + 0.00131142935617842⋅s - 6.92911092915793e-5⎠   \n",
      "─────────────────────────────────────────────────────────────────────\n",
      "                     2                                               \n",
      " 0.0315218334642727⋅s  + 0.00398532843042886⋅s - 0.000150510310014108\n",
      "\n",
      "H(1, 0)\n",
      "                 ⎛                  2                                         \n",
      "               s⋅⎝4.00821518484166⋅s  + 2.94295614151318⋅s - 0.040112296276666\n",
      "──────────────────────────────────────────────────────────────────────────────\n",
      "                   4        3                      2                          \n",
      "0.662514906585398⋅s  + 1.0⋅s  + 0.428169338810123⋅s  + 0.309525513714059⋅s - 0\n",
      "\n",
      " ⎞               \n",
      "2⎠               \n",
      "─────────────────\n",
      "                 \n",
      ".0352892003445077\n",
      "\n",
      "H(1, 1)\n",
      "                ⎛                   2                                         \n",
      "              s⋅⎝0.630714191069299⋅s  - 0.0483922088246985⋅s - 0.3073254320922\n",
      "──────────────────────────────────────────────────────────────────────────────\n",
      "                   4        3                      2                          \n",
      "0.662514906585398⋅s  + 1.0⋅s  + 0.428169338810123⋅s  + 0.309525513714059⋅s - 0\n",
      "\n",
      "  ⎞              \n",
      "22⎠              \n",
      "─────────────────\n",
      "                 \n",
      ".0352892003445077\n",
      "\n",
      "H(2, 0)\n",
      "                         4                      3                       2     \n",
      "    - 0.297674418604651⋅s  - 0.303219749552773⋅s  + 0.0409134211091232⋅s  + 0.\n",
      "──────────────────────────────────────────────────────────────────────────────\n",
      "                   5        4                      3                      2   \n",
      "0.715563506261181⋅s  + 1.0⋅s  + 0.341593516994633⋅s  + 0.282561153974955⋅s  - \n",
      "\n",
      "                                          \n",
      "546444831600429⋅s - 0.0611879441152057    \n",
      "──────────────────────────────────────────\n",
      "                                          \n",
      "0.0755241173407943⋅s + 0.00426505300615385\n",
      "\n",
      "H(2, 1)\n",
      "                         4                     3                      2       \n",
      "     - 1.25939177101968⋅s  - 1.69336386404293⋅s  - 0.544150312701252⋅s  - 0.40\n",
      "──────────────────────────────────────────────────────────────────────────────\n",
      "                   5        4                      3                      2   \n",
      "0.715563506261181⋅s  + 1.0⋅s  + 0.341593516994633⋅s  + 0.282561153974955⋅s  - \n",
      "\n",
      "                                          \n",
      "7284411131306⋅s + 0.0549589120692665      \n",
      "──────────────────────────────────────────\n",
      "                                          \n",
      "0.0755241173407943⋅s + 0.00426505300615385\n",
      "\n",
      "H(3, 0)\n",
      "                                   2                                          \n",
      "                 4.00821518484166⋅s  + 2.94295614151318⋅s - 0.0401122962766662\n",
      "──────────────────────────────────────────────────────────────────────────────\n",
      "                   4        3                      2                          \n",
      "0.662514906585398⋅s  + 1.0⋅s  + 0.428169338810123⋅s  + 0.309525513714059⋅s - 0\n",
      "\n",
      "                 \n",
      "                 \n",
      "─────────────────\n",
      "                 \n",
      ".0352892003445077\n",
      "\n",
      "H(3, 1)\n",
      "                                   2                                          \n",
      "                0.630714191069299⋅s  - 0.0483922088246985⋅s - 0.30732543209222\n",
      "──────────────────────────────────────────────────────────────────────────────\n",
      "                   4        3                      2                          \n",
      "0.662514906585398⋅s  + 1.0⋅s  + 0.428169338810123⋅s  + 0.309525513714059⋅s - 0\n",
      "\n",
      "                 \n",
      "2                \n",
      "─────────────────\n",
      "                 \n",
      ".0352892003445077\n",
      "\n"
     ]
    }
   ],
   "source": [
    "numOutputs = 4\n",
    "numInputs = 2\n",
    "for i in range(numOutputs):\n",
    "    C = zeros(1,4)\n",
    "    C[i] = 1.\n",
    "    nc = []\n",
    "    dc = []\n",
    "    for j in range(numInputs):\n",
    "        if j == 0:\n",
    "            B = Matrix([[.0012],[6.05],[-.416],[0]])\n",
    "        else:\n",
    "            B = Matrix([[.0092],[0.952],[-1.76],[0]])\n",
    "        H = simplify(C*Phi*B)[0]\n",
    "        print('H({}, {})'.format(i,j))\n",
    "        pprint(H)\n",
    "        print('')\n",
    "        "
   ]
  },
  {
   "cell_type": "markdown",
   "metadata": {},
   "source": [
    "### Problem 4.5\n",
    "#### a)"
   ]
  },
  {
   "cell_type": "code",
   "execution_count": 50,
   "metadata": {},
   "outputs": [
    {
     "name": "stdout",
     "output_type": "stream",
     "text": [
      "[ 0.  +0.j         0.  +0.j        -0.75+2.2220486j -0.75-2.2220486j]\n"
     ]
    }
   ],
   "source": [
    "A = np.array([[0, -14, 0, 0], [0, -1, 1, 0], [0, -5, -.5, 0], [0, 0, 1, 0]])\n",
    "B = np.array([[-1], [-.1], [-9], [0]])\n",
    "C = np.eye(4)\n",
    "D = np.zeros((4,1))\n",
    "sys = control.StateSpace(A, B, C, D)\n",
    "pprint(sys.pole())"
   ]
  },
  {
   "cell_type": "markdown",
   "metadata": {},
   "source": [
    "The open-loop poles are $s=0$, with multiplicity 2, and a complex conjugate pair $s = -0.75 \\pm 2.222 i$.\n",
    "\n",
    "#### b)"
   ]
  },
  {
   "cell_type": "code",
   "execution_count": 51,
   "metadata": {},
   "outputs": [
    {
     "name": "stdout",
     "output_type": "stream",
     "text": [
      "theta(s) / deltaE(s):\n",
      "⎡                                      2                                      \n",
      "⎢                - 0.0662514906585398⋅s  + 6.18832648734597⋅s - 2.601427746124\n",
      "⎢─────────────────────────────────────────────────────────────────────────────\n",
      "⎢                   4        3                      2                         \n",
      "⎣0.662514906585398⋅s  + 1.0⋅s  + 0.428169338810123⋅s  + 0.309525513714059⋅s - \n",
      "\n",
      "                  ⎤\n",
      "29                ⎥\n",
      "──────────────────⎥\n",
      "                  ⎥\n",
      "0.0352892003445077⎦\n",
      "\n",
      "deltau(s) / deltaE(s):\n",
      "⎡                             8                     7                      6  \n",
      "⎢        - 0.474071489506546⋅s  - 1.02897216797396⋅s  - 0.755030754202703⋅s  -\n",
      "⎢─────────────────────────────────────────────────────────────────────────────\n",
      "⎢                   9                     8                     7             \n",
      "⎣0.474071489506546⋅s  + 1.37807841284658⋅s  + 1.53269315035438⋅s  + 1.17844899\n",
      "\n",
      "                    5                      4                         3        \n",
      " 0.446291427009702⋅s  - 0.187783759714934⋅s  + 0.000198058901817677⋅s  - 0.024\n",
      "──────────────────────────────────────────────────────────────────────────────\n",
      "        6                     5                     4                       3 \n",
      "420566⋅s  + 0.66305902052578⋅s  + 0.11872827480869⋅s  + 0.0473332659022544⋅s  \n",
      "\n",
      "               2                                                      ⎤\n",
      "5042133414924⋅s  + 0.00633503699684281⋅s - 0.000363343030334783       ⎥\n",
      "──────────────────────────────────────────────────────────────────────⎥\n",
      "                      2                                               ⎥\n",
      "- 0.0315218334642727⋅s  + 0.00398532843042886⋅s - 0.000150510310014108⎦\n",
      "\n"
     ]
    }
   ],
   "source": [
    "# from deltaE to theta\n",
    "C = Matrix([[0, 0, 0, 1]])\n",
    "H1 = simplify(C*Phi*B)\n",
    "print('theta(s) / deltaE(s):')\n",
    "pprint(H1)\n",
    "print('')\n",
    "# from deltaE to deltau\n",
    "C = Matrix([[1, 0, 0, 0]])\n",
    "H2 = simplify(C*Phi*B)\n",
    "print('deltau(s) / deltaE(s):')\n",
    "pprint(H2)\n",
    "print('')"
   ]
  },
  {
   "cell_type": "markdown",
   "metadata": {},
   "source": [
    "### Problem 4.6\n"
   ]
  },
  {
   "cell_type": "code",
   "execution_count": 52,
   "metadata": {},
   "outputs": [
    {
     "name": "stdout",
     "output_type": "stream",
     "text": [
      "⎡                           2                                                 \n",
      "⎣3.04⋅K₁ + 36.32, 335.616⋅K₁  + 4009.724⋅K₁ + 206.2⋅K₂ + 6624.768, 613.9⋅K₁⋅K₂\n",
      "\n",
      "                  2                                                           \n",
      "⋅(3.04⋅K₁ + 36.32)  + (3.04⋅K₁ + 36.32)⋅(110.4⋅K₁ + 182.4)⋅(554.5⋅K₁ - 206.2⋅K\n",
      "\n",
      "                          2        ⎛                   3                      \n",
      "₂) - (554.5⋅K₁ - 206.2⋅K₂) , K₁⋅K₂⋅⎝- 3482911.457536⋅K₁ ⋅K₂ - 114246220.3008⋅K\n",
      "\n",
      " 3                     2                        2                             \n",
      "₁  - 40738905.335296⋅K₁ ⋅K₂ - 1364940323.0162⋅K₁  - 59765823.5307839⋅K₁⋅K₂ - 2\n",
      "\n",
      "                                   2                     ⎞⎤\n",
      "255121044.1984⋅K₁ + 26102070.316⋅K₂  + 838604074.50624⋅K₂⎠⎦\n"
     ]
    }
   ],
   "source": [
    "K1, K2, K3 = symbols('K1 K2 K3')\n",
    "Dcoeffs = [1.0, 36.32+3.04*K1, 182.4+110.4*K1, 554.5*K1 - 206.2*K2, -613.9*K1*K2]  # typo in book, 36.62 vs. 36.32\n",
    "dets = ch4_utils.hurwitz(Dcoeffs)\n",
    "pprint(dets)"
   ]
  },
  {
   "cell_type": "code",
   "execution_count": 53,
   "metadata": {},
   "outputs": [
    {
     "data": {
      "image/png": "[encoded data removed]",
      "text/plain": [
       "<matplotlib.figure.Figure at 0x7fb27b176d68>"
      ]
     },
     "metadata": {
      "needs_background": "light"
     },
     "output_type": "display_data"
    }
   ],
   "source": [
    "def f(k1, k2):\n",
    "    c1 = 3.04*k1 + 36.32 > 0\n",
    "    c2 = 335.616*k1**2 + 4009.724*k1 + 206.2*k2 + 6624.768 > 0\n",
    "    c3 = 613.9*k1*k2*(3.04*k1 + 36.32)**2 + (3.04*k1 + 36.32)*(110.4*k1 + 182.4)*(554.5*k1 - 206.2*k2) - (554.5*k1-206.2*k2)**2 > 0\n",
    "    c4 = k1*k2*(-3482911.457536 * k1**3 * k2 - 114246220.3008 * k1**3 - 40738905.335296 * k1**2 * k2 - 1364940323.0162 * k1**2 - 59765823.5307839 * k1 * k2 - 2255121044.1984 * k1 + 26102070.316 * k2**2 + 838604074.50624 * k2) > 0\n",
    "    return int(c1 and c2 and c3 and c4)\n",
    "\n",
    "vf = np.vectorize(f)\n",
    "gs = np.linspace(-10, 50, 301)\n",
    "hs = np.linspace(-10, 50, 301)\n",
    "X = np.meshgrid(gs,hs)\n",
    "out = vf(X[0], -X[1])\n",
    "plt.imshow(out, origin='lower', extent=(-10, 50, -10, 50))\n",
    "plt.xlabel('k1')\n",
    "plt.ylabel('k2')\n",
    "plt.title('Stability Region (in yellow)')\n",
    "plt.show()"
   ]
  },
  {
   "cell_type": "markdown",
   "metadata": {},
   "source": [
    "The stability region above is larger than the one predicted by the book; the $K_1$ term appears to continue on past $50$.  The $K_2$ term looks about right though, and the Hurwitz matrix (minus the typos) matches the book's."
   ]
  },
  {
   "cell_type": "markdown",
   "metadata": {},
   "source": [
    "### Problem 4.7\n",
    "#### a)"
   ]
  },
  {
   "cell_type": "code",
   "execution_count": 54,
   "metadata": {},
   "outputs": [
    {
     "name": "stdout",
     "output_type": "stream",
     "text": [
      "[ 0.          0.         -0.0591     -0.14254842 -1.10135158]\n"
     ]
    }
   ],
   "source": [
    "A = np.array([[0, -.00156, -.0711, 0, 0], [0, -.1419, .0711, 0, 0], [0, -.00875, -1.102, 0, 0], [0, -.00128, -.1489, 0, -.0013], [0, .0605, .1489, 0, -.0591]])\n",
    "B = np.array([[0, -.143, 0], [0, 0, 0], [.392, 0, 0], [0, .108, -.0592], [0, -.0486, 0]])\n",
    "C = np.eye(5)\n",
    "D = np.zeros((5,3))\n",
    "E = np.array([[.2174, 0, 0], [-.074, .1434, 0], [-.036, 0, 0.1814], [0, 0, 0], [0, 0, 0]])\n",
    "\n",
    "sys = control.StateSpace(A, B, C, D)\n",
    "pprint(sys.pole())"
   ]
  },
  {
   "cell_type": "markdown",
   "metadata": {},
   "source": [
    "The open-loop poles are $s=0$, with multiplicity 2, $s=-0.0591$, $s=-0.1425$, and $s=-1.1014$.  All poles are real and negative $\\implies$ stability.\n",
    "\n",
    "#### b)"
   ]
  },
  {
   "cell_type": "code",
   "execution_count": 56,
   "metadata": {},
   "outputs": [
    {
     "name": "stdout",
     "output_type": "stream",
     "text": [
      "Observation Matrix:\n",
      "⎡1  0  0  0  0⎤\n",
      "⎢             ⎥\n",
      "⎣0  0  0  1  0⎦\n",
      "\n",
      "\n",
      "\n",
      "x1(s) / u1(s)\n",
      " ⎛                      2                                             ⎞ \n",
      "-⎝3.46944695195361e-18⋅s  + 0.0224063027574564⋅s + 0.00321440819358469⎠ \n",
      "────────────────────────────────────────────────────────────────────────\n",
      "            ⎛                   2                            ⎞          \n",
      "          s⋅⎝0.803923144947343⋅s  + 1.0⋅s + 0.126212657769917⎠          \n",
      "\n",
      "\n",
      "\n",
      "x1(s) / u2(s)\n",
      "-0.143 \n",
      "───────\n",
      "   s   \n",
      "\n",
      "\n",
      "\n",
      "x1(s) / u3(s)\n",
      "\n",
      "\n",
      "\n",
      "0\n",
      "\n",
      "\n",
      "\n",
      "\n",
      "\n",
      "x4(s) / u1(s)\n",
      "    ⎛                      5                       4                       3  \n",
      "1.0⋅⎝3.46944695195361e-18⋅s  - 0.0229175860850446⋅s  - 0.0331574202740587⋅s  -\n",
      "──────────────────────────────────────────────────────────────────────────────\n",
      "              ⎛                   5        4                      3           \n",
      "            s⋅⎝0.392634182731949⋅s  + 1.0⋅s  + 0.788530385959402⋅s  + 0.196543\n",
      "\n",
      "                      2                                               ⎞\n",
      " 0.00958050451342888⋅s  - 0.000976496519761018⋅s - 3.11024064661291e-5⎠\n",
      "───────────────────────────────────────────────────────────────────────\n",
      "           2                                              ⎞            \n",
      "270117005⋅s  + 0.0187406930713857⋅s + 0.000571942471073223⎠            \n",
      "x4(s) / u2(s)\n",
      "\n",
      "\n",
      "\n",
      "    ⎛                    5                      4                       3     \n",
      "1.0⋅⎝0.0424044917350504⋅s  + 0.108024806627665⋅s  + 0.0852229956119204⋅s  + 0.\n",
      "──────────────────────────────────────────────────────────────────────────────\n",
      "           ⎛                   5        4                      3              \n",
      "         s⋅⎝0.392634182731949⋅s  + 1.0⋅s  + 0.788530385959402⋅s  + 0.196543270\n",
      "\n",
      "                  2                                              ⎞\n",
      "0212728452292586⋅s  + 0.00203368368696928⋅s + 6.23812137003143e-5⎠\n",
      "──────────────────────────────────────────────────────────────────\n",
      "        2                                              ⎞          \n",
      "117005⋅s  + 0.0187406930713857⋅s + 0.000571942471073223⎠          \n",
      "\n",
      "\n",
      "\n",
      "x4(s) / u3(s)\n",
      "\n",
      "\n",
      "\n",
      "-0.0592 \n",
      "────────\n",
      "   s    \n",
      "\n",
      "\n",
      "\n"
     ]
    }
   ],
   "source": [
    "A = Matrix([[0, -.00156, -.0711, 0, 0], [0, -.1419, .0711, 0, 0], [0, -.00875, -1.102, 0, 0], [0, -.00128, -.1489, 0, -.0013], [0, .0605, .1489, 0, -.0591]])\n",
    "B = Matrix([[0, -.143, 0], [0, 0, 0], [.392, 0, 0], [0, .108, -.0592], [0, -.0486, 0]])\n",
    "Phi = ch3_utils.computeResolvent(A)\n",
    "obs = Matrix([[1, 0, 0, 0, 0], [0, 0, 0, 1, 0]])\n",
    "print('Observation Matrix:')\n",
    "pprint(obs)\n",
    "print('\\n\\n')\n",
    "\n",
    "C = Matrix([[1, 0, 0, 0, 0]])\n",
    "\n",
    "print('x1(s) / u1(s)')\n",
    "B = Matrix([[0], [0], [.392], [0], [0]])\n",
    "pprint(simplify(C*Phi*B)[0])\n",
    "print('\\n\\n')\n",
    "print('x1(s) / u2(s)')\n",
    "B = Matrix([[-.143], [0], [0], [.108], [-.0486]])\n",
    "pprint(simplify(C*Phi*B)[0])\n",
    "print('\\n\\n')\n",
    "print('x1(s) / u3(s)')\n",
    "print('\\n\\n')\n",
    "B = Matrix([[0], [0], [0], [-.0592], [0]])\n",
    "pprint(simplify(C*Phi*B)[0])\n",
    "print('\\n\\n\\n\\n')\n",
    "\n",
    "C = Matrix([[0, 0, 0, 1, 0]])\n",
    "\n",
    "print('x4(s) / u1(s)')\n",
    "B = Matrix([[0], [0], [.392], [0], [0]])\n",
    "pprint(simplify(C*Phi*B)[0])\n",
    "print('x4(s) / u2(s)')\n",
    "print('\\n\\n')\n",
    "B = Matrix([[-.143], [0], [0], [.108], [-.0486]])\n",
    "pprint(simplify(C*Phi*B)[0])\n",
    "print('\\n\\n')\n",
    "print('x4(s) / u3(s)')\n",
    "print('\\n\\n')\n",
    "B = Matrix([[0], [0], [0], [-.0592], [0]])\n",
    "pprint(simplify(C*Phi*B)[0])\n",
    "print('\\n\\n')"
   ]
  },
  {
   "cell_type": "markdown",
   "metadata": {},
   "source": [
    "### Problem 4.8\n",
    "#### a)"
   ]
  },
  {
   "cell_type": "code",
   "execution_count": 58,
   "metadata": {},
   "outputs": [],
   "source": [
    "A = Matrix([[0, -.00156, -.0711, 0.143*K2, 0], [0, -.1419, .0711, 0, 0], [-.392*K1, -.00875, -1.102, 0, 0], [0, -.00128, -.1489, -.108*K2, -.0013], [0, .0605, .1489, .0486*K1, -.0591]])\n",
    "B = Matrix([[0, -.143*K2, 0], [0, 0, 0], [.392*K1, 0, 0], [0, .108*K2, -.0592], [0, -.0486*K2, 0]])\n",
    "C = Matrix([[1, 0, 0, 0, 0]])\n",
    "res = ch3_utils.computeResolvent(A, imag=False, smplfy=False)\n",
    "M = simplify(C*res*B)[0]\n",
    "C = Matrix([[0, 0, 0, 1, 0]])\n",
    "n, d = fraction(M)\n",
    "denCoeffs = [-1.44471785472e-8, \n",
    "             -1.5602952830976e-9*K2 - 1.88246736470016e-8, \n",
    "             -3.33022512249417e-9 - 2.03306475387617e-9*K2 + 4.01747429984109e-10*K1,\n",
    "             2.01948391736579e-28 * K1**2 + 1.6407412184584e-10 * K1 * K2 + 8.0427452651872e-11 * K1 - 1.34047556235777e-10,\n",
    "             2.54400716081478e-14 * K1**2 + 3.32772044714127e-11 * K1 * K2 + 3.27064729083152e-12 * K1 - 1.44771360734639e-11 * K2,\n",
    "             3.64963267290489e-15 * K1**2 + 1.41111171520274e-12 * K1 * K2\n",
    "            ]"
   ]
  },
  {
   "cell_type": "code",
   "execution_count": 59,
   "metadata": {},
   "outputs": [
    {
     "name": "stdout",
     "output_type": "stream",
     "text": [
      "⎡                                                                             \n",
      "⎣-1.44471785472e-08, -1.5602952830976e-9⋅K₂ - 1.88246736470016e-8, 4.017474299\n",
      "\n",
      "                                                                              \n",
      "84109e-10⋅K₁ - 2.03306475387617e-9⋅K₂ - 3.33022512249417e-9, 2.01948391736579e\n",
      "\n",
      "      2                                                                       \n",
      "-28⋅K₁  + 1.6407412184584e-10⋅K₁⋅K₂ + 8.0427452651872e-11⋅K₁ - 1.3404755623577\n",
      "\n",
      "                              2                                               \n",
      "7e-10, 2.54400716081478e-14⋅K₁  + 3.32772044714127e-11⋅K₁⋅K₂ + 3.2706472908315\n",
      "\n",
      "                                                           2                  \n",
      "2e-12⋅K₁ - 1.44771360734639e-11⋅K₂, 3.64963267290489e-15⋅K₁  + 1.4111117152027\n",
      "\n",
      "           ⎤\n",
      "4e-12⋅K₁⋅K₂⎦\n",
      "⎡                                         2                                   \n",
      "⎣0.108⋅K₂ + 1.303, 1.39783966174986e-20⋅K₁  + 0.00835356183999998⋅K₁⋅K₂ - 0.03\n",
      "\n",
      "                             2                                                \n",
      "066684939⋅K₁ + 0.015198192⋅K₂  + 0.20825849682⋅K₂ + 0.2910766115775, - 1.95395\n",
      "\n",
      "                4                          3                             3    \n",
      "571996097e-40⋅K₁  - 2.75519646669034e-22⋅K₁ ⋅K₂ + 3.50855640447375e-22⋅K₁  - 9\n",
      "\n",
      "                     2   2                          2                         \n",
      ".48494258384628e-5⋅K₁ ⋅K₂  + 0.000302242169068602⋅K₁ ⋅K₂ + 0.00017338288443496\n",
      "\n",
      "    2                             3                            2              \n",
      "5⋅K₁  - 0.000145736739267888⋅K₁⋅K₂  - 0.00180939346433065⋅K₁⋅K₂  - 0.000540443\n",
      "\n",
      "                                                                3             \n",
      "895709508⋅K₁⋅K₂ - 0.0015206036345384⋅K₁ - 1.16881863548097e-5⋅K₂  - 0.00014101\n",
      "\n",
      "             2                                                                \n",
      "5803891825⋅K₂  + 0.000230988399112185⋅K₂ + 0.00270074245513609, 3.440725348036\n",
      "\n",
      "         6                          5                             5           \n",
      "28e-46⋅K₁  + 4.85163211474968e-28⋅K₁ ⋅K₂ - 7.16018487167673e-28⋅K₁  + 1.670205\n",
      "\n",
      "               4   2                         4                             4  \n",
      "83115162e-10⋅K₁ ⋅K₂  - 5.9085332429748e-10⋅K₁ ⋅K₂ - 8.93649489898064e-11⋅K₁  +\n",
      "\n",
      "                       3   3                         3   2                    \n",
      " 2.18729994952404e-7⋅K₁ ⋅K₂  - 6.93934515719473e-7⋅K₁ ⋅K₂  - 3.84669791996951e\n",
      "\n",
      "     3                            3                         2   4             \n",
      "-7⋅K₁ ⋅K₂ - 4.03299416938956e-8⋅K₁  + 3.35685701936201e-7⋅K₁ ⋅K₂  + 4.20404894\n",
      "\n",
      "            2   3                         2   2                         2     \n",
      "369815e-6⋅K₁ ⋅K₂  + 1.45274612586103e-6⋅K₁ ⋅K₂  + 2.36809806674641e-6⋅K₁ ⋅K₂ +\n",
      "\n",
      "                       2                            4                         \n",
      " 3.56438283685991e-7⋅K₁  + 8.97832931274887e-8⋅K₁⋅K₂  + 1.7084513281062e-6⋅K₁⋅\n",
      "\n",
      "  3                            2                                              \n",
      "K₂  + 7.52054641074542e-6⋅K₁⋅K₂  - 1.24331582487075e-6⋅K₁⋅K₂ - 6.1141183832302\n",
      "\n",
      "                                4                         3                   \n",
      "5e-7⋅K₁ - 1.17124228622051e-8⋅K₂  - 1.41308212865308e-7⋅K₂  + 2.31467374367488\n",
      "\n",
      "      2                              ⎛                        7               \n",
      "e-7⋅K₂  + 2.70634268792669e-6⋅K₂, K₁⋅⎝- 8.6919280520133e-53⋅K₁  - 1.2256147472\n",
      "\n",
      "           6                             6                          5   2     \n",
      "0175e-34⋅K₁ ⋅K₂ + 1.80879917600072e-34⋅K₁  - 4.21925828073097e-17⋅K₁ ⋅K₂  + 1.\n",
      "\n",
      "                     5                             5                          \n",
      "49260811736038e-16⋅K₁ ⋅K₂ + 2.25752894643146e-17⋅K₁  - 7.15689111377953e-14⋅K₁\n",
      "\n",
      "4   3                          4   2                          4               \n",
      " ⋅K₂  + 2.33012011190331e-13⋅K₁ ⋅K₂  + 1.05903541137873e-13⋅K₁ ⋅K₂ + 1.0188111\n",
      "\n",
      "              4                          3   4                          3   3 \n",
      "9847389e-14⋅K₁  - 2.14490038201434e-11⋅K₁ ⋅K₂  + 6.67172408219932e-11⋅K₁ ⋅K₂  \n",
      "\n",
      "                         3   2                          3                     \n",
      "+ 3.72051925909986e-11⋅K₁ ⋅K₂  + 3.34095442670455e-12⋅K₁ ⋅K₂ - 9.0043104386403\n",
      "\n",
      "        3                          2   5                          2   4       \n",
      "3e-14⋅K₁  - 3.27877187286534e-11⋅K₁ ⋅K₂  - 4.10648374864036e-10⋅K₁ ⋅K₂  - 1.42\n",
      "\n",
      "                   2   3                          2   2                       \n",
      "326911132661e-10⋅K₁ ⋅K₂  - 2.33201115749105e-10⋅K₁ ⋅K₂  - 3.45006182467008e-11\n",
      "\n",
      "   2                             2                             5              \n",
      "⋅K₁ ⋅K₂ + 1.54454284236491e-13⋅K₁  - 8.76948092997961e-12⋅K₁⋅K₂  - 1.668680794\n",
      "\n",
      "               4                             3                             2  \n",
      "68044e-10⋅K₁⋅K₂  - 7.34525110712003e-10⋅K₁⋅K₂  + 1.21380984498162e-10⋅K₁⋅K₂  +\n",
      "\n",
      "                                                     5                        \n",
      " 5.90352814140743e-11⋅K₁⋅K₂ + 1.14399756743293e-12⋅K₂  + 1.38021187996769e-11⋅\n",
      "\n",
      "  4                         3                          2⎞⎤\n",
      "K₂  - 2.2608312245195e-11⋅K₂  - 2.64338940631891e-10⋅K₂ ⎠⎦\n"
     ]
    }
   ],
   "source": [
    "pprint(denCoeffs)\n",
    "dets = ch4_utils.hurwitz(denCoeffs)\n",
    "pprint(dets)"
   ]
  },
  {
   "cell_type": "code",
   "execution_count": 60,
   "metadata": {},
   "outputs": [
    {
     "data": {
      "image/png": "[encoded data removed]",
      "text/plain": [
       "<matplotlib.figure.Figure at 0x7fb27b1768d0>"
      ]
     },
     "metadata": {
      "needs_background": "light"
     },
     "output_type": "display_data"
    }
   ],
   "source": [
    "def f(k1, k2):\n",
    "    c1 = 0.108*k2 + 1.303 > 0\n",
    "    c2 = 1.398e-20*k1**2 + 8.3536e-3*k1*k2 -3.067e-2*k1 + 1.520e-2*k2**2 + .2083*k2 + .2911 > 0\n",
    "    c3 = -1.954e-40*k1**4 - 2.7552e-22*k1**3*k2 + 3.509e-22*k1**3 - 9.485e-5*k1**2*k2**2 + 3.022e-4*k1**2*k2 + 1.734e-4*k1**2 - 1.457e-4*k1*k2**3 - 1.809e-3*k1*k2**2 - 5.404e-4*k1*k2 - 1.521e-3*k1 - 1.169e-5*k2**3 - 1.4101e-4*k2**2 + 2.310e-4*k2 + 2.701e-3 > 0\n",
    "    c4 = 3.441e-46*k1**6 + 4.852e-28*k1**5*k2 - 7.160e-28*k1**5 + 1.6702e-10*k1**4*k2**2 - 5.909e-10*k1**4*k2 - 8.936e-11*k1**4 + 2.187e-7*k1**3*k2**3 - 6.939e-7*k1**3*k2**2 - 3.847e-7*k1**3*k2 - 4.033e-8*k1**3 + 3.357e-7*k1**2*k2**4 + 4.204e-6*k1**2*k2**3 + 1.453e-6*k1**2*k2**2 + 2.368e-6*k1**2*k2 + 3.564e-7*k1**2 + 8.978e-8*k1*k2**4 + 1.708e-6*k1*k2**3 + 7.521e-6*k1*k2**2 - 1.243e-6*k1*k2 - 6.114e-7*k1 - 1.171e-8*k2**4 - 1.413e-7*k2**3 + 2.3147e-7*k2**2 + 2.706e-6*k2 > 0\n",
    "    c5 = k1*(-8.692e-53*k1**7 - 1.226e-34*k1**6*k2 + 1.809e-34*k1**6 - 4.219e-17*k1**5*k2**2 + 1.493e-16*k1**5*k2 + 2.258e-17*k1**5 - 7.157e-14*k1**4*k2**3 + 2.330e-13*k1**4*k2**2 + 1.059e-13*k1**4*k2 + 1.0188e-14*k1**4 - 2.145e-11*k1**3*k2**4 + 6.672e-11*k1**3*k2**3 + 3.721e-11*k1**3*k2**2 + 3.341e-12*k1**3*k2 - 9.003e-14*k1**3 - 3.279e-11*k1**2*k2**5 - 4.106e-10*k1**2*k2**4 - 1.423e-10*k1**2*k2**3 - 2.332e-10*k1**2*k2**2 - 3.450e-11*k1**2*k2 + 1.545e-13*k1**2 - 8.769e-12*k1*k2**5 - 1.667e-10*k1*k2**4 - 7.345e-10*k1*k2**3 + 1.214e-10*k1*k2**2 + 5.904e-11*k1*k2 + 1.44e-12*k2**5 + 1.380e-11*k2**4 - 2.261e-11*k2**3 - 2.643e-10*k2**2) > 0\n",
    "    return int(c1 and c2 and c3 and c4 and c5)\n",
    "\n",
    "vf = np.vectorize(f)\n",
    "gs = np.linspace(-25, 5, 301)\n",
    "hs = np.linspace(-25, 5, 301)\n",
    "X = np.meshgrid(gs,hs)\n",
    "out = vf(X[0], -X[1])\n",
    "plt.imshow(out, origin='lower', extent=(-10, 50, -10, 50))\n",
    "plt.xlabel('k1')\n",
    "plt.ylabel('k2')\n",
    "plt.title('Stability Region (in yellow)')\n",
    "plt.show()"
   ]
  },
  {
   "cell_type": "markdown",
   "metadata": {},
   "source": [
    "#### b) and c)"
   ]
  },
  {
   "cell_type": "code",
   "execution_count": 62,
   "metadata": {},
   "outputs": [
    {
     "name": "stdout",
     "output_type": "stream",
     "text": [
      " ⎛⎛                                          ⎛     2                          \n",
      " ⎜⎜    ⎛       2                           ⎞ ⎜    _             _             \n",
      "-⎝⎝1.0⋅⎝- 1.0⋅w  + 1.2439⋅ⅈ⋅w + 0.156995925⎠⋅⎝1.0⋅w  + 1.2439⋅ⅈ⋅w - 0.15699592\n",
      "──────────────────────────────────────────────────────────────────────────────\n",
      "                                                                              \n",
      "                                                                              \n",
      "                                                                              \n",
      "                                                                              \n",
      "\n",
      " ⎞                                                                            \n",
      " ⎟ ⎛              4                    3                         2            \n",
      "5⎠⋅⎝0.02042908⋅ⅈ⋅w  + 0.0295570217936⋅w  - 0.0085402054308382⋅ⅈ⋅w  - 0.0008704\n",
      "──────────────────────────────────────────────────────────────────────────────\n",
      "                                                                              \n",
      "                                                                              \n",
      "                                                                              \n",
      "                                                                              \n",
      "\n",
      "                                       ⎛⎛           5                4        \n",
      "                                     ⎞ ⎜⎜          _                _         \n",
      "63645162769⋅w + 2.77251516600044e-5⋅ⅈ⎠⋅⎝⎝0.00875⋅ⅈ⋅w  - 0.022285375⋅w  - 0.017\n",
      "──────────────────────────────────────────────────────────────────────────────\n",
      "                                                                              \n",
      "                                                                              \n",
      "                                                                              \n",
      "                                                                              \n",
      "\n",
      "            3                        2                                        \n",
      "           _                        _                           _             \n",
      "57269535⋅ⅈ⋅w  + 0.00438004047828375⋅w  + 0.000417643372855731⋅ⅈ⋅w - 1.27459524\n",
      "──────────────────────────────────────────────────────────────────────────────\n",
      "                                                                              \n",
      "                                                                              \n",
      "                                                                              \n",
      "                                                                              \n",
      "\n",
      "         ⎞             5                  4                    3              \n",
      "         ⎟ _          _                  _                    _               \n",
      "462934e-5⎠⋅w + 0.0378⋅w  + 0.096294933⋅ⅈ⋅w  - 0.0759690566334⋅w  - 0.018962933\n",
      "──────────────────────────────────────────────────────────────────────────────\n",
      "                                                                              \n",
      "                                                                              \n",
      "                                                                              \n",
      "                                                                              \n",
      "\n",
      "           2                                                ⎞   ⎛          2  \n",
      "          _                        _                        ⎟   ⎜         _   \n",
      "3300396⋅ⅈ⋅w  + 0.00181285614381972⋅w + 5.56075496106657e-5⋅ⅈ⎠ - ⎝- 5.72⋅ⅈ⋅w  +\n",
      "──────────────────────────────────────────────────────────────────────────────\n",
      "                                                                              \n",
      "                                                                              \n",
      "                                                                              \n",
      "                                                                              \n",
      "\n",
      "                           ⎞                                                  \n",
      "          _                ⎟ ⎛  ⎛       2                           ⎞         \n",
      " 7.115108⋅w + 0.898016691⋅ⅈ⎠⋅⎝w⋅⎝- 1.0⋅w  + 1.2439⋅ⅈ⋅w + 0.156995925⎠ - 1.1148\n",
      "──────────────────────────────────────────────────────────────────────────────\n",
      "                                                                              \n",
      "                                                                              \n",
      "                                                                              \n",
      "                                                                              \n",
      "\n",
      "                                                                              \n",
      "                      ⎞ ⎛           5                4                    3   \n",
      "48⋅w + 0.15993609408⋅ⅈ⎠⋅⎝0.00875⋅ⅈ⋅w  + 0.022285375⋅w  - 0.01757269535⋅ⅈ⋅w  - \n",
      "──────────────────────────────────────────────────────────────────────────────\n",
      "                                                                              \n",
      "                                                                              \n",
      "                                                                              \n",
      "                                                                              \n",
      "\n",
      "                                                                         ⎛    \n",
      "                     2                                                 ⎞ ⎜    \n",
      "0.00438004047828375⋅w  + 0.000417643372855731⋅ⅈ⋅w + 1.27459524462934e-5⎠⋅⎝0.00\n",
      "──────────────────────────────────────────────────────────────────────────────\n",
      "                                                                              \n",
      "                                                                              \n",
      "                                                                              \n",
      "                                                                              \n",
      "\n",
      "       5                4                    3                        2       \n",
      "      _                _                    _                        _        \n",
      "875⋅ⅈ⋅w  - 0.022285375⋅w  - 0.01757269535⋅ⅈ⋅w  + 0.00438004047828375⋅w  + 0.00\n",
      "──────────────────────────────────────────────────────────────────────────────\n",
      "                                                                              \n",
      "                                                                              \n",
      "                                                                              \n",
      "                                                                              \n",
      "\n",
      "                                          ⎞⎞ ⎛                                \n",
      "                   _                      ⎟⎟ ⎜    ⎛       2                   \n",
      "0417643372855731⋅ⅈ⋅w - 1.27459524462934e-5⎠⎠⋅⎝1.0⋅⎝- 1.0⋅w  + 1.2439⋅ⅈ⋅w + 0.1\n",
      "──────────────────────────────────────────────────────────────────────────────\n",
      "                                                                              \n",
      "                                                                              \n",
      "                                                                              \n",
      "                                                                              \n",
      "\n",
      "          ⎛     2                           ⎞ ⎛              4                \n",
      "        ⎞ ⎜    _             _              ⎟ ⎜             _                 \n",
      "56995925⎠⋅⎝1.0⋅w  + 1.2439⋅ⅈ⋅w - 0.156995925⎠⋅⎝0.02042908⋅ⅈ⋅w  - 0.02955702179\n",
      "──────────────────────────────────────────────────────────────────────────────\n",
      "                                                                              \n",
      "                                                                              \n",
      "                                                                              \n",
      "                                                                              \n",
      "\n",
      "    3                         2                                               \n",
      "   _                         _                         _                      \n",
      "36⋅w  - 0.0085402054308382⋅ⅈ⋅w  + 0.000870463645162769⋅w + 2.77251516600044e-5\n",
      "──────────────────────────────────────────────────────────────────────────────\n",
      "                                                                              \n",
      "                                                                              \n",
      "                                                                              \n",
      "                                                                              \n",
      "\n",
      "  ⎞                                                                           \n",
      "  ⎟ ⎛          5                  4                    3                      \n",
      "⋅ⅈ⎠⋅⎝- 0.0378⋅w  + 0.096294933⋅ⅈ⋅w  + 0.0759690566334⋅w  - 0.0189629333300396⋅\n",
      "──────────────────────────────────────────────────────────────────────────────\n",
      "                                                                              \n",
      "                                                                              \n",
      "                                                                              \n",
      "                                                                              \n",
      "\n",
      "                                                                              \n",
      "   2     ⎛           5                4                    3                  \n",
      "ⅈ⋅w  + w⋅⎝0.00875⋅ⅈ⋅w  + 0.022285375⋅w  - 0.01757269535⋅ⅈ⋅w  - 0.0043800404782\n",
      "──────────────────────────────────────────────────────────────────────────────\n",
      "                                                                              \n",
      "                                                                              \n",
      "                                                                              \n",
      "                                                                              \n",
      "\n",
      "                                                                              \n",
      "      2                                                 ⎞                     \n",
      "8375⋅w  + 0.000417643372855731⋅ⅈ⋅w + 1.27459524462934e-5⎠ - 0.0018128561438197\n",
      "──────────────────────────────────────────────────────────────────────────────\n",
      "                                                                              \n",
      "                                                                              \n",
      "                                                                              \n",
      "                                                                              \n",
      "\n",
      "                                                                        ⎛⎛    \n",
      "                           ⎞   ⎛        2                             ⎞ ⎜⎜    \n",
      "2⋅w + 5.56075496106657e-5⋅ⅈ⎠ + ⎝5.72⋅ⅈ⋅w  + 7.115108⋅w - 0.898016691⋅ⅈ⎠⋅⎝⎝1.0⋅\n",
      "──────────────────────────────────────────────────────────────────────────────\n",
      "                                                                              \n",
      "                                                                              \n",
      "                                                                              \n",
      "                                                                              \n",
      "\n",
      " 2                           ⎞                                 ⎞              \n",
      "_             _              ⎟ _            _                  ⎟ ⎛           5\n",
      "w  + 1.2439⋅ⅈ⋅w - 0.156995925⎠⋅w + 1.114848⋅w + 0.15993609408⋅ⅈ⎠⋅⎝0.00875⋅ⅈ⋅w \n",
      "──────────────────────────────────────────────────────────────────────────────\n",
      "                                                                              \n",
      "                                                                              \n",
      "                                                                              \n",
      "                                                                              \n",
      "\n",
      "                                                                              \n",
      "                4                    3                        2               \n",
      " + 0.022285375⋅w  - 0.01757269535⋅ⅈ⋅w  - 0.00438004047828375⋅w  + 0.0004176433\n",
      "──────────────────────────────────────────────────────────────────────────────\n",
      "                                                                              \n",
      "                                                                              \n",
      "                                                                              \n",
      "                                                                              \n",
      "\n",
      "                                    ⎛           5                4            \n",
      "                                  ⎞ ⎜          _                _             \n",
      "72855731⋅ⅈ⋅w + 1.27459524462934e-5⎠⋅⎝0.00875⋅ⅈ⋅w  - 0.022285375⋅w  - 0.0175726\n",
      "──────────────────────────────────────────────────────────────────────────────\n",
      "                                                                              \n",
      "                                                                              \n",
      "                                                                              \n",
      "                                                                              \n",
      "\n",
      "        3                        2                                            \n",
      "       _                        _                           _                 \n",
      "9535⋅ⅈ⋅w  + 0.00438004047828375⋅w  + 0.000417643372855731⋅ⅈ⋅w - 1.274595244629\n",
      "──────────────────────────────────────────────────────────────────────────────\n",
      "                                                                              \n",
      "                                                                              \n",
      "                                                                              \n",
      "                                                                              \n",
      "\n",
      "     ⎞⎞   ⎛                                            ⎛     2                \n",
      "     ⎟⎟   ⎜      ⎛       2                           ⎞ ⎜    _             _   \n",
      "34e-5⎠⎠ + ⎝- σ⋅w⋅⎝- 1.0⋅w  + 1.2439⋅ⅈ⋅w + 0.156995925⎠⋅⎝1.0⋅w  + 1.2439⋅ⅈ⋅w - \n",
      "──────────────────────────────────────────────────────────────────────────────\n",
      "                                                                              \n",
      "                                                                              \n",
      "                                                                              \n",
      "                                                                              \n",
      "\n",
      "           ⎞                                                                  \n",
      "           ⎟ ⎛           5                4                    3              \n",
      "0.156995925⎠⋅⎝0.00875⋅ⅈ⋅w  + 0.022285375⋅w  - 0.01757269535⋅ⅈ⋅w  - 0.004380040\n",
      "──────────────────────────────────────────────────────────────────────────────\n",
      "                                                                              \n",
      "                                                                              \n",
      "                                                                              \n",
      "                                                                              \n",
      "\n",
      "                                                              ⎛           5   \n",
      "          2                                                 ⎞ ⎜          _    \n",
      "47828375⋅w  + 0.000417643372855731⋅ⅈ⋅w + 1.27459524462934e-5⎠⋅⎝0.00875⋅ⅈ⋅w  - \n",
      "──────────────────────────────────────────────────────────────────────────────\n",
      "                                                                              \n",
      "                                                           2 ⎛     2          \n",
      "                    2 ⎛       2                           ⎞  ⎜    _           \n",
      "                   w ⋅⎝- 1.0⋅w  + 1.2439⋅ⅈ⋅w + 0.156995925⎠ ⋅⎝1.0⋅w  + 1.2439⋅\n",
      "\n",
      "             4                    3                        2                  \n",
      "            _                    _                        _                   \n",
      "0.022285375⋅w  - 0.01757269535⋅ⅈ⋅w  + 0.00438004047828375⋅w  + 0.0004176433728\n",
      "──────────────────────────────────────────────────────────────────────────────\n",
      "                  2                                                           \n",
      "                 ⎞                                                            \n",
      "  _              ⎟  ⎛           5                4                    3       \n",
      "ⅈ⋅w - 0.156995925⎠ ⋅⎝0.00875⋅ⅈ⋅w  + 0.022285375⋅w  - 0.01757269535⋅ⅈ⋅w  - 0.00\n",
      "\n",
      "                               ⎞                                              \n",
      "        _                      ⎟ _       ⎛       2                           ⎞\n",
      "55731⋅ⅈ⋅w - 1.27459524462934e-5⎠⋅w + 1.0⋅⎝- 1.0⋅w  + 1.2439⋅ⅈ⋅w + 0.156995925⎠\n",
      "──────────────────────────────────────────────────────────────────────────────\n",
      "                                                                              \n",
      "                                                                    2 ⎛       \n",
      "                 2                                                 ⎞  ⎜       \n",
      "438004047828375⋅w  + 0.000417643372855731⋅ⅈ⋅w + 1.27459524462934e-5⎠ ⋅⎝0.00875\n",
      "\n",
      " ⎛     2                           ⎞                                          \n",
      " ⎜    _             _              ⎟ ⎛              4                    3    \n",
      "⋅⎝1.0⋅w  + 1.2439⋅ⅈ⋅w - 0.156995925⎠⋅⎝0.02042908⋅ⅈ⋅w  + 0.0295570217936⋅w  - 0\n",
      "──────────────────────────────────────────────────────────────────────────────\n",
      "                                                                              \n",
      "    5                4                    3                        2          \n",
      "   _                _                    _                        _           \n",
      "⋅ⅈ⋅w  - 0.022285375⋅w  - 0.01757269535⋅ⅈ⋅w  + 0.00438004047828375⋅w  + 0.00041\n",
      "\n",
      "                                                                         ⎛    \n",
      "                     2                                                 ⎞ ⎜    \n",
      ".0085402054308382⋅ⅈ⋅w  - 0.000870463645162769⋅w + 2.77251516600044e-5⋅ⅈ⎠⋅⎝0.02\n",
      "──────────────────────────────────────────────────────────────────────────────\n",
      "                                        2                                     \n",
      "                                       ⎞   2                                  \n",
      "                _                      ⎟  _                                   \n",
      "7643372855731⋅ⅈ⋅w - 1.27459524462934e-5⎠ ⋅w                                   \n",
      "\n",
      "          4                    3                         2                    \n",
      "         _                    _                         _                     \n",
      "042908⋅ⅈ⋅w  - 0.0295570217936⋅w  - 0.0085402054308382⋅ⅈ⋅w  + 0.000870463645162\n",
      "──────────────────────────────────────────────────────────────────────────────\n",
      "                                                                              \n",
      "                                                                              \n",
      "                                                                              \n",
      "                                                                              \n",
      "\n",
      "                             ⎞                                                \n",
      "    _                        ⎟   ⎛  ⎛       2                           ⎞     \n",
      "769⋅w + 2.77251516600044e-5⋅ⅈ⎠ + ⎝w⋅⎝- 1.0⋅w  + 1.2439⋅ⅈ⋅w + 0.156995925⎠ - 1.\n",
      "──────────────────────────────────────────────────────────────────────────────\n",
      "                                                                              \n",
      "                                                                              \n",
      "                                                                              \n",
      "                                                                              \n",
      "\n",
      "                            ⎛⎛     2                           ⎞              \n",
      "                          ⎞ ⎜⎜    _             _              ⎟ _            \n",
      "114848⋅w + 0.15993609408⋅ⅈ⎠⋅⎝⎝1.0⋅w  + 1.2439⋅ⅈ⋅w - 0.156995925⎠⋅w + 1.114848⋅\n",
      "──────────────────────────────────────────────────────────────────────────────\n",
      "                                                                              \n",
      "                                                                              \n",
      "                                                                              \n",
      "                                                                              \n",
      "\n",
      "                   ⎞                                                          \n",
      "_                  ⎟ ⎛           5                4                    3      \n",
      "w + 0.15993609408⋅ⅈ⎠⋅⎝0.00875⋅ⅈ⋅w  + 0.022285375⋅w  - 0.01757269535⋅ⅈ⋅w  - 0.0\n",
      "──────────────────────────────────────────────────────────────────────────────\n",
      "                                                                              \n",
      "                                                                              \n",
      "                                                                              \n",
      "                                                                              \n",
      "\n",
      "                                                                      ⎛       \n",
      "                  2                                                 ⎞ ⎜       \n",
      "0438004047828375⋅w  + 0.000417643372855731⋅ⅈ⋅w + 1.27459524462934e-5⎠⋅⎝0.00875\n",
      "──────────────────────────────────────────────────────────────────────────────\n",
      "                                                                              \n",
      "                                                                              \n",
      "                                                                              \n",
      "                                                                              \n",
      "\n",
      "    5                4                    3                        2          \n",
      "   _                _                    _                        _           \n",
      "⋅ⅈ⋅w  - 0.022285375⋅w  - 0.01757269535⋅ⅈ⋅w  + 0.00438004047828375⋅w  + 0.00041\n",
      "──────────────────────────────────────────────────────────────────────────────\n",
      "                                                                              \n",
      "                                                                              \n",
      "                                                                              \n",
      "                                                                              \n",
      "\n",
      "                                       ⎞⎞ ⎛                                   \n",
      "                _                      ⎟⎟ ⎜    ⎛       2                      \n",
      "7643372855731⋅ⅈ⋅w - 1.27459524462934e-5⎠⎠⋅⎝σ⋅w⋅⎝- 1.0⋅w  + 1.2439⋅ⅈ⋅w + 0.1569\n",
      "──────────────────────────────────────────────────────────────────────────────\n",
      "                                                                              \n",
      "                                                                              \n",
      "                                                                              \n",
      "                                                                              \n",
      "\n",
      "       ⎛     2                           ⎞                                    \n",
      "     ⎞ ⎜    _             _              ⎟ ⎛           5                4     \n",
      "95925⎠⋅⎝1.0⋅w  + 1.2439⋅ⅈ⋅w - 0.156995925⎠⋅⎝0.00875⋅ⅈ⋅w  + 0.022285375⋅w  - 0.\n",
      "──────────────────────────────────────────────────────────────────────────────\n",
      "                                                                              \n",
      "                                                                              \n",
      "                                                                              \n",
      "                                                                              \n",
      "\n",
      "                                                                              \n",
      "               3                        2                                     \n",
      "01757269535⋅ⅈ⋅w  - 0.00438004047828375⋅w  + 0.000417643372855731⋅ⅈ⋅w + 1.27459\n",
      "──────────────────────────────────────────────────────────────────────────────\n",
      "                                                                              \n",
      "                                                                              \n",
      "                                                                              \n",
      "                                                                              \n",
      "\n",
      "              ⎛           5                4                    3             \n",
      "            ⎞ ⎜          _                _                    _              \n",
      "524462934e-5⎠⋅⎝0.00875⋅ⅈ⋅w  - 0.022285375⋅w  - 0.01757269535⋅ⅈ⋅w  + 0.00438004\n",
      "──────────────────────────────────────────────────────────────────────────────\n",
      "                                                                              \n",
      "                                                                              \n",
      "                                                                              \n",
      "                                                                              \n",
      "\n",
      "           2                                                 ⎞                \n",
      "          _                           _                      ⎟ _   ⎛       2  \n",
      "047828375⋅w  + 0.000417643372855731⋅ⅈ⋅w - 1.27459524462934e-5⎠⋅w - ⎝- 1.0⋅w  +\n",
      "──────────────────────────────────────────────────────────────────────────────\n",
      "                                                                              \n",
      "                                                                              \n",
      "                                                                              \n",
      "                                                                              \n",
      "\n",
      "                           ⎛     2                           ⎞                \n",
      "                         ⎞ ⎜    _             _              ⎟ ⎛          5   \n",
      " 1.2439⋅ⅈ⋅w + 0.156995925⎠⋅⎝1.0⋅w  + 1.2439⋅ⅈ⋅w - 0.156995925⎠⋅⎝- 0.0378⋅w  + \n",
      "──────────────────────────────────────────────────────────────────────────────\n",
      "                                                                              \n",
      "                                                                              \n",
      "                                                                              \n",
      "                                                                              \n",
      "\n",
      "                                                                              \n",
      "               4                    3                         2     ⎛         \n",
      "0.096294933⋅ⅈ⋅w  + 0.0759690566334⋅w  - 0.0189629333300396⋅ⅈ⋅w  + w⋅⎝0.00875⋅ⅈ\n",
      "──────────────────────────────────────────────────────────────────────────────\n",
      "                                                                              \n",
      "                                                                              \n",
      "                                                                              \n",
      "                                                                              \n",
      "\n",
      "                                                                              \n",
      "  5                4                    3                        2            \n",
      "⋅w  + 0.022285375⋅w  - 0.01757269535⋅ⅈ⋅w  - 0.00438004047828375⋅w  + 0.0004176\n",
      "──────────────────────────────────────────────────────────────────────────────\n",
      "                                                                              \n",
      "                                                                              \n",
      "                                                                              \n",
      "                                                                              \n",
      "\n",
      "                                                                              \n",
      "                                     ⎞                                        \n",
      "43372855731⋅ⅈ⋅w + 1.27459524462934e-5⎠ - 0.00181285614381972⋅w + 5.56075496106\n",
      "──────────────────────────────────────────────────────────────────────────────\n",
      "                                                                              \n",
      "                                                                              \n",
      "                                                                              \n",
      "                                                                              \n",
      "\n",
      "          ⎛⎛           5                4                    3                \n",
      "        ⎞ ⎜⎜          _                _                    _                 \n",
      "657e-5⋅ⅈ⎠⋅⎝⎝0.00875⋅ⅈ⋅w  - 0.022285375⋅w  - 0.01757269535⋅ⅈ⋅w  + 0.00438004047\n",
      "──────────────────────────────────────────────────────────────────────────────\n",
      "                                                                              \n",
      "                                                                              \n",
      "                                                                              \n",
      "                                                                              \n",
      "\n",
      "        2                                                 ⎞             5     \n",
      "       _                           _                      ⎟ _          _      \n",
      "828375⋅w  + 0.000417643372855731⋅ⅈ⋅w - 1.27459524462934e-5⎠⋅w + 0.0378⋅w  + 0.\n",
      "──────────────────────────────────────────────────────────────────────────────\n",
      "                                                                              \n",
      "                                                                              \n",
      "                                                                              \n",
      "                                                                              \n",
      "\n",
      "             4                    3                         2                 \n",
      "            _                    _                         _                  \n",
      "096294933⋅ⅈ⋅w  - 0.0759690566334⋅w  - 0.0189629333300396⋅ⅈ⋅w  + 0.001812856143\n",
      "──────────────────────────────────────────────────────────────────────────────\n",
      "                                                                              \n",
      "                                                                              \n",
      "                                                                              \n",
      "                                                                              \n",
      "\n",
      "                               ⎞                                            ⎛ \n",
      "      _                        ⎟   ⎛        2                             ⎞ ⎜ \n",
      "81972⋅w + 5.56075496106657e-5⋅ⅈ⎠ + ⎝5.72⋅ⅈ⋅w  + 7.115108⋅w - 0.898016691⋅ⅈ⎠⋅⎝-\n",
      "──────────────────────────────────────────────────────────────────────────────\n",
      "                                                                              \n",
      "                                                                              \n",
      "                                                                              \n",
      "                                                                              \n",
      "\n",
      "         2                             ⎞                                      \n",
      "        _             _                ⎟ ⎛           5                4       \n",
      " 5.72⋅ⅈ⋅w  + 7.115108⋅w + 0.898016691⋅ⅈ⎠⋅⎝0.00875⋅ⅈ⋅w  + 0.022285375⋅w  - 0.01\n",
      "──────────────────────────────────────────────────────────────────────────────\n",
      "                                                                              \n",
      "                                                                              \n",
      "                                                                              \n",
      "                                                                              \n",
      "\n",
      "                                                                              \n",
      "             3                        2                                       \n",
      "757269535⋅ⅈ⋅w  - 0.00438004047828375⋅w  + 0.000417643372855731⋅ⅈ⋅w + 1.2745952\n",
      "──────────────────────────────────────────────────────────────────────────────\n",
      "                                                                              \n",
      "                                                                              \n",
      "                                                                              \n",
      "                                                                              \n",
      "\n",
      "            ⎛           5                4                    3               \n",
      "          ⎞ ⎜          _                _                    _                \n",
      "4462934e-5⎠⋅⎝0.00875⋅ⅈ⋅w  - 0.022285375⋅w  - 0.01757269535⋅ⅈ⋅w  + 0.0043800404\n",
      "──────────────────────────────────────────────────────────────────────────────\n",
      "                                                                              \n",
      "                                                                              \n",
      "                                                                              \n",
      "                                                                              \n",
      "\n",
      "         2                                                 ⎞⎞⎞ \n",
      "        _                           _                      ⎟⎟⎟ \n",
      "7828375⋅w  + 0.000417643372855731⋅ⅈ⋅w - 1.27459524462934e-5⎠⎠⎠ \n",
      "───────────────────────────────────────────────────────────────\n",
      "                                                               \n",
      "                                                               \n",
      "                                                               \n",
      "                                                               \n"
     ]
    }
   ],
   "source": [
    "A = Matrix([[0, -.00156, -.0711, 0, 0], [0, -.1419, .0711, 0, 0], [0, -.00875, -1.102, 0, 0], [0, -.00128, -.1489, 0, -.0013], [0, .0605, .1489, 0, -.0591]])\n",
    "B = Matrix([[0, -.143, 0], [0, 0, 0], [.392, 0, 0], [0, .108, -.0592], [0, -.0486, 0]])\n",
    "# compute resolvent with complex frequency\n",
    "Phi = ch3_utils.computeResolvent(A, imag=True, smplfy=False)\n",
    "\n",
    "C = Matrix([[40., 0, 0, 0, 0]])\n",
    "B = Matrix([[0], [0], [.392], [0], [0]])\n",
    "H11 = simplify(C*Phi*B)[0]\n",
    "C = Matrix([[-40., 0, 0, 0, 0]])\n",
    "B = Matrix([[-.143], [0], [0], [.108], [-.0486]])\n",
    "H12 = simplify(C*Phi*B)[0]\n",
    "\n",
    "C = Matrix([[0, 0, 0, 40, 0]])\n",
    "B = Matrix([[0], [0], [.392], [0], [0]])\n",
    "H21 = simplify(C*Phi*B)[0]\n",
    "C = Matrix([[0, 0, 0, -40, 0]])\n",
    "B = Matrix([[-.143], [0], [0], [.108], [-.0486]])\n",
    "H22 = simplify(C*Phi*B)[0]\n",
    "\n",
    "IplusH = Matrix([[1+H11, H12], [H21, 1+H22]])\n",
    "\n",
    "# compute product of (I+H)* times (I+H) - (I+H)* is the conjugate transpose\n",
    "product = Matrix([[simplify(conjugate(1+H11)*(1+H11)) + simplify(conjugate(H21)*H21), simplify(conjugate(1+H11)*H12) + simplify(conjugate(H21)*(1+H22))],\n",
    "                  [simplify(conjugate(H12)*(1+H11)) + simplify(conjugate(1+H22)*H21), simplify(conjugate(H12)*H12) + simplify(conjugate(1+H22)*(1+H22))]])\n",
    "\n",
    "\n",
    "# compute determinant of (\\lambda*I - product) in terms of w - the roots of this are the singular values\n",
    "sigma = symbols('sigma', real=True)\n",
    "charPoly = simplify(det(sigma*eye(2) - product))\n",
    "pprint(charPoly)"
   ]
  },
  {
   "cell_type": "markdown",
   "metadata": {},
   "source": [
    "I am not going to work through the remainder of this problem because the algebraic form above looks very nasty.  If I could reduce all of the terms, I would compute the singular values using the characteristic polynomial of $|\\lambda I-M|$ as a function of $\\omega$.  Also, a call to the matlab routine [`sigma`](https://www.mathworks.com/help/control/ref/sigma.html) would easily solve the problem given the transfer function $I + GH$.\n",
    "\n",
    "### Problem 4.9\n",
    "\n",
    "The characteristic equation comes from the denominator of $G(s)$, where\n",
    "\\begin{eqnarray}\n",
    "G(s) = \\frac{KH(s)}{1+KH(s)}\n",
    "\\end{eqnarray}"
   ]
  },
  {
   "cell_type": "code",
   "execution_count": 63,
   "metadata": {},
   "outputs": [
    {
     "name": "stdout",
     "output_type": "stream",
     "text": [
      "                    100980⋅K                    \n",
      "────────────────────────────────────────────────\n",
      "             ⎛ 3          2                    ⎞\n",
      "100980⋅K + s⋅⎝s  + 140.2⋅s  + 10.449⋅s + 100980⎠\n"
     ]
    }
   ],
   "source": [
    "K = symbols('K')\n",
    "H = 100980 / (s*(s**3+140.2*s**2+10.449*s+100980))\n",
    "G = K*H / (1+K*H)\n",
    "pprint(simplify(G))"
   ]
  },
  {
   "cell_type": "code",
   "execution_count": 64,
   "metadata": {},
   "outputs": [
    {
     "name": "stdout",
     "output_type": "stream",
     "text": [
      "[140.2, -99515.0502, -1984866919.2⋅K - 10049029769.196, -K⋅(200431861500816.0⋅\n",
      "K + 1.01475102609341e+15)]\n"
     ]
    }
   ],
   "source": [
    "dets = ch4_utils.hurwitz([1., 140.2, 10.449,100980, 100980*K])\n",
    "pprint(dets)"
   ]
  },
  {
   "cell_type": "markdown",
   "metadata": {},
   "source": [
    "The Hurwitz criteria cannot be met for all $K$ because there will always be a negative determinant in the Hurwitz process independent of $K$.\n",
    "\n",
    "### Problem 4.10"
   ]
  },
  {
   "cell_type": "code",
   "execution_count": 65,
   "metadata": {},
   "outputs": [
    {
     "data": {
      "image/png": "[encoded data removed]",
      "text/plain": [
       "<matplotlib.figure.Figure at 0x7fb27bbefe80>"
      ]
     },
     "metadata": {
      "needs_background": "light"
     },
     "output_type": "display_data"
    },
    {
     "data": {
      "image/png": "[encoded data removed]",
      "text/plain": [
       "<matplotlib.figure.Figure at 0x7fb27bbefb38>"
      ]
     },
     "metadata": {
      "needs_background": "light"
     },
     "output_type": "display_data"
    }
   ],
   "source": [
    "num = -1115.*np.array([1., 0., -2228.])\n",
    "#to get the denom, uncomment the next two lines\n",
    "#d = expand((0.01*s+1.)*(s**2 + 3.33*s+248.))\n",
    "#pprint(d)\n",
    "den = np.array([.01, 1.0333, 5.81, 248.])\n",
    "G = control.TransferFunction(num, den)\n",
    "plt.figure()\n",
    "control.nyquist_plot(G)\n",
    "plt.figure()\n",
    "control.bode_plot(G)\n",
    "plt.show()"
   ]
  },
  {
   "cell_type": "markdown",
   "metadata": {},
   "source": [
    "### Problem 4.11\n",
    "\n",
    "Using the feedback law $u = K_1(a_{NC} - Z_\\alpha \\alpha - Z_\\delta \\delta) - K_2q$, the closed loop system is:\n",
    "\n",
    "\\begin{eqnarray}\n",
    "A &=& \\begin{pmatrix}\n",
    "\\frac{Z_\\alpha}{V} & 1 & \\frac{Z_\\delta}{V} \\\\\n",
    "M_\\alpha & 0 & M_\\delta \\\\\n",
    "-\\frac{K_1 Z_\\alpha}{\\tau} & -\\frac{K_2}{\\tau} & -\\frac{K_1 Z_\\delta}{\\tau} \\\\\n",
    "\\end{pmatrix}, \\\\\n",
    "B &=& \\begin{pmatrix}\n",
    "0 \\\\\n",
    "0 \\\\\n",
    "\\frac{K_1}{\\tau}\n",
    "\\end{pmatrix}, \\\\\n",
    "C &=& \\begin{pmatrix}\n",
    "Z_\\alpha & 0 & Z_\\delta\n",
    "\\end{pmatrix}\n",
    "\\end{eqnarray}\n"
   ]
  },
  {
   "cell_type": "code",
   "execution_count": 67,
   "metadata": {},
   "outputs": [
    {
     "name": "stdout",
     "output_type": "stream",
     "text": [
      "⎡   -3.33        1.0        -0.89   ⎤\n",
      "⎢                                   ⎥\n",
      "⎢  -248.0        0.0       -662.0   ⎥\n",
      "⎢                                   ⎥\n",
      "⎣417000.0⋅K₁  -100.0⋅K₂  111500.0⋅K₁⎦\n",
      "[-111500.0⋅K₁]\n",
      "           100.0⋅K₁⋅(2484020.0⋅s⋅(s + 3.33) - 4170.0⋅s⋅(662.0⋅s + 1983.74) + 6\n",
      "──────────────────────────────────────────────────────────────────────────────\n",
      "(248402000.0⋅K₁ + 248.0⋅s)⋅(s⋅(s + 3.33) + 248.0) - (662.0⋅s + 1983.74)⋅(41700\n",
      "\n",
      "16036960.0)           \n",
      "──────────────────────\n",
      "0.0⋅K₁⋅s + 24800.0⋅K₂)\n"
     ]
    }
   ],
   "source": [
    "V = 1253.\n",
    "Za = -4170.\n",
    "Zd = -1115.\n",
    "Ma = -248.\n",
    "Md = -662.\n",
    "tau = .01\n",
    "A = Matrix([[-3.33, 1., -0.89], [-248., 0., -662.], [417000.*K1, -100.*K2, 111500.*K1]])\n",
    "pprint(A)\n",
    "B = Matrix([[0.], [0.], [100.*K1]])\n",
    "C = Matrix([[-4170., 0., -1115.]])\n",
    "Phi = ch3_utils.computeResolvent(A, imag=False, smplfy=False)\n",
    "pprint(C*B)\n",
    "H = simplify(C*Phi*B)[0]\n",
    "pprint(H)"
   ]
  },
  {
   "cell_type": "code",
   "execution_count": 68,
   "metadata": {},
   "outputs": [
    {
     "name": "stdout",
     "output_type": "stream",
     "text": [
      "                  2                                                           \n",
      "- 251252000.0⋅K₁⋅s  - 744628920.0⋅K₁⋅s + 6150896000.0⋅K₁ - 16417600.0⋅K₂⋅s - 4\n",
      "\n",
      "                      3           2            \n",
      "9196752.0⋅K₂ + 248.0⋅s  + 825.84⋅s  + 61504.0⋅s\n"
     ]
    }
   ],
   "source": [
    "d = expand((24802000.*K1 + 248.*s)*(s*(s+3.33) + 248.0) - (662.*s + 1983.74)*(417000.*K1*s+24800.*K2))\n",
    "pprint(d)"
   ]
  },
  {
   "cell_type": "code",
   "execution_count": 69,
   "metadata": {},
   "outputs": [
    {
     "name": "stdout",
     "output_type": "stream",
     "text": [
      "⎡                                                2                            \n",
      "⎣-1013112.90322581⋅K₁ + 3.33, 3041907931318.94⋅K₁  + 67068074193.5484⋅K₁⋅K₂ - \n",
      "\n",
      "                                                                              \n",
      "537304444.772581⋅K₁ - 22072.0⋅K₂ + 1651.68, (24802000.0⋅K₁ - 198374.0⋅K₂)⋅(-24\n",
      "\n",
      "                                                                              \n",
      "802000.0⋅K₁ + 198374.0⋅K₂ + (1013112.90322581⋅K₁ - 3.33)⋅(3002535.96774194⋅K₁ \n",
      "\n",
      "                      ⎤\n",
      "+ 66200.0⋅K₂ - 496.0))⎦\n"
     ]
    }
   ],
   "source": [
    "coeffs = [248., 825.84 - 251252000.*K1, 61504. - 744628920.*K1 - 16417600.*K2+61504., -49196752.*K2 + 6150896000.*K1]\n",
    "dets = ch4_utils.hurwitz(coeffs)\n",
    "pprint(dets)"
   ]
  },
  {
   "cell_type": "code",
   "execution_count": 70,
   "metadata": {},
   "outputs": [
    {
     "data": {
      "image/png": "[encoded data removed]",
      "text/plain": [
       "<matplotlib.figure.Figure at 0x7fb27bfb30f0>"
      ]
     },
     "metadata": {
      "needs_background": "light"
     },
     "output_type": "display_data"
    }
   ],
   "source": [
    "def f(k1, k2):\n",
    "    c1 = -1013112.903*k1 + 3.33 > 0\n",
    "    c2 = 3041907931318.94*k1**2 + 67068074193.5484*k1*k2 - 537304444.773*k1 - 22072.*k2 + 1651.68 > 0\n",
    "    c3 = (24802000.*k1 - 198374.*k2)*(-24802000.*k1 + 198374.*k2 + (1013112.903*k1 - 3.33)*(3002535.968*k1 + 66200.*k2 - 496.)) > 0\n",
    "    return int(c1 and c2 and c3)\n",
    "\n",
    "vf = np.vectorize(f)\n",
    "gs = np.linspace(-100, 500, 501)\n",
    "hs = np.linspace(-100, 500, 501)\n",
    "X = np.meshgrid(gs,hs)\n",
    "out = vf(X[0], -X[1])\n",
    "plt.imshow(out, origin='lower', extent=(-100, 500, -100, 500))\n",
    "plt.xlabel('k1')\n",
    "plt.ylabel('k2')\n",
    "plt.title('Stability Region (in yellow)')\n",
    "plt.show()"
   ]
  },
  {
   "cell_type": "markdown",
   "metadata": {},
   "source": [
    "#### b)\n",
    "It's a little tough to tell from the plot, but it looks like the system cannot be made stable when $K_2$ is 0; i.e. when the feedback uses $\\alpha$ and $\\delta$ alone.  Only when $K_2$ is increased to around $50$ can the system be made stable.  Moreover, the range of stable $K_1$ (i.e. gain margin) increases with increasing $K_2$.  These two facts make it easy to justify the additional cost of a rate gyro."
   ]
  }
 ],
 "metadata": {
  "kernelspec": {
   "display_name": "Python 3",
   "language": "python",
   "name": "python3"
  },
  "language_info": {
   "codemirror_mode": {
    "name": "ipython",
    "version": 3
   },
   "file_extension": ".py",
   "mimetype": "text/x-python",
   "name": "python",
   "nbconvert_exporter": "python",
   "pygments_lexer": "ipython3",
   "version": "3.6.0"
  }
 },
 "nbformat": 4,
 "nbformat_minor": 2
}
