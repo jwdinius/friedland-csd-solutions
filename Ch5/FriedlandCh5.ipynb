{
 "cells": [
  {
   "cell_type": "markdown",
   "metadata": {},
   "source": [
    "## Chapter 5"
   ]
  },
  {
   "cell_type": "code",
   "execution_count": 5,
   "metadata": {},
   "outputs": [],
   "source": [
    "import sys\n",
    "sys.path.append(\"..\")"
   ]
  },
  {
   "cell_type": "code",
   "execution_count": 6,
   "metadata": {},
   "outputs": [
    {
     "data": {
      "text/plain": [
       "<module 'Ch5.utilities' from '../Ch5/utilities.py'>"
      ]
     },
     "execution_count": 6,
     "metadata": {},
     "output_type": "execute_result"
    }
   ],
   "source": [
    "import numpy as np\n",
    "from importlib import reload\n",
    "import Ch5.utilities as ch5_utils\n",
    "reload(ch5_utils)"
   ]
  },
  {
   "cell_type": "markdown",
   "metadata": {},
   "source": [
    "### Problem 5.1\n",
    "\n",
    "For this problem, the rank of the metasystem is $2k+1$.\n",
    "\n",
    "#### a)\n",
    "Compute the matrix\n",
    "\\begin{eqnarray}\n",
    "\\mathbf{Q} &=& \\begin{pmatrix} \n",
    "\\mathbf{B} & \\mathbf{A} \\mathbf{B} & \\dots & \\mathbf{A}^{2k+1} \\mathbf{B} \n",
    "\\end{pmatrix} \\\\\n",
    "&=& \\begin{pmatrix} \n",
    "\\begin{pmatrix}\n",
    "B \\\\\n",
    "\\mathbf{0}_{k+1}\n",
    "\\end{pmatrix}\n",
    "& \\begin{pmatrix}\n",
    "AB \\\\\n",
    "\\mathbf{0}_{k+1}\n",
    "\\end{pmatrix}\n",
    "& \\dots \n",
    "& \\begin{pmatrix}\n",
    "A^{2k+1} B \\\\\n",
    "\\mathbf{0}_{k+1}\n",
    "\\end{pmatrix}\n",
    "\\end{pmatrix}.\n",
    "\\end{eqnarray}\n",
    "This clearly does not have full rank because of the $k+1$ zero rows; just one zero row would have been enough to make the metasystem uncontrollable.\n",
    "\n",
    "#### b)\n",
    "The observability criteria follows similarly to the controllability criteria above.  Compute the $\\mathbf{N}$ matrix:\n",
    "\\begin{eqnarray}\n",
    "\\mathbf{N} &=& \\begin{pmatrix} \n",
    "\\mathbf{C}^T & \\mathbf{A}^T \\mathbf{C}^T & \\dots & (\\mathbf{A}^T)^{2k+1} \\mathbf{C}^T \n",
    "\\end{pmatrix} \\\\\n",
    "&=& \\begin{pmatrix} \n",
    "\\begin{pmatrix}\n",
    "I_{k \\times k} \\\\\n",
    "\\mathbf{0}_{k+1 \\times k}\n",
    "\\end{pmatrix} C^T\n",
    "& \\begin{pmatrix}\n",
    "A^T \\\\\n",
    "E^T\n",
    "\\end{pmatrix} C^T\n",
    "& \\dots \n",
    "& \\begin{pmatrix}\n",
    "(A^T)^{2k+1} \\\\\n",
    "E^T (A^T)^{2k+1} + A_0^T E^T (A^T)^{2k} + \\cdots + (A_0^T)^{2k} E^T A^T + (A_0^T)^{2k+1} E^T\n",
    "\\end{pmatrix} C^T \n",
    "\\end{pmatrix}.\n",
    "\\end{eqnarray}\n",
    "We already have that the undisturbed system is observable (which means the top rows of the $\\mathbf{N}$ matrix are rank $k$).  In order for the whole metasystem to be observable, the bottom $k+1$ rows of $\\mathbf{N}$ must be of rank $k+1$ _and_ be linearly independent of the $k$ top rows.\n",
    "\n",
    "### Problem 5.2\n",
    "\n",
    "#### a)\n",
    "\n",
    "There is symmetry in the problem, so if it is controllable with one motor _only_ it should be equally controllable with the other _only_."
   ]
  },
  {
   "cell_type": "code",
   "execution_count": 7,
   "metadata": {},
   "outputs": [],
   "source": [
    "# with K, M, k, R, r = 40, 1, 2, 100, 0.02\n",
    "A = np.array([[0, 0, 1, 0], [0, 0, 0, 1], [-40, 40, -100, 0], [40, -40, 0, -100]])"
   ]
  },
  {
   "cell_type": "code",
   "execution_count": 10,
   "metadata": {},
   "outputs": [
    {
     "name": "stdout",
     "output_type": "stream",
     "text": [
      "Controllable with Motor 1?  True\n",
      "Controllable with Motor 2?  True\n"
     ]
    }
   ],
   "source": [
    "B = np.array([[0], [0], [1], [0]])\n",
    "# with motor 1 control only\n",
    "print('Controllable with Motor 1?  {}'.format(ch5_utils.isControllable(A,B)[0]))\n",
    "B = np.array([[0], [0], [0], [1]])\n",
    "# with motor 2 control only\n",
    "print('Controllable with Motor 2?  {}'.format(ch5_utils.isControllable(A,B)[0]))"
   ]
  },
  {
   "cell_type": "markdown",
   "metadata": {},
   "source": [
    "#### b)"
   ]
  },
  {
   "cell_type": "code",
   "execution_count": 12,
   "metadata": {},
   "outputs": [
    {
     "name": "stdout",
     "output_type": "stream",
     "text": [
      "Controllable with both motors?  True\n"
     ]
    }
   ],
   "source": [
    "B = np.array([[0., 0.], [0., 0.], [1., 0.], [0., 1.]])\n",
    "# with both motors\n",
    "print('Controllable with both motors?  {}'.format(ch5_utils.isControllable(A,B)[0]))"
   ]
  },
  {
   "cell_type": "markdown",
   "metadata": {},
   "source": [
    "#### c)"
   ]
  },
  {
   "cell_type": "code",
   "execution_count": 14,
   "metadata": {},
   "outputs": [
    {
     "name": "stdout",
     "output_type": "stream",
     "text": [
      "Observable with z1 only?  True\n"
     ]
    }
   ],
   "source": [
    "# with z1 observation only\n",
    "C = np.array([[1., 0., 0., 0.]])\n",
    "print('Observable with z1 only?  {}'.format(ch5_utils.isObservable(A,C)[0]))"
   ]
  },
  {
   "cell_type": "markdown",
   "metadata": {},
   "source": [
    "#### d)"
   ]
  },
  {
   "cell_type": "code",
   "execution_count": 15,
   "metadata": {},
   "outputs": [
    {
     "name": "stdout",
     "output_type": "stream",
     "text": [
      "Observable with v1 only observed?  False\n"
     ]
    }
   ],
   "source": [
    "# with v1 observation only\n",
    "C = np.array([[0., 0., 1., 0.]])\n",
    "print('Observable with v1 only observed?  {}'.format(ch5_utils.isObservable(A,C)[0]))"
   ]
  },
  {
   "cell_type": "markdown",
   "metadata": {},
   "source": [
    "#### e)"
   ]
  },
  {
   "cell_type": "code",
   "execution_count": 16,
   "metadata": {},
   "outputs": [
    {
     "name": "stdout",
     "output_type": "stream",
     "text": [
      "Observable with both velocities?  False\n"
     ]
    }
   ],
   "source": [
    "# with both velocities observed\n",
    "C = np.array([[0., 0., 1., 0.],[0., 0., 0, 1.],])\n",
    "print('Observable with both velocities?  {}'.format(ch5_utils.isObservable(A,C)[0]))"
   ]
  },
  {
   "cell_type": "markdown",
   "metadata": {},
   "source": [
    "### Problem 5.3"
   ]
  },
  {
   "cell_type": "code",
   "execution_count": 17,
   "metadata": {},
   "outputs": [],
   "source": [
    "A = np.array([[-.746, .006, .001, .0369], [-12.9, -.746, .387, 0], [4.31, .024, -.0174, 0], [0, 1, 0, 0]])\n",
    "B = np.array([[.0012, 0.0092],[6.05, 0.952],[-.416, -1.76],[0., 0.]])"
   ]
  },
  {
   "cell_type": "markdown",
   "metadata": {},
   "source": [
    "#### a)"
   ]
  },
  {
   "cell_type": "code",
   "execution_count": 19,
   "metadata": {},
   "outputs": [
    {
     "name": "stdout",
     "output_type": "stream",
     "text": [
      "Controllable with ailerons only?  True\n"
     ]
    }
   ],
   "source": [
    "print('Controllable with ailerons only?  {}'.format(ch5_utils.isControllable(A,B[:,0].reshape(4, 1))[0]))"
   ]
  },
  {
   "cell_type": "markdown",
   "metadata": {},
   "source": [
    "#### b)"
   ]
  },
  {
   "cell_type": "code",
   "execution_count": 21,
   "metadata": {},
   "outputs": [
    {
     "name": "stdout",
     "output_type": "stream",
     "text": [
      "Controllable with rudders only?  True\n"
     ]
    }
   ],
   "source": [
    "print('Controllable with rudders only?  {}'.format(ch5_utils.isControllable(A,B[:,1].reshape(4, 1))[0]))"
   ]
  },
  {
   "cell_type": "markdown",
   "metadata": {},
   "source": [
    "This makes sense, intuitively, since the columns of $B$ have the non-zero entries in the same row positions."
   ]
  },
  {
   "cell_type": "markdown",
   "metadata": {},
   "source": [
    "### Problem 5.4"
   ]
  },
  {
   "cell_type": "code",
   "execution_count": 22,
   "metadata": {},
   "outputs": [],
   "source": [
    "# using constants from Problem 3.6\n",
    "m, M, l, g, k, R, r = .1, 1., 1., 9.8, 1., 100., .02\n",
    "A = np.array([[0., 1., 0., 0.], \n",
    "              [0., -k**2 / (M*r**2*R), -(m*g)/M, 0.], \n",
    "              [0., 0., 0., 1.], \n",
    "              [0, k**2 / (M*r**2*R*l), ((M+m)*g)/(M*l), 0.]])\n",
    "# not needed, but keeping around if a controllability question comes up...\n",
    "B = np.array([[0.],[k/(M*R*r)],[0.],[-k/(M*R*r*l)]])"
   ]
  },
  {
   "cell_type": "markdown",
   "metadata": {},
   "source": [
    "#### a)"
   ]
  },
  {
   "cell_type": "code",
   "execution_count": 25,
   "metadata": {},
   "outputs": [
    {
     "name": "stdout",
     "output_type": "stream",
     "text": [
      "Observable with cart position?  True\n"
     ]
    }
   ],
   "source": [
    "C = np.array([[1., 0., 0., 0.]])\n",
    "print('Observable with cart position?  {}'.format(ch5_utils.isObservable(A,C)[0]))"
   ]
  },
  {
   "cell_type": "markdown",
   "metadata": {},
   "source": [
    "#### b)"
   ]
  },
  {
   "cell_type": "code",
   "execution_count": 26,
   "metadata": {},
   "outputs": [
    {
     "name": "stdout",
     "output_type": "stream",
     "text": [
      "Observable with pendulum angle?  False\n"
     ]
    }
   ],
   "source": [
    "C = np.array([[0., 0., 1., 0.]])\n",
    "print('Observable with pendulum angle?  {}'.format(ch5_utils.isObservable(A,C)[0]))"
   ]
  },
  {
   "cell_type": "markdown",
   "metadata": {},
   "source": [
    "#### c)"
   ]
  },
  {
   "cell_type": "code",
   "execution_count": 28,
   "metadata": {},
   "outputs": [
    {
     "name": "stdout",
     "output_type": "stream",
     "text": [
      "Observable with cart velocity?  False\n"
     ]
    }
   ],
   "source": [
    "C = np.array([[0., 1., 0., 0.]])\n",
    "print('Observable with cart velocity?  {}'.format(ch5_utils.isObservable(A,C)[0]))"
   ]
  },
  {
   "cell_type": "markdown",
   "metadata": {},
   "source": [
    "#### d)"
   ]
  },
  {
   "cell_type": "code",
   "execution_count": 29,
   "metadata": {},
   "outputs": [
    {
     "name": "stdout",
     "output_type": "stream",
     "text": [
      "Observable with cart velocity and pendulum angle?  False\n"
     ]
    }
   ],
   "source": [
    "C = np.array([[0., 1., 1., 0.]])\n",
    "print('Observable with cart velocity and pendulum angle?  {}'.format(ch5_utils.isObservable(A,C)[0]))"
   ]
  },
  {
   "cell_type": "markdown",
   "metadata": {},
   "source": [
    "### Problem 5.5\n",
    "\n",
    "I appear to be missing something, but I believe that this system is uncontrollable by the results of Problem 5.1."
   ]
  },
  {
   "cell_type": "code",
   "execution_count": 30,
   "metadata": {},
   "outputs": [],
   "source": [
    "A = np.array([[0, -.00156, -.0711, 0, 0], \n",
    "            [0, -.1419, .0711, 0, 0], \n",
    "            [0, -.00875, -1.102, 0, 0], \n",
    "            [0, -.00128, -.1489, 0, -.0013], \n",
    "            [0, .0605, .1489, 0, -.0591]])\n",
    "B = np.array([[0, -.143, 0], [0, 0, 0], [.392, 0, 0], [0, .108, -.0592], [0, -.0486, 0]])\n",
    "E = np.array([[.2174, 0, 0], [-.074, .1434, 0], [-.036, 0, .1814], [0, 0, 0], [0, 0, 0]])\n",
    "# construct the metasystem\n",
    "Ameta = np.zeros((A.shape[1] + E.shape[1], A.shape[1] + E.shape[1]))\n",
    "Ameta[:A.shape[0], :A.shape[1]] = A\n",
    "Ameta[:A.shape[0], A.shape[1]:] = E\n",
    "Bmeta = np.zeros((B.shape[0] + E.shape[1], B.shape[1]))\n",
    "Bmeta[:B.shape[0], :] = B"
   ]
  },
  {
   "cell_type": "markdown",
   "metadata": {},
   "source": [
    "#### a)"
   ]
  },
  {
   "cell_type": "code",
   "execution_count": 31,
   "metadata": {},
   "outputs": [
    {
     "name": "stdout",
     "output_type": "stream",
     "text": [
      "Controllable with u1 only (meta)?  False\n",
      "Controllable with u1 only?  False\n"
     ]
    }
   ],
   "source": [
    "print('Controllable with u1 only (meta)?  {}'.format(ch5_utils.isControllable(Ameta,Bmeta[:,0].reshape(8, 1))[0]))\n",
    "print('Controllable with u1 only?  {}'.format(ch5_utils.isControllable(A,B[:,0].reshape(5, 1))[0]))"
   ]
  },
  {
   "cell_type": "markdown",
   "metadata": {},
   "source": [
    "#### b)"
   ]
  },
  {
   "cell_type": "code",
   "execution_count": 32,
   "metadata": {},
   "outputs": [
    {
     "name": "stdout",
     "output_type": "stream",
     "text": [
      "Controllable with u1 and u2 (meta)?  False\n",
      "Controllable with u1 and u2?  True\n"
     ]
    }
   ],
   "source": [
    "print('Controllable with u1 and u2 (meta)?  {}'.format(ch5_utils.isControllable(Ameta,Bmeta[:,:2].reshape(8, 2))[0]))\n",
    "print('Controllable with u1 and u2?  {}'.format(ch5_utils.isControllable(A,B[:,:2].reshape(5, 2))[0]))"
   ]
  },
  {
   "cell_type": "markdown",
   "metadata": {},
   "source": [
    "#### c)"
   ]
  },
  {
   "cell_type": "code",
   "execution_count": 33,
   "metadata": {},
   "outputs": [
    {
     "name": "stdout",
     "output_type": "stream",
     "text": [
      "Controllable with u1 and u3 (meta)?  False\n",
      "Controllable with u1 and u3?  True\n"
     ]
    }
   ],
   "source": [
    "print('Controllable with u1 and u3 (meta)?  {}'.format(ch5_utils.isControllable(Ameta,Bmeta[:,[0, 2]].reshape(8, 2))[0]))\n",
    "print('Controllable with u1 and u3?  {}'.format(ch5_utils.isControllable(A,B[:,[0, 2]].reshape(5, 2))[0]))"
   ]
  },
  {
   "cell_type": "markdown",
   "metadata": {},
   "source": [
    "#### d)"
   ]
  },
  {
   "cell_type": "code",
   "execution_count": 34,
   "metadata": {},
   "outputs": [
    {
     "name": "stdout",
     "output_type": "stream",
     "text": [
      "Controllable with u2 and u3 (meta)?  False\n",
      "Controllable with u2 and u3?  False\n"
     ]
    }
   ],
   "source": [
    "print('Controllable with u2 and u3 (meta)?  {}'.format(ch5_utils.isControllable(Ameta,Bmeta[:,1:].reshape(8, 2))[0]))\n",
    "print('Controllable with u2 and u3?  {}'.format(ch5_utils.isControllable(A,B[:,1:].reshape(5, 2))[0]))"
   ]
  },
  {
   "cell_type": "markdown",
   "metadata": {},
   "source": [
    "The algebraic controllability condition seems a bit restrictive here.  I believe that the issue is that the disturbances are uncontrollable."
   ]
  },
  {
   "cell_type": "markdown",
   "metadata": {},
   "source": [
    "### Problem 5.6"
   ]
  },
  {
   "cell_type": "code",
   "execution_count": 35,
   "metadata": {},
   "outputs": [],
   "source": [
    "C = np.zeros((8, 8))\n",
    "for i in range(5):\n",
    "    C[i, i] = 1."
   ]
  },
  {
   "cell_type": "markdown",
   "metadata": {},
   "source": [
    "#### a)"
   ]
  },
  {
   "cell_type": "code",
   "execution_count": 36,
   "metadata": {},
   "outputs": [
    {
     "name": "stdout",
     "output_type": "stream",
     "text": [
      "Observable with x1 and x4 (meta)?  False\n"
     ]
    }
   ],
   "source": [
    "print('Observable with x1 and x4 (meta)?  {}'.format(ch5_utils.isObservable(Ameta,C[[0, 3], :].reshape(2, 8))[0]))"
   ]
  },
  {
   "cell_type": "markdown",
   "metadata": {},
   "source": [
    "#### b)"
   ]
  },
  {
   "cell_type": "code",
   "execution_count": 37,
   "metadata": {},
   "outputs": [
    {
     "name": "stdout",
     "output_type": "stream",
     "text": [
      "Observable with x3 and x5 (meta)?  False\n"
     ]
    }
   ],
   "source": [
    "print('Observable with x3 and x5 (meta)?  {}'.format(ch5_utils.isObservable(Ameta,C[[2, 4], :].reshape(2, 8))[0]))"
   ]
  },
  {
   "cell_type": "markdown",
   "metadata": {},
   "source": [
    "#### c)"
   ]
  },
  {
   "cell_type": "code",
   "execution_count": 38,
   "metadata": {},
   "outputs": [
    {
     "name": "stdout",
     "output_type": "stream",
     "text": [
      "Observable with x3, x4, and x5 (meta)?  False\n"
     ]
    }
   ],
   "source": [
    "print('Observable with x3, x4, and x5 (meta)?  {}'.format(ch5_utils.isObservable(Ameta,C[[2, 3, 4], :].reshape(3, 8))[0]))"
   ]
  },
  {
   "cell_type": "markdown",
   "metadata": {},
   "source": [
    "The algebraic observability condition seems a bit restrictive here.  I believe that the issue is, again, that the disturbances are not measured."
   ]
  }
 ],
 "metadata": {
  "kernelspec": {
   "display_name": "Python 3",
   "language": "python",
   "name": "python3"
  },
  "language_info": {
   "codemirror_mode": {
    "name": "ipython",
    "version": 3
   },
   "file_extension": ".py",
   "mimetype": "text/x-python",
   "name": "python",
   "nbconvert_exporter": "python",
   "pygments_lexer": "ipython3",
   "version": "3.6.0"
  }
 },
 "nbformat": 4,
 "nbformat_minor": 2
}
