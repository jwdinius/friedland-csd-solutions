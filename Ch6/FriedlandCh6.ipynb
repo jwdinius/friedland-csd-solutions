{
 "cells": [
  {
   "cell_type": "markdown",
   "metadata": {},
   "source": [
    "## Chapter 6\n",
    "\n",
    "*Notes*\n",
    "* see \"utilities.py\" for implementations and unit-testing of methods used throughout this notebook."
   ]
  },
  {
   "cell_type": "code",
   "execution_count": 117,
   "metadata": {},
   "outputs": [],
   "source": [
    "import sys\n",
    "sys.path.append(\"..\")"
   ]
  },
  {
   "cell_type": "code",
   "execution_count": 118,
   "metadata": {},
   "outputs": [
    {
     "data": {
      "text/plain": [
       "<module 'Ch3.utilities' from '../Ch3/utilities.py'>"
      ]
     },
     "execution_count": 118,
     "metadata": {},
     "output_type": "execute_result"
    }
   ],
   "source": [
    "from sympy import *\n",
    "import numpy as np\n",
    "import matplotlib.pyplot as plt\n",
    "init_printing(use_latex='mathjax')\n",
    "from importlib import reload\n",
    "import Ch3.utilities as ch3_utils\n",
    "reload(ch3_utils)"
   ]
  },
  {
   "cell_type": "code",
   "execution_count": 119,
   "metadata": {},
   "outputs": [
    {
     "data": {
      "text/plain": [
       "<module 'Ch6.utilities' from '../Ch6/utilities.py'>"
      ]
     },
     "execution_count": 119,
     "metadata": {},
     "output_type": "execute_result"
    }
   ],
   "source": [
    "import Ch6.utilities as ch6_utils\n",
    "reload(ch6_utils)"
   ]
  },
  {
   "cell_type": "markdown",
   "metadata": {},
   "source": [
    "### Problem 6.1\n",
    "\n",
    "#### a)\n",
    "\n",
    "The desired poles are at $s = -25, -4, $ and $-2 \\pm j 2\\sqrt{3}$."
   ]
  },
  {
   "cell_type": "code",
   "execution_count": 120,
   "metadata": {},
   "outputs": [
    {
     "name": "stdout",
     "output_type": "stream",
     "text": [
      "⎡                 ⎛                    2                            ⎞         \n",
      "⎢1.0     0.001936⋅⎝0.0927643784786641⋅s  + 0.210828132906055⋅s - 1.0⎠   0.044 \n",
      "⎢───  - ───────────────────────────────────────────────────────────── + ───── \n",
      "⎢ s                          3                      2                     s   \n",
      "⎢       0.00408163265306122⋅s  + 0.102040816326531⋅s  - 0.044⋅s - 1.0         \n",
      "⎢                                                                             \n",
      "⎢                             ⎛                    2      ⎞                   \n",
      "⎢                       0.044⋅⎝0.0927643784786642⋅s  - 1.0⎠                   \n",
      "⎢ 0        ─────────────────────────────────────────────────────────────      \n",
      "⎢                               3                      2                      \n",
      "⎢          0.00408163265306122⋅s  + 0.102040816326531⋅s  - 0.044⋅s - 1.0      \n",
      "⎢                                                                             \n",
      "⎢                                0.102040816326531                            \n",
      "⎢ 0        ─────────────────────────────────────────────────────────────      \n",
      "⎢                               3                      2                      \n",
      "⎢          0.00408163265306122⋅s  + 0.102040816326531⋅s  - 0.044⋅s - 1.0      \n",
      "⎢                                                                             \n",
      "⎢                               0.102040816326531⋅s                           \n",
      "⎢ 0        ─────────────────────────────────────────────────────────────      \n",
      "⎢                               3                      2                      \n",
      "⎣          0.00408163265306122⋅s  + 0.102040816326531⋅s  - 0.044⋅s - 1.0      \n",
      "\n",
      "                                                                              \n",
      "                            -0.004                                  0.00040816\n",
      " ─────────────────────────────────────────────────────────────  - ────────────\n",
      "                      3                      2                                \n",
      " 0.00408163265306122⋅s  + 0.102040816326531⋅s  - 0.044⋅s - 1.0    0.0040816326\n",
      "                                                                              \n",
      "                                                                              \n",
      "                           -0.004⋅s                                           \n",
      " ─────────────────────────────────────────────────────────────       ─────────\n",
      "                      3                      2                                \n",
      " 0.00408163265306122⋅s  + 0.102040816326531⋅s  - 0.044⋅s - 1.0       0.0040816\n",
      "                                                                              \n",
      "               0.102040816326531⋅s⋅(0.04⋅s + 1.0)                             \n",
      " ─────────────────────────────────────────────────────────────       ─────────\n",
      "                      3                      2                                \n",
      " 0.00408163265306122⋅s  + 0.102040816326531⋅s  - 0.044⋅s - 1.0       0.0040816\n",
      "                                                                              \n",
      "                      1.0⋅(0.044⋅s + 1.0)                                     \n",
      " ─────────────────────────────────────────────────────────────       ─────────\n",
      "                      3                      2                                \n",
      " 0.00408163265306122⋅s  + 0.102040816326531⋅s  - 0.044⋅s - 1.0       0.0040816\n",
      "\n",
      "           ⎛      2                            ⎞         ⎤\n",
      "3265306122⋅⎝0.04⋅s  + 1.0⋅s - 0.431200000000004⎠    0.004⎥\n",
      "───────────────────────────────────────────────── + ─────⎥\n",
      "         3                      2                     s  ⎥\n",
      "5306122⋅s  + 0.102040816326531⋅s  - 0.044⋅s - 1.0        ⎥\n",
      "                                                         ⎥\n",
      "                                                         ⎥\n",
      "                  -0.004                                 ⎥\n",
      "────────────────────────────────────────────────────     ⎥\n",
      "            3                      2                     ⎥\n",
      "3265306122⋅s  + 0.102040816326531⋅s  - 0.044⋅s - 1.0     ⎥\n",
      "                                                         ⎥\n",
      "      0.102040816326531⋅(0.04⋅s + 1.0)                   ⎥\n",
      "────────────────────────────────────────────────────     ⎥\n",
      "            3                      2                     ⎥\n",
      "3265306122⋅s  + 0.102040816326531⋅s  - 0.044⋅s - 1.0     ⎥\n",
      "                                                         ⎥\n",
      "     0.102040816326531⋅s⋅(0.04⋅s + 1.0)                  ⎥\n",
      "────────────────────────────────────────────────────     ⎥\n",
      "            3                      2                     ⎥\n",
      "3265306122⋅s  + 0.102040816326531⋅s  - 0.044⋅s - 1.0     ⎦\n"
     ]
    }
   ],
   "source": [
    "# using constants from Problem 3.6\n",
    "m, M, l, g, k, R, r = .1, 1., 1., 9.8, 1., 100., .02\n",
    "A = Matrix([[0., 1., 0., 0.], \n",
    "            [0., -k**2 / (M*r**2*R), -(m*g)/M, 0.], \n",
    "            [0., 0., 0., 1.], \n",
    "            [0, k**2 / (M*r**2*R*l), ((M+m)*g)/(M*l), 0.]])\n",
    "B = Matrix([[0.],[k/(M*R*r)],[0.],[-k/(M*R*r*l)]])\n",
    "C = Matrix([[1., 0., 0., 0.]])\n",
    "D = zeros(1, 1)\n",
    "Phi = ch3_utils.computeResolvent(A, imag=False, smplfy=True)\n",
    "pprint(Phi)"
   ]
  },
  {
   "cell_type": "markdown",
   "metadata": {},
   "source": [
    "Now, provided the matrix $Q$ is full-rank, the gain matrix $G$ is found to be $[QW]^{-1}(\\mathbf{\\bar a}-\\mathbf{a})$ (see `bassGura` function implemented in \"utilities.py\"):"
   ]
  },
  {
   "cell_type": "code",
   "execution_count": 121,
   "metadata": {},
   "outputs": [
    {
     "name": "stdout",
     "output_type": "stream",
     "text": [
      "G =\n",
      "[[-326.53061224 -226.32653061 -812.09061224 -242.32653061]]\n"
     ]
    }
   ],
   "source": [
    "desiredPoles = np.array([-25., -4., np.complex(-2., 2.*np.sqrt(3)), np.complex(-2., -2.*np.sqrt(3))])\n",
    "G = ch6_utils.bassGura(np.array(A), np.array(B), desiredPoles)\n",
    "pprint('G =')\n",
    "pprint(G)"
   ]
  },
  {
   "cell_type": "markdown",
   "metadata": {},
   "source": [
    "So, the matrix $G$, where\n",
    "\\begin{eqnarray}\n",
    "G = \\begin{pmatrix}\n",
    "-326.53061224, \\ \n",
    "-226.32653061, \\\n",
    "-812.09061224, \\\n",
    "-242.32653061\n",
    "\\end{pmatrix}\n",
    "\\end{eqnarray}\n",
    "\n",
    "transforms the open-loop plant into the closed-loop plant at the desired poles.\n",
    "\n",
    "#### b)\n",
    "This part requires looking at $\\theta_r = \\frac{\\pi}{2}$ as an exogenous input to the system.  This system enters via the pendulum angle $\\theta$.  Following Example 6F, we can change $x_3 = \\theta$ to be the error signal $x_3 = \\theta_r - \\theta$.  $\\theta_r$ is constant, so $\\dot \\theta_r = 0$.  The modified open-loop system with $\\theta_r$ as an exogeneous input is:\n",
    "\n",
    "\\begin{eqnarray}\n",
    "\\mathbf{\\dot x} &=& \\begin{pmatrix}\n",
    "0 & 1 & 0 & 0 \\\\\n",
    "0 & -\\frac{k^2}{Mr^2R} & \\frac{mg}{M} & 0 \\\\\n",
    "0 & 0 & 0 & 1 \\\\\n",
    "0 & -\\frac{k^2}{Mr^2R \\ell} & \\frac{M+m}{M \\ell} g & 0\n",
    "\\end{pmatrix} \\mathbf{x} + \\frac{k}{MRr}\\begin{pmatrix}\n",
    "0 \\\\\n",
    "1 \\\\\n",
    "0 \\\\\n",
    "\\frac{1}{\\ell}\n",
    "\\end{pmatrix} u + \n",
    "\\begin{pmatrix}\n",
    "0 \\\\\n",
    "-\\frac{mg}{M} \\\\\n",
    "0 \\\\\n",
    "-\\frac{M+m}{M \\ell}g\n",
    "\\end{pmatrix} \\theta_r\n",
    "\\end{eqnarray}\n",
    "\n",
    "where the state vector $\\mathbf{x}$ is $\\mathbf{x} = [x_1, \\ x_2, \\ e_\\theta, \\ \\dot e_\\theta]^T$.\n",
    "\n",
    "The design process of Part a) can now be followed to find the gain matrix that transforms the characteristic polynomial to the desired form.  Now, the scalar feedforward gain $G_0$ needs to be found via the method from Section 6.4; this gain will eliminate error from a step input to the pendulum angle error.  The question did not explicitly say to follow these steps I have outlined, so I will stop here."
   ]
  },
  {
   "cell_type": "markdown",
   "metadata": {},
   "source": [
    "### Problem 6.2"
   ]
  },
  {
   "cell_type": "code",
   "execution_count": 122,
   "metadata": {},
   "outputs": [],
   "source": [
    "Kv, Lv, J, Km, Omm, Kdp = 94.3, 1.0, 7900., 8.46e6, 45.9, 6.33e-6\n",
    "A = np.array([[0., 1., 0., 0.], [0., 0., 1., 0.], [0., -Km/J, -(Km/J)*(Omm*J/Km), (Km/J)], [0., 0., -Kv*Kdp*J, -Lv*Kv]])\n",
    "B = np.array([[0.], [0.], [0.], [Kv]])\n",
    "C = np.array([[1., 0., 0., 0.]])\n",
    "D = np.zeros((1, 1))"
   ]
  },
  {
   "cell_type": "markdown",
   "metadata": {},
   "source": [
    "#### a)"
   ]
  },
  {
   "cell_type": "code",
   "execution_count": 123,
   "metadata": {},
   "outputs": [],
   "source": [
    "desiredPoles = np.array([-10.*np.sqrt(2)*np.complex(1., 1.), -10.*np.sqrt(2)*np.complex(1., -1.), np.complex(-64.5, 69.6), np.complex(-64.5, -69.6)])"
   ]
  },
  {
   "cell_type": "code",
   "execution_count": 124,
   "metadata": {},
   "outputs": [
    {
     "name": "stdout",
     "output_type": "stream",
     "text": [
      "G =\n",
      "[[3.56664832e+01 1.85180106e+00 1.80198060e-02 1.81169366e-01]]\n"
     ]
    }
   ],
   "source": [
    "G = ch6_utils.bassGura(A, B, desiredPoles)\n",
    "pprint('G =')\n",
    "pprint(G)"
   ]
  },
  {
   "cell_type": "markdown",
   "metadata": {},
   "source": [
    "#### b)"
   ]
  },
  {
   "cell_type": "markdown",
   "metadata": {},
   "source": [
    "The objective for $g_A$ becomes to find the desired coefficients $\\bar a_i$, $i = 1, \\dots, 4$ s.t.:\n",
    "\\begin{eqnarray}\n",
    "\\mathbf{qw}_3^{-1} \\Delta \\mathbf{a} &=& 0 \\\\\n",
    "\\mathbf{qw}_4^{-1} \\Delta \\mathbf{a} &=& 0\n",
    "\\end{eqnarray}\n",
    "\n",
    "Where $\\mathbf{qw}_i^{-1}$ is the $i$th row of $[(QW)^T]^{-1}$ and $\\mathbf{\\Delta a} = \\mathbf{\\bar a} - \\mathbf{a}$, where $\\mathbf{a}$ is the coefficient array of the open-loop process and $\\mathbf{\\bar a}$ is the unknown coefficient array.\n",
    "\n",
    "Similarly, for $g_B$:\n",
    "\n",
    "\\begin{eqnarray}\n",
    "\\mathbf{qw}_2^{-1} \\Delta \\mathbf{a} &=& 0 \\\\\n",
    "\\mathbf{qw}_4^{-1} \\Delta \\mathbf{a} &=& 0\n",
    "\\end{eqnarray}\n",
    "\n",
    "The design goal is to keep the two poles in the desired locations and then see how close the remaining two poles can be brought to the fast pole locations with zero $g_3, g_4$.  First, factor out a quadratic with the desired pole locations at $-10 \\sqrt{2} (1 \\pm j)$: "
   ]
  },
  {
   "cell_type": "code",
   "execution_count": 125,
   "metadata": {},
   "outputs": [
    {
     "name": "stdout",
     "output_type": "stream",
     "text": [
      "[  1.          28.28427125 400.        ]\n"
     ]
    }
   ],
   "source": [
    "coeffsFromFixedRoots = np.poly([-10.*np.sqrt(2)*np.complex(1., 1.), -10.*np.sqrt(2)*np.complex(1., -1.)])\n",
    "pprint(coeffsFromFixedRoots)"
   ]
  },
  {
   "cell_type": "markdown",
   "metadata": {},
   "source": [
    "The desired closed-loop characteristic polynomial now has the form $(s^2 + 28.284s + 400)(s^2 + \\chi_1 s + \\chi_2)$\n",
    "\n",
    "The desired characteristic polynomial expanded is:\n",
    "\n",
    "\\begin{eqnarray}\n",
    "s^4 + (\\chi_1 + 28.284) s^3 + (\\chi_2 + 28.284 \\chi_1 + 400) s^2 + (28.284 \\chi_2 + 400 \\chi_1) s + 400 \\chi_2\n",
    "&=& 0\n",
    "\\end{eqnarray}\n",
    "\n",
    "The desired coefficients are:\n",
    "\n",
    "\\begin{eqnarray}\n",
    "\\mathbf{\\bar a} = \\begin{pmatrix}\n",
    "\\chi_1 + 28.284, \\\n",
    "28.284 \\chi_1 + \\chi_2 + 400, \\\n",
    "400 \\chi_1 + 28.284 \\chi_2, \\\n",
    "400 \\chi_2\n",
    "\\end{pmatrix}\n",
    "\\end{eqnarray}\n",
    "\n",
    "Follow the steps from Example 6F to find $\\chi_1, \\chi_2$: this means setting up a linear system $M \\Delta \\mathbf{a} = \\mathbf{0}$.  The matrix $M$ are the rows of the $[(QW)^T]^{-1}$ discussed above."
   ]
  },
  {
   "cell_type": "code",
   "execution_count": 126,
   "metadata": {},
   "outputs": [
    {
     "name": "stdout",
     "output_type": "stream",
     "text": [
      "linear system to solve:\n",
      "⎡-0.000174442514082865⋅c₁ + 9.90250420543058e-6⋅c₂ - 0.0486416512363089⎤\n",
      "⎢                                                                      ⎥\n",
      "⎣               0.0106044538706257⋅c₁ - 1.18680805938494               ⎦\n",
      " = \n",
      "⎡0⎤\n",
      "⎢ ⎥\n",
      "⎣0⎦\n"
     ]
    }
   ],
   "source": [
    "Q = control.ctrb(A, B).astype('float')\n",
    "W = np.eye(A.shape[0]).astype('float')\n",
    "openLoopCoeffs = ch6_utils.computeCoeffs(ch6_utils.computePoles(A))\n",
    "for i in range(W.shape[0]):\n",
    "    W[i, i+1:] = openLoopCoeffs[1:-(i+1)]\n",
    "M = Matrix(np.linalg.inv((Q@W).T))\n",
    "c1, c2 = symbols('c1 c2')\n",
    "da = Matrix([[c1 + 28.284 - 140.2], [28.284*c1 + c2 + 400. - 10449.], [28.284*c2 + 400.*c1 - 100980.], [400.*c2]])\n",
    "pprint('linear system to solve:')\n",
    "pprint(M[2:, :] * da)\n",
    "pprint(' = ')\n",
    "pprint(Matrix([[0], [0]]))"
   ]
  },
  {
   "cell_type": "code",
   "execution_count": 127,
   "metadata": {},
   "outputs": [
    {
     "name": "stdout",
     "output_type": "stream",
     "text": [
      "Roots of characteristic polynomial given g3, g4=0 - [-55.96001509+61.25294542j -55.96001509-61.25294542j\n",
      " -14.142     +14.14227125j -14.142     -14.14227125j]\n"
     ]
    }
   ],
   "source": [
    "Asys = np.array([[-1.7444e-4, 9.9025e-6], [0.010604, 0.]])\n",
    "bsys = np.array([[4.864e-2], [1.1868]])\n",
    "sol = np.linalg.solve(Asys, bsys)\n",
    "gACharPolyCoeffs = np.array([1., sol[0] + 28.284, 28.284*sol[0] + sol[1] + 400., 28.284*sol[1] + 400.*sol[0], 400.*sol[1]])\n",
    "gACharPolyRoots = np.roots(gACharPolyCoeffs)\n",
    "print('Roots of characteristic polynomial given g3, g4=0 - {}'.format(gACharPolyRoots))"
   ]
  },
  {
   "cell_type": "markdown",
   "metadata": {},
   "source": [
    "This is pretty good, let's find the gain matrix $G = [g_1, g_2, 0, 0]$ that results."
   ]
  },
  {
   "cell_type": "code",
   "execution_count": 128,
   "metadata": {},
   "outputs": [
    {
     "name": "stdout",
     "output_type": "stream",
     "text": [
      "gA = [[ 2.72653436e+01  1.37120514e+00 -3.79322042e-06  4.27378292e-05]]\n"
     ]
    }
   ],
   "source": [
    "da = gACharPolyCoeffs - openLoopCoeffs\n",
    "gA = np.array(M).dot(da[1:]).astype('float').reshape((1, 4))\n",
    "pprint('gA = {}'.format(gA))"
   ]
  },
  {
   "cell_type": "markdown",
   "metadata": {},
   "source": [
    "Close enough given rounding.  Let's try $g_B$."
   ]
  },
  {
   "cell_type": "code",
   "execution_count": 129,
   "metadata": {},
   "outputs": [
    {
     "name": "stdout",
     "output_type": "stream",
     "text": [
      "linear system to solve:\n",
      "⎡-0.00664345218845344⋅c₁ + 0.000280082428946399⋅c₂ + 0.186853184720562⎤\n",
      "⎢                                                                     ⎥\n",
      "⎣              0.0106044538706257⋅c₁ - 1.18680805938494               ⎦\n",
      " = \n",
      "⎡0⎤\n",
      "⎢ ⎥\n",
      "⎣0⎦\n"
     ]
    }
   ],
   "source": [
    "da = Matrix([[c1 + 28.284 - 140.2], [28.284*c1 + c2 + 400. - 10449.], [28.284*c2 + 400.*c1 - 100980.], [400.*c2]])\n",
    "Mslice = Matrix([M[1, :], M[3, :]])\n",
    "pprint('linear system to solve:')\n",
    "pprint(Mslice * da)\n",
    "pprint(' = ')\n",
    "pprint(Matrix([[0], [0]]))"
   ]
  },
  {
   "cell_type": "code",
   "execution_count": 130,
   "metadata": {},
   "outputs": [
    {
     "name": "stdout",
     "output_type": "stream",
     "text": [
      "Roots of characteristic polynomial given g2, g4=0 - [-89.78196398 +0.j         -22.1380662  +0.j\n",
      " -14.142     +14.14227125j -14.142     -14.14227125j]\n",
      "gB = [[ 7.87288323e+00 -3.57369719e-05 -4.84849442e-02  4.27378292e-05]]\n"
     ]
    }
   ],
   "source": [
    "Asys = np.array([[-6.6435e-3, 2.80082e-4], [0.010604, 0.]])\n",
    "bsys = np.array([[-.18685], [1.1868]])\n",
    "sol = np.linalg.solve(Asys, bsys)\n",
    "gBCharPolyCoeffs = np.array([1., sol[0] + 28.284, 28.284*sol[0] + sol[1] + 400., 28.284*sol[1] + 400.*sol[0], 400.*sol[1]])\n",
    "gBCharPolyRoots = np.roots(gBCharPolyCoeffs)\n",
    "print('Roots of characteristic polynomial given g2, g4=0 - {}'.format(gBCharPolyRoots))\n",
    "da = gBCharPolyCoeffs - openLoopCoeffs\n",
    "gB = np.array(M).dot(da[1:]).astype('float').reshape((1, 4))\n",
    "pprint('gB = {}'.format(gB))"
   ]
  },
  {
   "cell_type": "markdown",
   "metadata": {},
   "source": [
    "This doesn't work so well; the fast oscillatory poles are no longer oscillatory.  The design goal was to minimize the movement of the fast poles via placement, so the first option is better."
   ]
  },
  {
   "cell_type": "markdown",
   "metadata": {},
   "source": [
    "#### c)\n",
    "\n",
    "Following the signal flow of the block diagram (with $G_r$ being the feedforward gain on the reference angle $\\theta_r$):\n",
    "\n",
    "\\begin{eqnarray}\n",
    "e(s) &=& \\frac{1 - G_r H(s)}{1 + g H(s)} \\theta_r(s) \\\\\n",
    "&=& \\frac{1}{1 + g H(s)} \\theta_r(s) - \\frac{G_r H(s)}{1 + g H(s)} \\theta_r(s)\n",
    "\\end{eqnarray}\n",
    "\n",
    "By linearity of limits, i.e. $\\lim f + g = \\lim f + \\lim g$, we can consider the limit as $s \\to 0$ of $s$ times each term above.  If $\\lim_{s \\to 0} \\frac{s}{1 + gH(s)} \\theta_r(s)$ is non-zero, we would need a feedforward gain from the second term above to eliminate the difference.\n",
    "\n",
    "$\\theta_r(s) = \\frac{\\theta_r}{s}$ is the Laplace transform of a zeroth order polynomial in time ($m=0$).  As was mentioned in the problem setup, $H(s)$ is a type-1 system ($p=1$), so it has a proper pole at $s=0$ with multiplicity 1.  From Eqn. 4.51 from the book, we see that $p > m$ and so $\\lim_{s \\to 0} \\frac{s}{1 + gH(s)} \\theta_r(s) = 0$.  Therefore, no feedforward gain is needed because there is no steady-state error introduced by the feedback: $G_r = 0$."
   ]
  },
  {
   "cell_type": "markdown",
   "metadata": {},
   "source": [
    "#### d)"
   ]
  },
  {
   "cell_type": "code",
   "execution_count": 131,
   "metadata": {},
   "outputs": [
    {
     "name": "stdout",
     "output_type": "stream",
     "text": [
      "############## Finding G0 for Full ##################\n",
      "G0 = [[0.11865374 0.00110298 0.01060445]]\n",
      "\n",
      "\n",
      "############## Finding G0 for gA ##################\n",
      "G0 = [[0.09286674 0.00093385 0.01060445]]\n",
      "\n",
      "\n",
      "############## Finding G0 for gB ##################\n",
      "G0 = [[0.04438559 0.00093385 0.01060445]]\n",
      "\n",
      "\n"
     ]
    }
   ],
   "source": [
    "C = np.array([1., 0., 0., 0.]).reshape((1, 4))\n",
    "D = np.zeros(1)\n",
    "E = np.zeros((4,3))\n",
    "E[1, 0] = 1.\n",
    "E[2, 1] = 1.\n",
    "E[3, 2] = 1.\n",
    "gainMatrices = {'Full': G, 'gA': gA, 'gB': gB}\n",
    "for g in gainMatrices:\n",
    "    try:\n",
    "        # follow steps of Feedforward Gain stage of Example 4F\n",
    "        print('############## Finding G0 for {} ##################'.format(g))\n",
    "        G0 = ch6_utils.bassGuraExo(A, B, C, gainMatrices[g], E)\n",
    "        pprint('G0 = {}'.format(G0))\n",
    "        print('\\n')\n",
    "    except Exception as e:\n",
    "        print(e)\n",
    "        print('G0 is undefined')\n",
    "        print('\\n')\n",
    "        continue"
   ]
  },
  {
   "cell_type": "markdown",
   "metadata": {},
   "source": [
    "$G_0$ is defined in all cases, so we can minimize complexity of the design by going with gain $g_A$.  This is even more true because of the feedforward gain matrices $G_0$ having the same number of non-zero elements.\n",
    "\n",
    "### Problem 6.3\n",
    "\n",
    "We know from Problem 5.2 that the system is controllable with either motor only.  The problem explicitly says to use motor 1, so that's cool.  We want to bring the system to rest at the origin, so the states _are_ the errors."
   ]
  },
  {
   "cell_type": "code",
   "execution_count": 132,
   "metadata": {},
   "outputs": [
    {
     "name": "stdout",
     "output_type": "stream",
     "text": [
      "G =\n",
      "[[ 1.0122e+04 -9.1220e+03  2.0000e+00 -2.4497e+04]]\n"
     ]
    }
   ],
   "source": [
    "# with K, M, k, R, r = 40, 1, 2, 100, 0.02\n",
    "A = np.array([[0, 0, 1, 0], [0, 0, 0, 1], [-40, 40, -100, 0], [40, -40, 0, -100]])\n",
    "B = np.array([[0], [0], [1], [0]])\n",
    "C = np.array([[1, 0, 0, 0]])\n",
    "closedLoopPoles = np.array([np.complex(-1., -1.), np.complex(-1., 1.), np.complex(-100., -100.), np.complex(-100., 100.)])\n",
    "G = ch6_utils.bassGura(A, B, closedLoopPoles)\n",
    "pprint('G =')\n",
    "pprint(G)"
   ]
  },
  {
   "cell_type": "markdown",
   "metadata": {},
   "source": [
    "The gain is $G = [10122, \\ -9122, \\ 2, \\ -24497]$ and the feedback law is $u = -10122 z_1 + 9122 z_2 - 2 \\dot z_1 + 24497 \\dot z_2$."
   ]
  },
  {
   "cell_type": "markdown",
   "metadata": {},
   "source": [
    "### Problem 6.4"
   ]
  },
  {
   "cell_type": "markdown",
   "metadata": {},
   "source": [
    "This part requires looking at $V$ as an exogenous input to the system.  Following Example 6F, we can change $z_3 = \\dot z_1$, $z_4 = \\dot z_2$ to be the error signals $e_3 = z_3 - V$ and $e_4 = z_4 - V$.  The modified open-loop system with $V$ as an exogeneous input is:\n",
    "\n",
    "\\begin{eqnarray}\n",
    "\\mathbf{\\dot x} &=& \\begin{pmatrix}\n",
    "0 & 0 & -1 & 0 \\\\\n",
    "0 & 0 & 0 & -1 \\\\\n",
    "-40 & 40 & 100 & 0 \\\\\n",
    "40 & -40 & 0 & 100\n",
    "\\end{pmatrix} \\mathbf{x} + \\begin{pmatrix}\n",
    "0 \\\\\n",
    "0 \\\\\n",
    "1 \\\\\n",
    "0\n",
    "\\end{pmatrix} u + \n",
    "\\begin{pmatrix}\n",
    "1 \\\\\n",
    "1 \\\\\n",
    "-100 \\\\\n",
    "-100\n",
    "\\end{pmatrix} V\n",
    "\\end{eqnarray}\n",
    "\n",
    "where the state vector $\\mathbf{x}$ is $\\mathbf{x} = [z_1, \\ z_2, \\ e_3, \\ e_4]^T$ and the control $u$ is the motor voltage."
   ]
  },
  {
   "cell_type": "code",
   "execution_count": 133,
   "metadata": {},
   "outputs": [
    {
     "name": "stdout",
     "output_type": "stream",
     "text": [
      "[G, G0] =\n",
      "[[ -50682.   51682.     402. -127917.  127515.]]\n"
     ]
    }
   ],
   "source": [
    "# with K, M, k, R, r = 40, 1, 2, 100, 0.02\n",
    "A = np.array([[0, 0, -1, 0], [0, 0, 0, -1], [-40, 40, 100, 0], [40, -40, 0, 100]])\n",
    "B = np.array([[0], [0], [1], [0]])\n",
    "C = np.array([[1, 0, 0, 0]])\n",
    "E = np.array([[1], [1], [-100], [-100]])\n",
    "\n",
    "sys = control.StateSpace(A, B, C, D)\n",
    "closedLoopPoles =np.array([np.complex(-1., -1.), np.complex(-1., 1.), np.complex(-100., -100.), np.complex(-100., 100.)])\n",
    "G = ch6_utils.bassGura(A, B, closedLoopPoles, C, E)\n",
    "pprint('[G, G0] =')\n",
    "pprint(G)"
   ]
  },
  {
   "cell_type": "markdown",
   "metadata": {},
   "source": [
    "The new feedback law is $u = -G \\mathbf{x} - G_0 V$, which for the $G, G_0$ found above is:\n",
    "\n",
    "\\begin{eqnarray}\n",
    "u = 50682 z_1 - 51682 z_2 - 402 e_3 + 127917 e_4 - 127515 V\n",
    "\\end{eqnarray}"
   ]
  },
  {
   "cell_type": "markdown",
   "metadata": {},
   "source": [
    "### Problem 6.5"
   ]
  },
  {
   "cell_type": "code",
   "execution_count": 134,
   "metadata": {},
   "outputs": [
    {
     "name": "stdout",
     "output_type": "stream",
     "text": [
      "G =\n",
      "[[ 0.93033864 -0.28811487 -0.94117647]]\n"
     ]
    }
   ],
   "source": [
    "A = np.array([[-1, 1, 0], [-5, -.5, 0], [0, 1, 0]])\n",
    "B = np.array([[-.1], [-9], [0]])\n",
    "C = np.eye(3)\n",
    "D = np.zeros((3,1))\n",
    "closedLoopPoles = np.array([np.complex(-2., 0.), np.complex(-1., np.sqrt(3.)), np.complex(-1., -np.sqrt(3.))])\n",
    "G = ch6_utils.bassGura(A, B, closedLoopPoles)\n",
    "pprint('G =')\n",
    "pprint(G)"
   ]
  },
  {
   "cell_type": "markdown",
   "metadata": {},
   "source": [
    "The gain is $G = [ 0.93033864, \\ -0.28811487, \\ -0.94117647]$."
   ]
  },
  {
   "cell_type": "markdown",
   "metadata": {},
   "source": [
    "### Problem 6.6\n",
    "\n",
    "#### a)\n",
    "\n",
    "![prob6.6](block1.png)\n",
    "\n",
    "#### b)"
   ]
  },
  {
   "cell_type": "code",
   "execution_count": 135,
   "metadata": {},
   "outputs": [
    {
     "name": "stdout",
     "output_type": "stream",
     "text": [
      "G =\n",
      "[[ 3.59461768 -0.63217653 -5.04918509 -4.59558824]]\n"
     ]
    }
   ],
   "source": [
    "A = np.array([[-1, 1, 0, 0], [-5, -.5, 0, 0], [0, 1, 0, 0], [-1, 0, 1, 0]])\n",
    "B = np.array([[-.1], [-9], [0], [0]])\n",
    "C = np.array([[1, 0, 0, 0]])\n",
    "D = np.zeros((4,1))\n",
    "closedLoopPoles = np.array(2.5*np.array([np.complex(-0.5, 0.5*np.sqrt(3.)), np.complex(-0.5, -0.5*np.sqrt(3.)),\n",
    "                                         np.complex(-0.5*np.sqrt(3.), 0.5), np.complex(-0.5*np.sqrt(3.), -0.5)]))\n",
    "G = ch6_utils.bassGura(A, B, closedLoopPoles)\n",
    "pprint('G =')\n",
    "pprint(G)"
   ]
  },
  {
   "cell_type": "markdown",
   "metadata": {},
   "source": [
    "The gain is $G = [ 3.59461768, \\ -0.63217653, \\ -5.04918509, \\ -4.59558824]$.  If we knew the desired speed, $V$, we could find the feedforward gain on $h_0$ as well."
   ]
  },
  {
   "cell_type": "markdown",
   "metadata": {},
   "source": [
    "### Problem 6.7\n",
    "\n",
    "#### a)"
   ]
  },
  {
   "cell_type": "code",
   "execution_count": 136,
   "metadata": {},
   "outputs": [
    {
     "name": "stdout",
     "output_type": "stream",
     "text": [
      "-b \n",
      "───\n",
      " T \n",
      "-LR⋅(T⋅(YaOverV⋅da + YpOverV⋅p + gOverV⋅φ + r⋅(YrOverV - 1)) + b⋅(T⋅YbOverV + \n",
      "──────────────────────────────────────────────────────────────────────────────\n",
      "                                                        T⋅YRoverV             \n",
      "\n",
      "1)) + T⋅YRoverV⋅(La⋅da + Lb⋅b + Lp⋅p + Lr⋅r)\n",
      "────────────────────────────────────────────\n",
      "                                            \n",
      "-NR⋅(T⋅(YaOverV⋅da + YpOverV⋅p + gOverV⋅φ + r⋅(YrOverV - 1)) + b⋅(T⋅YbOverV + \n",
      "──────────────────────────────────────────────────────────────────────────────\n",
      "                                                        T⋅YRoverV             \n",
      "\n",
      "1)) + T⋅YRoverV⋅(Na⋅da + Nb⋅b + Np⋅p + Nr⋅r)\n",
      "────────────────────────────────────────────\n",
      "                                            \n",
      "p\n"
     ]
    }
   ],
   "source": [
    "dr, YRoverV, YaOverV, da, gOverV, phi, YrOverV, r, YpOverV, p, YbOverV, T, b = symbols('dr YRoverV YaOverV da gOverV phi YrOverV r YpOverV p YbOverV T b', real=True)\n",
    "\n",
    "dr = (1 / YRoverV) * (-YaOverV * da - gOverV * phi + (1 - YrOverV) * r - YpOverV * p - (YbOverV + 1 / T) * b)\n",
    "Lb, Lp, Lr, La, LR, Nb, Np, Nr, Na, NR = symbols('Lb Lp Lr La LR Nb Np Nr Na NR', real=True)\n",
    "\n",
    "bdot = YbOverV * b + YpOverV * p + (YrOverV - 1) * r + gOverV * phi + YaOverV * da + YRoverV * dr\n",
    "pdot = Lb*b + Lp*p + Lr*r + La*da + LR*dr\n",
    "rdot = Nb*b + Np*p + Nr*r + Na*da + NR*dr\n",
    "phidot = p\n",
    "pprint(simplify(bdot))  # just for verification, should = -b / T\n",
    "pprint(simplify(pdot))\n",
    "pprint(simplify(rdot))\n",
    "pprint(simplify(phidot))"
   ]
  },
  {
   "cell_type": "code",
   "execution_count": 137,
   "metadata": {},
   "outputs": [
    {
     "name": "stdout",
     "output_type": "stream",
     "text": [
      "[G, G0] =\n",
      "[[   -2.43234778   403.19030857   -14.87746553 -1714.16334596]]\n"
     ]
    }
   ],
   "source": [
    "YbOverV = -.746\n",
    "YpOverV = .006\n",
    "YrOverV = .001\n",
    "gOverV = .0369\n",
    "YaOverV = .0012\n",
    "YRoverV = .0092\n",
    "Lb = -12.9\n",
    "Lp = -.746\n",
    "Lr = .387\n",
    "La = 6.05\n",
    "LR = .952\n",
    "Nb = 4.31\n",
    "Np = .024\n",
    "Nr = -.174\n",
    "Na = -.416\n",
    "NR = -1.76\n",
    "T = 0.2\n",
    "A = np.array([[-LR*(YpOverV / YRoverV + Lp), -LR*((YrOverV - 1.) / YRoverV + Lr), -LR*gOverV / YRoverV],\n",
    "              [-NR*(YpOverV / YRoverV + Np), -NR*((YrOverV - 1.) / YRoverV + Nr), -NR*gOverV / YRoverV],\n",
    "              [1., 0., 0.]])\n",
    "B = np.array([[-LR*(YaOverV / YRoverV + La)],\n",
    "              [-NR*(YaOverV / YRoverV + Na)],\n",
    "              [0.]])\n",
    "C = np.array([[0, 0, 1]])\n",
    "E = np.array([[-LR*(T*YbOverV + 1.) / (T*YRoverV)],\n",
    "              [-NR*(T*YbOverV + 1.) / (T*YRoverV)],\n",
    "              [0.]])\n",
    "closedLoopPoles = np.array([-1., np.complex(-1., 3.), np.complex(-1., -3.)])\n",
    "G = ch6_utils.bassGura(A, B, closedLoopPoles, C, E)\n",
    "pprint('[G, G0] =')\n",
    "pprint(G)"
   ]
  },
  {
   "cell_type": "markdown",
   "metadata": {},
   "source": [
    "So the gain matrix $\\mathbf{G} \\triangleq [ G \\ | \\ G_0 ] = [-2.4323, 403.1903, -14.8775, -1714.1633]$ leads to a closed-loop system with the desired poles/response.\n",
    "\n",
    "#### b)\n",
    "Replacing $\\phi$ with $e_\\phi \\triangleq \\phi - \\phi_0$ in the plant, where $\\phi_0$ is a constant exogenous input, results in the following (slightly) modified problem:"
   ]
  },
  {
   "cell_type": "code",
   "execution_count": 138,
   "metadata": {},
   "outputs": [
    {
     "name": "stdout",
     "output_type": "stream",
     "text": [
      "[G, G0] =\n",
      "[[   -2.43234778   403.19030857   -14.87746553 -1714.16334596\n",
      "                           14.86897684]]                     \n"
     ]
    }
   ],
   "source": [
    "A = np.array([[-LR*(YpOverV / YRoverV + Lp), -LR*((YrOverV - 1.) / YRoverV + Lr), -LR*gOverV / YRoverV],\n",
    "              [-NR*(YpOverV / YRoverV + Np), -NR*((YrOverV - 1.) / YRoverV + Nr), -NR*gOverV / YRoverV],\n",
    "              [1., 0., 0.]])\n",
    "B = np.array([[-LR*(YaOverV / YRoverV + La)],\n",
    "              [-NR*(YaOverV / YRoverV + Na)],\n",
    "              [0.]])\n",
    "# add neg. of third column of A to E because of \\phi -> \\phi - \\phi_0 translation\n",
    "E = np.array([[-LR*(T*YbOverV + 1.) / (T*YRoverV), LR*gOverV / YRoverV],\n",
    "              [-NR*(T*YbOverV + 1.) / (T*YRoverV), NR*gOverV / YRoverV],\n",
    "              [0., 0.]])\n",
    "C = np.array([[0, 0, 1]])\n",
    "\n",
    "closedLoopCoeffs = np.array([-1., np.complex(-1., 3.), np.complex(-1., -3.)])\n",
    "G = ch6_utils.bassGura(A, B, closedLoopPoles, C, E)\n",
    "pprint('[G, G0] =')\n",
    "pprint(G)"
   ]
  },
  {
   "cell_type": "markdown",
   "metadata": {},
   "source": [
    "So the gain matrix $\\mathbf{G} \\triangleq [ G \\ | \\ G_0 ] = [-2.4323, 403.1903, -14.8775, -1714.1633, 14.8690]$ leads to a closed-loop system with the desired poles/response.\n",
    "\n",
    "It is worth noting that the _magnitude_ of the feedforward gain $G_{\\phi_0} \\approx 14.8690$ is approximately equal to the feedback gain on the error signal $e_\\phi$.\n",
    "\n",
    "### Problem 6.8\n",
    "\n",
    "#### a)\n",
    "Ignore any exogenous input here.  The data from Problem 3.7 is:"
   ]
  },
  {
   "cell_type": "code",
   "execution_count": 139,
   "metadata": {},
   "outputs": [
    {
     "name": "stdout",
     "output_type": "stream",
     "text": [
      "G =\n",
      "[[2.22044605e-15 6.50000000e+00 6.50000000e+00]]\n"
     ]
    }
   ],
   "source": [
    "_R, _C = 2., 1.\n",
    "A = np.array([[-3./(_R*_C), 1./(_R*_C), 0.],[1./(_R*_C), -2./(_R*_C), 1./(_R*_C)], [0., 1./(_R*_C), -3./(_R*_C)]])\n",
    "B = np.array([[2. / (_R*_C)], [0.], [0.]])\n",
    "closedLoopPoles = np.roots(np.array([1., 4., 8., 8.]))\n",
    "G = ch6_utils.bassGura(A, B, closedLoopPoles)\n",
    "pprint('G =')\n",
    "pprint(G)"
   ]
  },
  {
   "cell_type": "markdown",
   "metadata": {},
   "source": [
    "The gain matrix is $G = [0, \\ 6.5, \\ 6.5]$.  It is interesting that the gain on $v_1$ is 0.\n",
    "\n",
    "#### b)\n",
    "\n",
    "Replacing $v_3$ with $e = v_3 - \\bar v$ and using $\\mathbf{x}_0 = [v_0, \\ \\bar v]^T$ results in the following state space model:"
   ]
  },
  {
   "cell_type": "code",
   "execution_count": 140,
   "metadata": {},
   "outputs": [
    {
     "name": "stdout",
     "output_type": "stream",
     "text": [
      "[G, G0] =\n",
      "[[ 2.22044605e-15  6.50000000e+00  6.50000000e+00 -2.70000000e+01\n",
      "                          1.05000000e+01]]                       \n"
     ]
    }
   ],
   "source": [
    "E = np.array([[0., 0.], [0., 1./(_R*_C)], [-3./(_R*_C), 1./(_R*_C)]])\n",
    "# assume observability of the final signal only\n",
    "C=np.array([[0., 0., 1.]])\n",
    "G = ch6_utils.bassGura(A, B, closedLoopPoles, C, E)\n",
    "pprint('[G, G0] =')\n",
    "pprint(G)"
   ]
  },
  {
   "cell_type": "markdown",
   "metadata": {},
   "source": [
    "So the gain matrix $\\mathbf{G} \\triangleq [ G \\ | \\ G_0 ] = [0, 6.5, 38.5, -27.0, 10.5]$ leads to a closed-loop system with the desired poles/response.\n",
    "\n",
    "#### c)\n",
    "\n",
    "![prob6.8](block2.png)\n",
    "\n",
    "The structure that jumps out is the fact that the feedback and feedforward terms are applied to a signal that is not part of the observed error dynamics.  What I mean is that the only non-zero entry in the $B$ matrix applies to the _only_ signal that is not present in the dynamics equation for $e$.  It is also interesting that the desired temperature/voltage feeds forward to both $v_2$ and $e$.\n",
    "\n",
    "### Problem 6.9\n",
    "\n",
    "#### a)\n",
    "\n",
    "$\\omega_{xE}, \\omega_{yE}$ are disturbances, and $\\delta_x, \\delta_y$ are the signals to be regulated to 0.\n",
    "\n",
    "From Example 3G:"
   ]
  },
  {
   "cell_type": "code",
   "execution_count": 141,
   "metadata": {},
   "outputs": [
    {
     "name": "stdout",
     "output_type": "stream",
     "text": [
      "⎡        0                   0                 1.0                 0        ⎤\n",
      "⎢                                                                           ⎥\n",
      "⎢        0                   0                  0                 1.0       ⎥\n",
      "⎢                                                                           ⎥\n",
      "⎢-KDoverJd - 1.0⋅g₁  -KQoverJd - 1.0⋅g₂      -1.0⋅g₃       -HoverJd - 1.0⋅g₄⎥\n",
      "⎢                                                                           ⎥\n",
      "⎣KQoverJd + 1.0⋅g₂   -KDoverJd - 1.0⋅g₁  HoverJd + 1.0⋅g₄       -1.0⋅g₃     ⎦\n"
     ]
    }
   ],
   "source": [
    "HoverJd, KQoverJd, KDoverJd = symbols('HoverJd KQoverJd KDoverJd', real=True)\n",
    "g1, g2, g3, g4 = symbols('g1 g2 g3 g4', real=True)\n",
    "A = Matrix([[0., 0., 1., 0.],\n",
    "            [0., 0., 0., 1.],\n",
    "            [-KDoverJd, -KQoverJd, 0., -HoverJd],\n",
    "            [KQoverJd, -KDoverJd, HoverJd, 0.]])\n",
    "B = Matrix([[0., 0.],\n",
    "            [0., 0.],\n",
    "            [1., 0.],\n",
    "            [0., 1.]])\n",
    "G = Matrix([[g1, g2, g3, g4],\n",
    "            [-g2, g1, -g4, g3]])\n",
    "pprint((A-B*G))"
   ]
  },
  {
   "cell_type": "markdown",
   "metadata": {},
   "source": [
    "The closed-loop equation needs to have all eigenvalues have real part $< 0$ to be asymptotically stable.  The matrix also needs to be invertible (i.e. have full rank).  $g_3$ cannot be $0$ when $g_1 = -\\frac{K_D}{J_d}, g_2 = -\\frac{K_Q}{J_d}$ and $g_4 = -\\frac{H}{J_d}$, simultaneously.  This doesn't seem like a huge limitation.\n",
    "\n",
    "#### b)"
   ]
  },
  {
   "cell_type": "code",
   "execution_count": 142,
   "metadata": {},
   "outputs": [
    {
     "name": "stdout",
     "output_type": "stream",
     "text": [
      "(2, 2)\n",
      "⎡                                                                             \n",
      "⎢                                                                             \n",
      "⎢         - ──────────────────────────────────────────────────────────────────\n",
      "⎢           ⎛                                                                 \n",
      "⎢           ⎜                                              1.0⋅(-KQoverJd - 1.\n",
      "⎢           ⎜─────────────────────────────────────────────────────────────────\n",
      "⎢           ⎜⎛                    2                                           \n",
      "⎢           ⎝⎝(-KDoverJd - 1.0⋅g₁)  - (-KQoverJd - 1.0⋅g₂)⋅(KQoverJd + 1.0⋅g₂)\n",
      "⎢                                                                             \n",
      "⎢                                                                             \n",
      "⎢                                                                             \n",
      "⎢─────────────────────────────────────────────────────────────────────────────\n",
      "⎢                     ⎛                                                       \n",
      "⎢                     ⎜                                              1.0⋅(-KQo\n",
      "⎢(-KDoverJd - 1.0⋅g₁)⋅⎜───────────────────────────────────────────────────────\n",
      "⎢                     ⎜⎛                    2                                 \n",
      "⎣                     ⎝⎝(-KDoverJd - 1.0⋅g₁)  - (-KQoverJd - 1.0⋅g₂)⋅(KQoverJd\n",
      "\n",
      "                                                                              \n",
      "                                                                              \n",
      "──────────────────────────────────────────────────────────────────────────────\n",
      "                                                                              \n",
      "0⋅g₂)⋅(-1.0⋅KQoverJd - 1.0⋅g₂)                                                \n",
      "──────────────────────────────────────────────────────────────────────────── +\n",
      "⎞ ⎛                        2                                               ⎞  \n",
      "⎠⋅⎝1.0⋅(-KDoverJd - 1.0⋅g₁)  - 1.0⋅(-KQoverJd - 1.0⋅g₂)⋅(KQoverJd + 1.0⋅g₂)⎠  \n",
      "                                                                              \n",
      "                                                                              \n",
      "                                                          1.0⋅(-1.0⋅KQoverJd -\n",
      "──────────────────────────────────────────────────────────────────────────────\n",
      "                                                                              \n",
      "verJd - 1.0⋅g₂)⋅(-1.0⋅KQoverJd - 1.0⋅g₂)                                      \n",
      "──────────────────────────────────────────────────────────────────────────────\n",
      "          ⎞ ⎛                        2                                        \n",
      " + 1.0⋅g₂)⎠⋅⎝1.0⋅(-KDoverJd - 1.0⋅g₁)  - 1.0⋅(-KQoverJd - 1.0⋅g₂)⋅(KQoverJd + \n",
      "\n",
      "                                                                              \n",
      "                               1.0⋅(-KQoverJd - 1.0⋅g₂)⋅(-1.0⋅g₃⋅(KQoverJd + 1\n",
      "──────────────────────────────────────────────────────────────────────────────\n",
      "                                             ⎛                        2       \n",
      "                1.0⋅(-1.0⋅KDoverJd - 1.0⋅g₁)⋅⎝1.0⋅(-KDoverJd - 1.0⋅g₁)  - 1.0⋅\n",
      " ─────────────────────────────────────────────────────────────────────────────\n",
      "                      ⎛                    2                                  \n",
      " (-KDoverJd - 1.0⋅g₁)⋅⎝(-KDoverJd - 1.0⋅g₁)  - (-KQoverJd - 1.0⋅g₂)⋅(KQoverJd \n",
      "                                                                              \n",
      "         ⎛       ⎛                    2                                       \n",
      " 1.0⋅g₂)⋅⎝1.0⋅g₃⋅⎝(-KDoverJd - 1.0⋅g₁)  - (-KQoverJd - 1.0⋅g₂)⋅(KQoverJd + 1.0\n",
      "──────────────────────────────────────────────────────────────────────────────\n",
      "                                                       ⎛                      \n",
      "                          1.0⋅(-1.0⋅KDoverJd - 1.0⋅g₁)⋅⎝1.0⋅(-KDoverJd - 1.0⋅g\n",
      "──────── + ───────────────────────────────────────────────────────────────────\n",
      "       ⎞                        ⎛                    2                        \n",
      "1.0⋅g₂)⎠   (-KDoverJd - 1.0⋅g₁)⋅⎝(-KDoverJd - 1.0⋅g₁)  - (-KQoverJd - 1.0⋅g₂)⋅\n",
      "\n",
      "                                                                              \n",
      ".0⋅g₂) - 1.0⋅(HoverJd + 1.0⋅g₄)⋅(-KDoverJd - 1.0⋅g₁))                         \n",
      "──────────────────────────────────────────────────────────────────────────────\n",
      "                    2                                               ⎞         \n",
      "(-KQoverJd - 1.0⋅g₂)  - 1.0⋅(-KQoverJd - 1.0⋅g₂)⋅(KQoverJd + 1.0⋅g₂)⎠         \n",
      "──────────────────────────────────────────────────────────────────────────────\n",
      "         ⎞ ⎛                        2                                         \n",
      "+ 1.0⋅g₂)⎠⋅⎝1.0⋅(-KDoverJd - 1.0⋅g₁)  - 1.0⋅(-KQoverJd - 1.0⋅g₂)⋅(KQoverJd + 1\n",
      "                                                                              \n",
      "    ⎞                                                                         \n",
      "⋅g₂)⎠ + 1.0⋅(-KQoverJd - 1.0⋅g₂)⋅(1.0⋅g₃⋅(KQoverJd + 1.0⋅g₂) + (HoverJd + 1.0⋅\n",
      "──────────────────────────────────────────────────────────────────────────────\n",
      "  2                           2                                               \n",
      "₁)  - 1.0⋅(-KQoverJd - 1.0⋅g₂)  - 1.0⋅(-KQoverJd - 1.0⋅g₂)⋅(KQoverJd + 1.0⋅g₂)\n",
      "──────────────────────────────────────────────────────────────────────────────\n",
      "                   ⎞ ⎛                        2                               \n",
      "(KQoverJd + 1.0⋅g₂)⎠⋅⎝1.0⋅(-KDoverJd - 1.0⋅g₁)  - 1.0⋅(-KQoverJd - 1.0⋅g₂)⋅(KQ\n",
      "\n",
      "                                                                              \n",
      "                                                                              \n",
      "──────────────────────────────────────────────────────────────────────────────\n",
      "       ⎞                                                                      \n",
      "       ⎟ ⎛                    2                                           ⎞ ⎛ \n",
      "───────⎟⋅⎝(-KDoverJd - 1.0⋅g₁)  - (-KQoverJd - 1.0⋅g₂)⋅(KQoverJd + 1.0⋅g₂)⎠⋅⎝1\n",
      "      ⎞⎟                                                                      \n",
      ".0⋅g₂)⎠⎠                                                                      \n",
      "                                                                              \n",
      "                         ⎞                                                    \n",
      "g₄)⋅(-KDoverJd - 1.0⋅g₁))⎠                                                    \n",
      "──────────────────────────────────────────────────────────────────────────────\n",
      "⎞                ⎞                                                            \n",
      "⎠                ⎟ ⎛                    2                                     \n",
      "─────────────────⎟⋅⎝(-KDoverJd - 1.0⋅g₁)  - (-KQoverJd - 1.0⋅g₂)⋅(KQoverJd + 1\n",
      "                ⎞⎟                                                            \n",
      "overJd + 1.0⋅g₂)⎠⎠                                                            \n",
      "\n",
      "                                                                              \n",
      "                                                                              \n",
      "──────────────────────────────────────────────────────────────────────── - ───\n",
      "                                                                              \n",
      "                       2                                               ⎞      \n",
      ".0⋅(-KDoverJd - 1.0⋅g₁)  - 1.0⋅(-KQoverJd - 1.0⋅g₂)⋅(KQoverJd + 1.0⋅g₂)⎠   (-K\n",
      "                                                                              \n",
      "                                                                              \n",
      "                                                                              \n",
      "                                                                              \n",
      "                                                                              \n",
      "──────────────────────────────────────────────────────────────────────────────\n",
      "                                                                              \n",
      "      ⎞ ⎛                        2                                            \n",
      ".0⋅g₂)⎠⋅⎝1.0⋅(-KDoverJd - 1.0⋅g₁)  - 1.0⋅(-KQoverJd - 1.0⋅g₂)⋅(KQoverJd + 1.0⋅\n",
      "                                                                              \n",
      "                                                                              \n",
      "\n",
      "                                                                              \n",
      "                                                                              \n",
      "──────────────────────────────────────────────────────────────────────────────\n",
      "                  ⎛                                                           \n",
      "                  ⎜                                              1.0⋅(-KQoverJ\n",
      "DoverJd - 1.0⋅g₁)⋅⎜───────────────────────────────────────────────────────────\n",
      "                  ⎜⎛                    2                                     \n",
      "                  ⎝⎝(-KDoverJd - 1.0⋅g₁)  - (-KQoverJd - 1.0⋅g₂)⋅(KQoverJd + 1\n",
      "                                                                              \n",
      "                                                                              \n",
      "                                                                              \n",
      "──── - ───────────────────────────────────────────────────────────────────────\n",
      "                            ⎛                                                 \n",
      "   ⎞                        ⎜                                              1.0\n",
      "g₂)⎠   (-KDoverJd - 1.0⋅g₁)⋅⎜─────────────────────────────────────────────────\n",
      "                            ⎜⎛                    2                           \n",
      "                            ⎝⎝(-KDoverJd - 1.0⋅g₁)  - (-KQoverJd - 1.0⋅g₂)⋅(KQ\n",
      "\n",
      "                                                                              \n",
      "                                                      1.0⋅(-1.0⋅KDoverJd - 1.0\n",
      "──────────────────────────────────────────────────────────────────────────────\n",
      "                                                                              \n",
      "d - 1.0⋅g₂)⋅(-1.0⋅KQoverJd - 1.0⋅g₂)                                          \n",
      "──────────────────────────────────────────────────────────────────────────────\n",
      "      ⎞ ⎛                        2                                            \n",
      ".0⋅g₂)⎠⋅⎝1.0⋅(-KDoverJd - 1.0⋅g₁)  - 1.0⋅(-KQoverJd - 1.0⋅g₂)⋅(KQoverJd + 1.0⋅\n",
      "                                                                              \n",
      "                                                                              \n",
      "                                                                          1.0⋅\n",
      "──────────────────────────────────────────────────────────────────────────────\n",
      "                                                                              \n",
      "⋅(-KQoverJd - 1.0⋅g₂)⋅(-1.0⋅KQoverJd - 1.0⋅g₂)                                \n",
      "──────────────────────────────────────────────────────────────────────────────\n",
      "                ⎞ ⎛                        2                                  \n",
      "overJd + 1.0⋅g₂)⎠⋅⎝1.0⋅(-KDoverJd - 1.0⋅g₁)  - 1.0⋅(-KQoverJd - 1.0⋅g₂)⋅(KQove\n",
      "\n",
      "     ⎛       ⎛                    2                                           \n",
      "⋅g₁)⋅⎝1.0⋅g₃⋅⎝(-KDoverJd - 1.0⋅g₁)  - (-KQoverJd - 1.0⋅g₂)⋅(KQoverJd + 1.0⋅g₂)\n",
      "──────────────────────────────────────────────────────────────────────────────\n",
      "                                                   ⎛                        2 \n",
      "                      1.0⋅(-1.0⋅KDoverJd - 1.0⋅g₁)⋅⎝1.0⋅(-KDoverJd - 1.0⋅g₁)  \n",
      "──── + ───────────────────────────────────────────────────────────────────────\n",
      "   ⎞                        ⎛                    2                            \n",
      "g₂)⎠   (-KDoverJd - 1.0⋅g₁)⋅⎝(-KDoverJd - 1.0⋅g₁)  - (-KQoverJd - 1.0⋅g₂)⋅(KQo\n",
      "                                                                              \n",
      "                                                                            ⎛ \n",
      "(-1.0⋅g₃⋅(KQoverJd + 1.0⋅g₂) - 1.0⋅(HoverJd + 1.0⋅g₄)⋅(-KDoverJd - 1.0⋅g₁))⋅⎝1\n",
      "──────────────────────────────────────────────────────────────────────────────\n",
      "                                                             ⎛                \n",
      "                                1.0⋅(-1.0⋅KDoverJd - 1.0⋅g₁)⋅⎝1.0⋅(-KDoverJd -\n",
      "────────────── + ─────────────────────────────────────────────────────────────\n",
      "             ⎞                        ⎛                    2                  \n",
      "rJd + 1.0⋅g₂)⎠   (-KDoverJd - 1.0⋅g₁)⋅⎝(-KDoverJd - 1.0⋅g₁)  - (-KQoverJd - 1.\n",
      "\n",
      "⎞                                                                             \n",
      "⎠ + 1.0⋅(-KQoverJd - 1.0⋅g₂)⋅(1.0⋅g₃⋅(KQoverJd + 1.0⋅g₂) + (HoverJd + 1.0⋅g₄)⋅\n",
      "──────────────────────────────────────────────────────────────────────────────\n",
      "                          2                                               ⎞   \n",
      "- 1.0⋅(-KQoverJd - 1.0⋅g₂)  - 1.0⋅(-KQoverJd - 1.0⋅g₂)⋅(KQoverJd + 1.0⋅g₂)⎠   \n",
      "──────────────────────────────────────────────────────────────────────────────\n",
      "               ⎞ ⎛                        2                                   \n",
      "verJd + 1.0⋅g₂)⎠⋅⎝1.0⋅(-KDoverJd - 1.0⋅g₁)  - 1.0⋅(-KQoverJd - 1.0⋅g₂)⋅(KQover\n",
      "                                                                              \n",
      "                       2                           2                          \n",
      ".0⋅(-KDoverJd - 1.0⋅g₁)  - 1.0⋅(-KQoverJd - 1.0⋅g₂)  - 1.0⋅(-KQoverJd - 1.0⋅g₂\n",
      "──────────────────────────────────────────────────────────────────────────────\n",
      "        2                           2                                         \n",
      " 1.0⋅g₁)  - 1.0⋅(-KQoverJd - 1.0⋅g₂)  - 1.0⋅(-KQoverJd - 1.0⋅g₂)⋅(KQoverJd + 1\n",
      "──────────────────────────────────────────────────────────────────────────────\n",
      "                         ⎞ ⎛                        2                         \n",
      "0⋅g₂)⋅(KQoverJd + 1.0⋅g₂)⎠⋅⎝1.0⋅(-KDoverJd - 1.0⋅g₁)  - 1.0⋅(-KQoverJd - 1.0⋅g\n",
      "\n",
      "                     ⎞                                                        \n",
      "(-KDoverJd - 1.0⋅g₁))⎠                                                        \n",
      "──────────────────────────────────────────────────────────────────────────────\n",
      "             ⎞                                                                \n",
      "             ⎟ ⎛                    2                                         \n",
      "─────────────⎟⋅⎝(-KDoverJd - 1.0⋅g₁)  - (-KQoverJd - 1.0⋅g₂)⋅(KQoverJd + 1.0⋅g\n",
      "            ⎞⎟                                                                \n",
      "Jd + 1.0⋅g₂)⎠⎠                                                                \n",
      "                                                                              \n",
      "                     ⎞                                                        \n",
      ")⋅(KQoverJd + 1.0⋅g₂)⎠                                                        \n",
      "──────────────────────────────────────────────────────────────────────────────\n",
      "      ⎞                ⎞                                                      \n",
      ".0⋅g₂)⎠                ⎟ ⎛                    2                               \n",
      "───────────────────────⎟⋅⎝(-KDoverJd - 1.0⋅g₁)  - (-KQoverJd - 1.0⋅g₂)⋅(KQover\n",
      "                      ⎞⎟                                                      \n",
      "₂)⋅(KQoverJd + 1.0⋅g₂)⎠⎠                                                      \n",
      "\n",
      "                                                                              \n",
      "                                                                              \n",
      "──────────────────────────────────────────────────────────────────────────────\n",
      "                                                                              \n",
      "  ⎞ ⎛                        2                                               ⎞\n",
      "₂)⎠⋅⎝1.0⋅(-KDoverJd - 1.0⋅g₁)  - 1.0⋅(-KQoverJd - 1.0⋅g₂)⋅(KQoverJd + 1.0⋅g₂)⎠\n",
      "                                                                              \n",
      "                                                                              \n",
      "                                                                              \n",
      "                                                                              \n",
      "                                                                              \n",
      "──────────────────────────────────────────────────────────────────────────────\n",
      "                                                                              \n",
      "            ⎞ ⎛                        2                                      \n",
      "Jd + 1.0⋅g₂)⎠⋅⎝1.0⋅(-KDoverJd - 1.0⋅g₁)  - 1.0⋅(-KQoverJd - 1.0⋅g₂)⋅(KQoverJd \n",
      "                                                                              \n",
      "                                                                              \n",
      "\n",
      "                                                                              \n",
      "                                                                              \n",
      "                     - ───────────────────────────────────────────────────────\n",
      "                                            ⎛                                 \n",
      "                                            ⎜                                 \n",
      "                       (-KDoverJd - 1.0⋅g₁)⋅⎜─────────────────────────────────\n",
      "                                            ⎜⎛                    2           \n",
      "                                            ⎝⎝(-KDoverJd - 1.0⋅g₁)  - (-KQover\n",
      "                                                                              \n",
      "                                                                              \n",
      "                                                                              \n",
      "──────────  ──────────────────────────────────────────────────────────────────\n",
      "                                 ⎛                                            \n",
      "         ⎞                       ⎜                                            \n",
      "+ 1.0⋅g₂)⎠  (-KDoverJd - 1.0⋅g₁)⋅⎜────────────────────────────────────────────\n",
      "                                 ⎜⎛                    2                      \n",
      "                                 ⎝⎝(-KDoverJd - 1.0⋅g₁)  - (-KQoverJd - 1.0⋅g₂\n",
      "\n",
      "                                                                              \n",
      "                                                                     1.0⋅(-1.0\n",
      "──────────────────────────────────────────────────────────────────────────────\n",
      "                                                                              \n",
      "             1.0⋅(-KQoverJd - 1.0⋅g₂)⋅(-1.0⋅KQoverJd - 1.0⋅g₂)                \n",
      "──────────────────────────────────────────────────────────────────────────────\n",
      "                                ⎞ ⎛                        2                  \n",
      "Jd - 1.0⋅g₂)⋅(KQoverJd + 1.0⋅g₂)⎠⋅⎝1.0⋅(-KDoverJd - 1.0⋅g₁)  - 1.0⋅(-KQoverJd \n",
      "                                                                              \n",
      "                                                                              \n",
      "                                                          1.0⋅(-1.0⋅KQoverJd -\n",
      "──────────────────────────────────────────────────────────────────────────────\n",
      "                                                                              \n",
      "  1.0⋅(-KQoverJd - 1.0⋅g₂)⋅(-1.0⋅KQoverJd - 1.0⋅g₂)                           \n",
      "──────────────────────────────────────────────────────────────────────────────\n",
      "                     ⎞ ⎛                        2                             \n",
      ")⋅(KQoverJd + 1.0⋅g₂)⎠⋅⎝1.0⋅(-KDoverJd - 1.0⋅g₁)  - 1.0⋅(-KQoverJd - 1.0⋅g₂)⋅(\n",
      "\n",
      "                    ⎛                          ⎛                    2         \n",
      "⋅KDoverJd - 1.0⋅g₁)⋅⎝- 1.0⋅(-HoverJd - 1.0⋅g₄)⋅⎝(-KDoverJd - 1.0⋅g₁)  - (-KQov\n",
      "──────────────────────────────────────────────────────────────────────────────\n",
      "                                                                             ⎛\n",
      "                                                1.0⋅(-1.0⋅KDoverJd - 1.0⋅g₁)⋅⎝\n",
      "────────────────────────────── + ─────────────────────────────────────────────\n",
      "                             ⎞                        ⎛                    2  \n",
      "- 1.0⋅g₂)⋅(KQoverJd + 1.0⋅g₂)⎠   (-KDoverJd - 1.0⋅g₁)⋅⎝(-KDoverJd - 1.0⋅g₁)  -\n",
      "                                                                              \n",
      "         ⎛                          ⎛                    2                    \n",
      " 1.0⋅g₂)⋅⎝- 1.0⋅(-HoverJd - 1.0⋅g₄)⋅⎝(-KDoverJd - 1.0⋅g₁)  - (-KQoverJd - 1.0⋅\n",
      "──────────────────────────────────────────────────────────────────────────────\n",
      "                                                                  ⎛           \n",
      "                                     1.0⋅(-1.0⋅KDoverJd - 1.0⋅g₁)⋅⎝1.0⋅(-KDove\n",
      "─────────────────── + ────────────────────────────────────────────────────────\n",
      "                  ⎞                        ⎛                    2             \n",
      "KQoverJd + 1.0⋅g₂)⎠   (-KDoverJd - 1.0⋅g₁)⋅⎝(-KDoverJd - 1.0⋅g₁)  - (-KQoverJd\n",
      "\n",
      "                                  ⎞                                           \n",
      "erJd - 1.0⋅g₂)⋅(KQoverJd + 1.0⋅g₂)⎠ + 1.0⋅(-KQoverJd - 1.0⋅g₂)⋅(-1.0⋅g₃⋅(-KDov\n",
      "──────────────────────────────────────────────────────────────────────────────\n",
      "                        2                           2                         \n",
      "1.0⋅(-KDoverJd - 1.0⋅g₁)  - 1.0⋅(-KQoverJd - 1.0⋅g₂)  - 1.0⋅(-KQoverJd - 1.0⋅g\n",
      "──────────────────────────────────────────────────────────────────────────────\n",
      "                                         ⎞ ⎛                        2         \n",
      " (-KQoverJd - 1.0⋅g₂)⋅(KQoverJd + 1.0⋅g₂)⎠⋅⎝1.0⋅(-KDoverJd - 1.0⋅g₁)  - 1.0⋅(-\n",
      "                                                                              \n",
      "                       ⎞                                                      \n",
      "g₂)⋅(KQoverJd + 1.0⋅g₂)⎠ + 1.0⋅(-KQoverJd - 1.0⋅g₂)⋅(-1.0⋅g₃⋅(-KDoverJd - 1.0⋅\n",
      "──────────────────────────────────────────────────────────────────────────────\n",
      "             2                           2                                    \n",
      "rJd - 1.0⋅g₁)  - 1.0⋅(-KQoverJd - 1.0⋅g₂)  - 1.0⋅(-KQoverJd - 1.0⋅g₂)⋅(KQoverJ\n",
      "──────────────────────────────────────────────────────────────────────────────\n",
      "                              ⎞ ⎛                        2                    \n",
      " - 1.0⋅g₂)⋅(KQoverJd + 1.0⋅g₂)⎠⋅⎝1.0⋅(-KDoverJd - 1.0⋅g₁)  - 1.0⋅(-KQoverJd - \n",
      "\n",
      "                                                         ⎞                    \n",
      "erJd - 1.0⋅g₁) - (-HoverJd - 1.0⋅g₄)⋅(KQoverJd + 1.0⋅g₂))⎠                    \n",
      "──────────────────────────────────────────────────────────────────────────────\n",
      "                      ⎞                ⎞                                      \n",
      "₂)⋅(KQoverJd + 1.0⋅g₂)⎠                ⎟ ⎛                    2               \n",
      "───────────────────────────────────────⎟⋅⎝(-KDoverJd - 1.0⋅g₁)  - (-KQoverJd -\n",
      "                                      ⎞⎟                                      \n",
      "KQoverJd - 1.0⋅g₂)⋅(KQoverJd + 1.0⋅g₂)⎠⎠                                      \n",
      "                                                                              \n",
      "                                              ⎞                               \n",
      "g₁) - (-HoverJd - 1.0⋅g₄)⋅(KQoverJd + 1.0⋅g₂))⎠                               \n",
      "──────────────────────────────────────────────────────────────────────────────\n",
      "           ⎞                ⎞                                                 \n",
      "d + 1.0⋅g₂)⎠                ⎟ ⎛                    2                          \n",
      "────────────────────────────⎟⋅⎝(-KDoverJd - 1.0⋅g₁)  - (-KQoverJd - 1.0⋅g₂)⋅(K\n",
      "                           ⎞⎟                                                 \n",
      "1.0⋅g₂)⋅(KQoverJd + 1.0⋅g₂)⎠⎠                                                 \n",
      "\n",
      "                                                                              \n",
      "                                                                              \n",
      "──────────────────────────────────────────────────────────────────────────────\n",
      "                                                                              \n",
      "                            ⎞ ⎛                        2                      \n",
      " 1.0⋅g₂)⋅(KQoverJd + 1.0⋅g₂)⎠⋅⎝1.0⋅(-KDoverJd - 1.0⋅g₁)  - 1.0⋅(-KQoverJd - 1.\n",
      "                                                                              \n",
      "                                                                              \n",
      "                                                                              \n",
      "                                                                              \n",
      "                                                                              \n",
      "──────────────────────────────────────────────────────────────────────────────\n",
      "                                                                              \n",
      "                 ⎞ ⎛                        2                                 \n",
      "QoverJd + 1.0⋅g₂)⎠⋅⎝1.0⋅(-KDoverJd - 1.0⋅g₁)  - 1.0⋅(-KQoverJd - 1.0⋅g₂)⋅(KQov\n",
      "                                                                              \n",
      "                                                                              \n",
      "\n",
      "                                                                              \n",
      "                                                                              \n",
      "────────────────────────── - ─────────────────────────────────────────────────\n",
      "                             ⎛                                                \n",
      "                         ⎞   ⎜                                              1.\n",
      "0⋅g₂)⋅(KQoverJd + 1.0⋅g₂)⎠   ⎜────────────────────────────────────────────────\n",
      "                             ⎜⎛                    2                          \n",
      "                             ⎝⎝(-KDoverJd - 1.0⋅g₁)  - (-KQoverJd - 1.0⋅g₂)⋅(K\n",
      "                                                                              \n",
      "                                                                              \n",
      "                                                                              \n",
      "─────────────── - ────────────────────────────────────────────────────────────\n",
      "                                       ⎛                                      \n",
      "              ⎞                        ⎜                                      \n",
      "erJd + 1.0⋅g₂)⎠   (-KDoverJd - 1.0⋅g₁)⋅⎜──────────────────────────────────────\n",
      "                                       ⎜⎛                    2                \n",
      "                                       ⎝⎝(-KDoverJd - 1.0⋅g₁)  - (-KQoverJd - \n",
      "\n",
      "                                                                              \n",
      "                                                                              \n",
      "──────────────────────────────────────────────────────────────────────────────\n",
      "                                                                              \n",
      "0⋅(-KQoverJd - 1.0⋅g₂)⋅(-1.0⋅KQoverJd - 1.0⋅g₂)                               \n",
      "──────────────────────────────────────────────────────────────────────────────\n",
      "                 ⎞ ⎛                        2                                 \n",
      "QoverJd + 1.0⋅g₂)⎠⋅⎝1.0⋅(-KDoverJd - 1.0⋅g₁)  - 1.0⋅(-KQoverJd - 1.0⋅g₂)⋅(KQov\n",
      "                                                                              \n",
      "                                                                              \n",
      "                                                                              \n",
      "──────────────────────────────────────────────────────────────────────────────\n",
      "                                                                              \n",
      "        1.0⋅(-KQoverJd - 1.0⋅g₂)⋅(-1.0⋅KQoverJd - 1.0⋅g₂)                     \n",
      "──────────────────────────────────────────────────────────────────────────────\n",
      "                           ⎞ ⎛                        2                       \n",
      "1.0⋅g₂)⋅(KQoverJd + 1.0⋅g₂)⎠⋅⎝1.0⋅(-KDoverJd - 1.0⋅g₁)  - 1.0⋅(-KQoverJd - 1.0\n",
      "\n",
      "                                                                              \n",
      "                                                1.0⋅(-KQoverJd - 1.0⋅g₂)⋅(1.0⋅\n",
      "──────────────────────────────────────────────────────────────────────────────\n",
      "                                                              ⎛               \n",
      "                                 1.0⋅(-1.0⋅KDoverJd - 1.0⋅g₁)⋅⎝1.0⋅(-KDoverJd \n",
      "─────────────── + ────────────────────────────────────────────────────────────\n",
      "              ⎞                        ⎛                    2                 \n",
      "erJd + 1.0⋅g₂)⎠   (-KDoverJd - 1.0⋅g₁)⋅⎝(-KDoverJd - 1.0⋅g₁)  - (-KQoverJd - 1\n",
      "                                                                              \n",
      "                                                                              \n",
      "       1.0⋅(1.0⋅g₃⋅(-KDoverJd - 1.0⋅g₁) + 1.0⋅(-HoverJd - 1.0⋅g₄)⋅(KQoverJd + \n",
      "──────────────────────────────────────────────────────────────────────────────\n",
      "                                                                        ⎛     \n",
      "                                           1.0⋅(-1.0⋅KDoverJd - 1.0⋅g₁)⋅⎝1.0⋅(\n",
      "───────────────────────── + ──────────────────────────────────────────────────\n",
      "                        ⎞                        ⎛                    2       \n",
      "⋅g₂)⋅(KQoverJd + 1.0⋅g₂)⎠   (-KDoverJd - 1.0⋅g₁)⋅⎝(-KDoverJd - 1.0⋅g₁)  - (-KQ\n",
      "\n",
      "                                                                              \n",
      "g₃⋅(-KDoverJd - 1.0⋅g₁) + 1.0⋅(-HoverJd - 1.0⋅g₄)⋅(KQoverJd + 1.0⋅g₂))        \n",
      "──────────────────────────────────────────────────────────────────────────────\n",
      "         2                           2                                        \n",
      "- 1.0⋅g₁)  - 1.0⋅(-KQoverJd - 1.0⋅g₂)  - 1.0⋅(-KQoverJd - 1.0⋅g₂)⋅(KQoverJd + \n",
      "──────────────────────────────────────────────────────────────────────────────\n",
      "                          ⎞ ⎛                        2                        \n",
      ".0⋅g₂)⋅(KQoverJd + 1.0⋅g₂)⎠⋅⎝1.0⋅(-KDoverJd - 1.0⋅g₁)  - 1.0⋅(-KQoverJd - 1.0⋅\n",
      "                                                                              \n",
      "         ⎛                        2                           2               \n",
      "1.0⋅g₂))⋅⎝1.0⋅(-KDoverJd - 1.0⋅g₁)  - 1.0⋅(-KQoverJd - 1.0⋅g₂)  - 1.0⋅(-KQover\n",
      "──────────────────────────────────────────────────────────────────────────────\n",
      "                   2                           2                              \n",
      "-KDoverJd - 1.0⋅g₁)  - 1.0⋅(-KQoverJd - 1.0⋅g₂)  - 1.0⋅(-KQoverJd - 1.0⋅g₂)⋅(K\n",
      "──────────────────────────────────────────────────────────────────────────────\n",
      "                                    ⎞ ⎛                        2              \n",
      "overJd - 1.0⋅g₂)⋅(KQoverJd + 1.0⋅g₂)⎠⋅⎝1.0⋅(-KDoverJd - 1.0⋅g₁)  - 1.0⋅(-KQove\n",
      "\n",
      "                                                                              \n",
      "                                                                              \n",
      "──────────────────────────────────────────────────────────────────────────────\n",
      "       ⎞                ⎞                                                     \n",
      "1.0⋅g₂)⎠                ⎟ ⎛                    2                              \n",
      "────────────────────────⎟⋅⎝(-KDoverJd - 1.0⋅g₁)  - (-KQoverJd - 1.0⋅g₂)⋅(KQove\n",
      "                       ⎞⎟                                                     \n",
      "g₂)⋅(KQoverJd + 1.0⋅g₂)⎠⎠                                                     \n",
      "                                                                              \n",
      "                                ⎞                                             \n",
      "Jd - 1.0⋅g₂)⋅(KQoverJd + 1.0⋅g₂)⎠                                             \n",
      "──────────────────────────────────────────────────────────────────────────────\n",
      "                 ⎞                ⎞                                           \n",
      "QoverJd + 1.0⋅g₂)⎠                ⎟ ⎛                    2                    \n",
      "──────────────────────────────────⎟⋅⎝(-KDoverJd - 1.0⋅g₁)  - (-KQoverJd - 1.0⋅\n",
      "                                 ⎞⎟                                           \n",
      "rJd - 1.0⋅g₂)⋅(KQoverJd + 1.0⋅g₂)⎠⎠                                           \n",
      "\n",
      "                                                                              \n",
      "                                                                              \n",
      "──────────────────────────────────────────────────────────────────────────────\n",
      "                                                                              \n",
      "             ⎞ ⎛                        2                                     \n",
      "rJd + 1.0⋅g₂)⎠⋅⎝1.0⋅(-KDoverJd - 1.0⋅g₁)  - 1.0⋅(-KQoverJd - 1.0⋅g₂)⋅(KQoverJd\n",
      "                                                                              \n",
      "                                                                              \n",
      "                                                                              \n",
      "                                                                              \n",
      "                                                                              \n",
      "──────────────────────────────────────────────────────────────────────────────\n",
      "                                                                              \n",
      "                       ⎞ ⎛                        2                           \n",
      "g₂)⋅(KQoverJd + 1.0⋅g₂)⎠⋅⎝1.0⋅(-KDoverJd - 1.0⋅g₁)  - 1.0⋅(-KQoverJd - 1.0⋅g₂)\n",
      "                                                                              \n",
      "                                                                              \n",
      "\n",
      "                     ⎤\n",
      "                     ⎥\n",
      "───────────          ⎥\n",
      "                     ⎥\n",
      "          ⎞          ⎥\n",
      " + 1.0⋅g₂)⎠          ⎥\n",
      "                     ⎥\n",
      "                     ⎥\n",
      "                     ⎥\n",
      "                     ⎥\n",
      "                     ⎥\n",
      "─────────────────────⎥\n",
      "                     ⎥\n",
      "                    ⎞⎥\n",
      "⋅(KQoverJd + 1.0⋅g₂)⎠⎥\n",
      "                     ⎥\n",
      "                     ⎦\n"
     ]
    }
   ],
   "source": [
    "C = Matrix([[1., 0., 0., 0.],\n",
    "            [0., 1., 0., 0.]])\n",
    "E = np.array([[-1., 0.],\n",
    "              [0., -1.],\n",
    "              [0., 0.],\n",
    "              [0., 0.]])\n",
    "term1 = C*((A-B*G)**(-1))\n",
    "Bpound = (term1*B)**(-1)*term1\n",
    "G0 = Bpound*E\n",
    "pprint(G0.shape)\n",
    "pprint(G0)"
   ]
  },
  {
   "cell_type": "markdown",
   "metadata": {},
   "source": [
    "$G_0$ is the correct size, so I'm going to trust that the mess above is correct:  I am sure of the form of the equation for $B^*$ above, so I'm going with it.\n",
    "\n",
    "#### c)\n",
    "The control law is tuned to zero out angular error in the steady-state.  What this means is that, when there is an external disturbance $\\omega_{xE}, \\omega_{yE}$, the feedback command generated will serve to spin the rotors at the same rate as the external disturbances.  The measured signals $\\omega_{xB}, \\omega_{yB}$ then represent a measurement of the disturbances; i.e. how the gyro's exterior is rotating.\n",
    "\n",
    "### Problem 6.10\n",
    "\n",
    "#### a)\n",
    "\n",
    "Butterworth polynomials are deliberately constructed to have the frequency response discussed.\n",
    "\n",
    "\\begin{eqnarray}\n",
    "|H(j \\omega)| &=& \\sqrt{H(j \\omega)H(-j \\omega)} \\\\\n",
    "&=& \\frac{1}{\\sqrt{1 + \\bigl ( \\frac{\\omega}{\\omega_0} \\bigr )^{2k}}}\n",
    "\\end{eqnarray}\n",
    "\n",
    "The idea as to why to use this form will become clear in the next part of the problem.\n",
    "\n",
    "#### b)"
   ]
  },
  {
   "cell_type": "code",
   "execution_count": 143,
   "metadata": {},
   "outputs": [
    {
     "data": {
      "image/png": "[encoded data removed]",
      "text/plain": [
       "<matplotlib.figure.Figure at 0x7f481e3b8390>"
      ]
     },
     "metadata": {
      "needs_background": "light"
     },
     "output_type": "display_data"
    }
   ],
   "source": [
    "K = np.array([1, 10, 100])\n",
    "# normalize omega_0 = 1\n",
    "omega = np.linspace(0, 1, 40)\n",
    "plt.figure()\n",
    "for k in K:\n",
    "    H = 1. / np.sqrt(1. + np.power(omega, 2.*k))\n",
    "    lbl='k={}'.format(k)\n",
    "    plt.plot(omega, control.mag2db(H), label=lbl)\n",
    "plt.legend()\n",
    "plt.xlabel('ratio of omega/omega_0')\n",
    "plt.ylabel('magnitude of frequency response')\n",
    "plt.show()"
   ]
  },
  {
   "cell_type": "markdown",
   "metadata": {},
   "source": [
    "You can see that, for increasing $k$, the frequency response magnitude doesn't drop until the cutoff frequency, $\\omega_0$.  The dropoff is so fast for $k=100$, as can be seen above, that this filter would serve as a great tool for accepting all signals with frequency $\\le \\omega_0$ and rejecting all frequencies $\\ge \\omega_0$.\n",
    "\n",
    "#### c)\n",
    "\n",
    "The \"maximal-flatness\", aside from being graphically-apparent from the chart above, can be seen as a consequence of the form of the frequency response function $|H(j \\omega)|$.  There is a nice discussion in the [wikipedia](https://en.wikipedia.org/wiki/Butterworth_filter) page, so I won't bother copying it here."
   ]
  }
 ],
 "metadata": {
  "kernelspec": {
   "display_name": "Python 3",
   "language": "python",
   "name": "python3"
  },
  "language_info": {
   "codemirror_mode": {
    "name": "ipython",
    "version": 3
   },
   "file_extension": ".py",
   "mimetype": "text/x-python",
   "name": "python",
   "nbconvert_exporter": "python",
   "pygments_lexer": "ipython3",
   "version": "3.6.0"
  }
 },
 "nbformat": 4,
 "nbformat_minor": 2
}
