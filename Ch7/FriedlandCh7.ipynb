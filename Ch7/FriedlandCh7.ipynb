{
 "cells": [
  {
   "cell_type": "markdown",
   "metadata": {},
   "source": [
    "## Chapter 7"
   ]
  },
  {
   "cell_type": "code",
   "execution_count": 64,
   "metadata": {},
   "outputs": [],
   "source": [
    "import sys\n",
    "sys.path.append(\"..\")\n",
    "from importlib import reload"
   ]
  },
  {
   "cell_type": "code",
   "execution_count": 65,
   "metadata": {},
   "outputs": [
    {
     "data": {
      "text/plain": [
       "<module 'Ch7.utilities' from '../Ch7/utilities.py'>"
      ]
     },
     "execution_count": 65,
     "metadata": {},
     "output_type": "execute_result"
    }
   ],
   "source": [
    "import Ch7.utilities as ch7_utils\n",
    "reload(ch7_utils)"
   ]
  },
  {
   "cell_type": "code",
   "execution_count": 11,
   "metadata": {},
   "outputs": [],
   "source": [
    "from sympy import *\n",
    "import numpy as np\n",
    "init_printing(use_latex='mathjax')\n",
    "s, w = symbols('s w', real=True)"
   ]
  },
  {
   "cell_type": "markdown",
   "metadata": {},
   "source": [
    "### Problem 7.1\n",
    "\n",
    "Each of the four parts of this problem would follow the same 4 steps:\n",
    "\n",
    "##### Step 1:\n",
    "Identify available and unavailable subsystems and their associated matrices: $A_{uu}, A_{ua}, A_{au}, A_{aa}, B_{u}, B_{a}, C_a$. $C_a$ is the measurement matrix of the available subsystem, assumed to be nonsingular.\n",
    "##### Step 2:\n",
    "Compute matrices as a function of entries of $L$:\n",
    "\\begin{eqnarray}\n",
    "F &=& A_{uu} - L C_a A_{au} \\\\\n",
    "\\bar {\\bar G} &=& (A_{ua} - L C_a A_{aa}) C_a^{-1} \\\\\n",
    "H &=& B_u - L C_a B_a.\n",
    "\\end{eqnarray}\n",
    "These matrices define the dynamics for $\\mathbf{z} \\triangleq \\mathbf{\\hat x_u} - Ly$: $\\mathbf{\\dot z} = F \\mathbf{\\hat x_u} + {\\bar {\\bar G}} y + Hu$\n",
    "\n",
    "##### Step 3:\n",
    "Identify a design objective: i.e. poles for characteristic polynomial of $F$.\n",
    "\n",
    "##### Step 4:\n",
    "Use Bass-Gura formalism on the unavailable subsystem dynamics to solve for the gain matrix, $L$, that meets the design objective from *Step 3*.\n",
    "\n",
    "To make the solution general, I didn't consider the specific cases of a), b), c), and d) of this problem.  Rather, I have drawn block diagrams for the cases of reduced-order observers of orders 3, 2, and 1.  Steps 1-4 above can be used on the two-cart system that is the subject of Problem 7.1 with the specific measurability conditions of each of part a), b), c), and d).  Since the problem isn't to _actually_ design reduced-order observers, but rather to discuss criteria for their design, I think this approach is okay. \n",
    "\n",
    "#### a)\n",
    "\n",
    "With only one available measurement:\n",
    "![prob7p1a](Problem7p1a.png)\n",
    "\n",
    "#### b) and c)\n",
    "With two available measurements:\n",
    "![prob7p1bc](Problem7p1bc.png)\n",
    "\n",
    "#### d)\n",
    "With three available measurements:\n",
    "![prob7p1d](Problem7p1d.png)\n",
    "\n",
    "### Problem 7.2\n",
    "\n",
    "This problem uses the basic ideas of the Bass-Gura formalism from Chapter 6.  The full observer is designed as: "
   ]
  },
  {
   "cell_type": "code",
   "execution_count": 54,
   "metadata": {},
   "outputs": [
    {
     "name": "stdout",
     "output_type": "stream",
     "text": [
      "K = \n",
      "[[  -11.935     ] \n",
      " [  394.51033906] \n",
      " [ -452.00581633] \n",
      " [-1993.61883169]]\n"
     ]
    }
   ],
   "source": [
    "# using constants from Problem 3.6\n",
    "m, M, l, g, k, R, r = .1, 1., 1., 9.8, 1., 100., .02\n",
    "A = np.array([[0., 1., 0., 0.], \n",
    "              [0., -k**2 / (M*r**2*R), -(m*g)/M, 0.], \n",
    "              [0., 0., 0., 1.], \n",
    "              [0, k**2 / (M*r**2*R*l), ((M+m)*g)/(M*l), 0.]])\n",
    "C = np.array([[1., 0., 0., 0.]])\n",
    "B = np.array([[0.], [k/(M*R*r)], [0.], [-k/(M*R*r*l)]])\n",
    "D = np.zeros((1, 1))\n",
    "w0 = 5.\n",
    "closedLoopPoles = np.roots(np.array([1.0, 2.613*w0, (2.+np.sqrt(2))*w0**2, 2.613*w0**3, w0**4]))\n",
    "K = ch7_utils.obsBassGura(A, C, closedLoopPoles)\n",
    "pprint('K = ')\n",
    "pprint(K)"
   ]
  },
  {
   "cell_type": "markdown",
   "metadata": {},
   "source": [
    "The gain matrix for the full observer is $K = [-11.935, 394.510, -452.006, -1993.619]^T$.\n",
    "\n",
    "### Problem 7.3\n",
    "\n",
    "This problem is conceptually-similar to Problem 7.1 above, so I will follow the steps I outlined above; see `reducedOrderObserver` in \"utilities.py\" for the actual implementation."
   ]
  },
  {
   "cell_type": "code",
   "execution_count": 55,
   "metadata": {},
   "outputs": [
    {
     "name": "stdout",
     "output_type": "stream",
     "text": [
      "L = \n",
      " [[ -15.        ]\n",
      "  [ -62.02040816]\n",
      " [-212.55102041]]\n"
     ]
    }
   ],
   "source": [
    "m, M, l, g, k, R, r = .1, 1., 1., 9.8, 1., 100., .02\n",
    "A = np.array([[0., 1., 0., 0.], \n",
    "              [0., -k**2 / (M*r**2*R), -(m*g)/M, 0.], \n",
    "              [0., 0., 0., 1.], \n",
    "              [0, k**2 / (M*r**2*R*l), ((M+m)*g)/(M*l), 0.]])\n",
    "B = np.array([[0.],[k/(M*R*r)],[0.],[-k/(M*R*r*l)]])\n",
    "# make sure to properly size the input matrices\n",
    "A11 = np.array(A[0, 0]).reshape((1, 1))\n",
    "A12 = np.array(A[0, 1:]).reshape((1, 3))\n",
    "A21 = np.array(A[1:, 0]).reshape((3, 1))\n",
    "A22 = np.array(A[1:, 1:]).reshape((3, 3))\n",
    "B1 = np.array(B[0]).reshape((1, 1))\n",
    "B2 = np.array(B[1:]).reshape((3, 1))\n",
    "C1 = np.array([[1]]).reshape((1, 1))\n",
    "desiredPoles = np.roots(np.array([1.0, 2.*5., 2.*5.**2, 5.**3]))\n",
    "L, Gbb, H = ch7_utils.reducedOrderObserver(A11, A12, A21, A22, B1, B2, C1, desiredPoles)\n",
    "pprint('L = ')\n",
    "pprint(L)"
   ]
  },
  {
   "cell_type": "markdown",
   "metadata": {},
   "source": [
    "So, the desired third-order observer with the cart-position measured can be achieved with $L = [-15, -62.020, -212.551]^T$.\n",
    "\n",
    "### Problem 7.4\n",
    "\n",
    "#### a)"
   ]
  },
  {
   "cell_type": "code",
   "execution_count": 70,
   "metadata": {},
   "outputs": [
    {
     "name": "stdout",
     "output_type": "stream",
     "text": [
      "K[disturbance-free] = \n",
      " [[-8.79400000e+01]\n",
      "  [ 3.24568261e+03]\n",
      "  [ 3.83776582e+05]\n",
      " [-5.37765422e+04]]\n"
     ]
    }
   ],
   "source": [
    "Kv, Lv, J, Km, Omm, Kdp = 94.3, 1.0, 7900., 8.46e6, 45.9, 6.33e-6\n",
    "A = np.array([[0., 1., 0., 0.], [0., 0., 1., 0.], [0., -Km/J, -(Km/J)*(Omm*J/Km), (Km/J)], [0., 0., -Kv*Kdp*J, -Lv*Kv]])\n",
    "B = np.array([[0.], [0.], [0.], [Kv]])\n",
    "C = np.array([[1., 0., 0., 0.]])\n",
    "w0 = 20.\n",
    "closedLoopPoles = np.roots(np.array([1.0, 2.613*w0, (2.+np.sqrt(2.))*w0**2, 2.613*w0**3, w0**4]))\n",
    "Ktilde = ch7_utils.obsBassGura(A, C, closedLoopPoles)\n",
    "pprint('K[disturbance-free] = ')\n",
    "pprint(Ktilde)"
   ]
  },
  {
   "cell_type": "markdown",
   "metadata": {},
   "source": [
    "#### b)\n",
    "\n",
    "![prob7p4b](Problem7p4b.png)\n",
    "\n",
    "The exogenous vector is $\\mathbf{x}_0 = [d_r, d_p, d_q]^T$.  Using the block diagram from Figure 4.4, the exogenous contribution to the system dynamics can be found to be as in the block below.  Part a) above gave the disturbance-free gain matrix, now we just need to apply steps from pg. 272.  _The method in the book doesn't work so well, so I'm omitting._\n",
    "\n",
    "* Step 1: design a disturbance free observer (done in Part a) already)\n",
    "* Step 2: Find matrix $V$ using Step 1.\n",
    "* Step 3: Find $K_0$ so that the disturbance dynamics have the desired error decay rate."
   ]
  },
  {
   "cell_type": "code",
   "execution_count": 72,
   "metadata": {},
   "outputs": [
    {
     "name": "stdout",
     "output_type": "stream",
     "text": [
      "K[full] = \n",
      " [[-8.79400000e+01]\n",
      "  [ 3.24568261e+03]\n",
      "  [ 3.83776582e+05]\n",
      "  [-5.37765422e+04]\n",
      "  [ 0.00000000e+00]\n",
      "  [ 0.00000000e+00]\n",
      " [ 0.00000000e+00]]\n"
     ]
    }
   ],
   "source": [
    "D = np.zeros((1, 3))\n",
    "E = np.array([[0., 0., 0.], [1., 0., 0.], [0., Km / J, 0.], [0., 0., Kv]])\n",
    "w0 = 30.\n",
    "desiredExoPoles = np.roots(np.array([1.0, 2.*w0, 2.*w0**2, w0**3]))\n",
    "K = ch7_utils.obsBassGura(A, C, closedLoopPoles, D, E, desiredExoPoles)\n",
    "pprint('K[full] = ')\n",
    "pprint(K)"
   ]
  },
  {
   "cell_type": "markdown",
   "metadata": {},
   "source": [
    "_After going back and forth on the r/ControlTheory subreddit, I'm convinced that something is missing in Friedland's argument.  Or, more likely, I have constructed the problem incorrectly.  Either way, it is not worth the time to continue working on this.  For the time-being, just return 0's for the gains.  I'm leaving this note so I won't go back and not know what was going on._"
   ]
  },
  {
   "cell_type": "markdown",
   "metadata": {},
   "source": [
    "### Problem 7.5"
   ]
  },
  {
   "cell_type": "code",
   "execution_count": 16,
   "metadata": {},
   "outputs": [
    {
     "name": "stdout",
     "output_type": "stream",
     "text": [
      "⎡    -1.0⋅l₁       -HoverJd - 1.0⋅l₂  1.0⋅l₁   1.0⋅l₂⎤\n",
      "⎢                                                    ⎥\n",
      "⎢HoverJd + 1.0⋅l₂       -1.0⋅l₁       -1.0⋅l₂  1.0⋅l₁⎥\n",
      "⎢                                                    ⎥\n",
      "⎢    -1.0⋅l₃            -1.0⋅l₄       1.0⋅l₃   1.0⋅l₄⎥\n",
      "⎢                                                    ⎥\n",
      "⎣     1.0⋅l₄            -1.0⋅l₃       -1.0⋅l₄  1.0⋅l₃⎦\n"
     ]
    }
   ],
   "source": [
    "HoverJd, KQoverJd, KDoverJd, BoverJd = symbols('HoverJd KQoverJd KDoverJd BoverJd', real=True)\n",
    "l1, l2, l3, l4 = symbols('l1 l2 l3 l4', real=True)\n",
    "A = Matrix([[0., 0., 1., 0.],\n",
    "            [0., 0., 0., 1.],\n",
    "            [-KDoverJd, -KQoverJd, 0, -HoverJd],\n",
    "            [KQoverJd, -KDoverJd, HoverJd, 0]])\n",
    "B = Matrix([[0., 0.],\n",
    "            [0., 0.],\n",
    "            [1., 0.],\n",
    "            [0., 1.]])\n",
    "C = Matrix([[1., 0., 0., 0.],\n",
    "            [0., 1., 0., 0.]])\n",
    "L = Matrix([[l1, l2], [-l2, l1], [l3, l4], [-l4, l3]])\n",
    "E = Matrix([[-1., 0.],\n",
    "            [0., -1.],\n",
    "            [0., 0.],\n",
    "            [0., 0.]])\n",
    "# the available subsystem observability is the 2x2 identity\n",
    "Ca = eye(2)\n",
    "Aaa = zeros(2)\n",
    "Aau = Matrix([[A[0, 2], A[0, 3], E[0, 0], E[0, 1]], [A[1, 2], A[1, 3], E[1, 0], E[1, 1]]])\n",
    "Aua = Matrix([[A[2, 0], A[2, 1]], [A[3, 0], A[3, 1]], [0., 0.], [0., 0.]])\n",
    "Auu = Matrix([[A[2, 2], A[2, 3], E[2, 0], E[2, 1]], [A[3, 2], A[3, 3], E[3, 0], E[3, 1]], [0., 0., 0., 0.], [0., 0., 0., 0.]])\n",
    "#pprint('A22 = ')\n",
    "#pprint(Auu)\n",
    "#pprint('A12 = ')\n",
    "#pprint(Aau)\n",
    "#pprint('C1 = ')\n",
    "#pprint(Ca)\n",
    "Ba = zeros(2)\n",
    "Bu = Matrix([[1., 0.], [0., 1.], [0., 0.], [0., 0.]])\n",
    "F = Matrix(Auu) - L * Matrix(Ca) * Matrix(Aau)\n",
    "Gb = (Matrix(Aua) - L*Matrix(Ca)*Matrix(Aaa))*Matrix(Ca)**-1 + F*L\n",
    "H = Matrix(Bu) - L*Matrix(Ca)*Matrix(Ba)\n",
    "#pprint('F = ')\n",
    "pprint(F)\n",
    "#pprint('Gb = ')\n",
    "#pprint(Gb)\n",
    "#pprint('H = ')\n",
    "#pprint(H)"
   ]
  },
  {
   "cell_type": "markdown",
   "metadata": {
    "collapsed": true
   },
   "source": [
    "The problem says that I should see only four unique elements in the matrix $F$.  The result below is a little confusing then...\n",
    "\n",
    "#### a)"
   ]
  },
  {
   "cell_type": "code",
   "execution_count": 206,
   "metadata": {},
   "outputs": [
    {
     "name": "stdout",
     "output_type": "stream",
     "text": [
      "F = \n",
      "⎡    -1.0⋅l₁       -HoverJd - 1.0⋅l₂  1.0⋅l₁   1.0⋅l₂⎤\n",
      "⎢                                                    ⎥\n",
      "⎢HoverJd + 1.0⋅l₂       -1.0⋅l₁       -1.0⋅l₂  1.0⋅l₁⎥\n",
      "⎢                                                    ⎥\n",
      "⎢    -1.0⋅l₃            -1.0⋅l₄       1.0⋅l₃   1.0⋅l₄⎥\n",
      "⎢                                                    ⎥\n",
      "⎣     1.0⋅l₄            -1.0⋅l₃       -1.0⋅l₄  1.0⋅l₃⎦\n",
      "Gb = \n",
      "⎡                  2                                                          \n",
      "⎢-KDoverJd - 1.0⋅l₁  + 1.0⋅l₁⋅l₃ - 1.0⋅l₂⋅l₄ - l₂⋅(-HoverJd - 1.0⋅l₂)  -KQover\n",
      "⎢                                                                             \n",
      "⎢                                                                             \n",
      "⎢KQoverJd + 1.0⋅l₁⋅l₂ - 1.0⋅l₁⋅l₄ + l₁⋅(HoverJd + 1.0⋅l₂) - 1.0⋅l₂⋅l₃   -KDove\n",
      "⎢                                                                             \n",
      "⎢                                            2         2                      \n",
      "⎢             -1.0⋅l₁⋅l₃ + 1.0⋅l₂⋅l₄ + 1.0⋅l₃  - 1.0⋅l₄                       \n",
      "⎢                                                                             \n",
      "⎢                                                                             \n",
      "⎣                 1.0⋅l₁⋅l₄ + 1.0⋅l₂⋅l₃ - 2.0⋅l₃⋅l₄                           \n",
      "\n",
      "                                                               ⎤\n",
      "Jd - 1.0⋅l₁⋅l₂ + 1.0⋅l₁⋅l₄ + l₁⋅(-HoverJd - 1.0⋅l₂) + 1.0⋅l₂⋅l₃⎥\n",
      "                                                               ⎥\n",
      "            2                                                  ⎥\n",
      "rJd - 1.0⋅l₁  + 1.0⋅l₁⋅l₃ - 1.0⋅l₂⋅l₄ + l₂⋅(HoverJd + 1.0⋅l₂)  ⎥\n",
      "                                                               ⎥\n",
      "                                                               ⎥\n",
      "           -1.0⋅l₁⋅l₄ - 1.0⋅l₂⋅l₃ + 2.0⋅l₃⋅l₄                  ⎥\n",
      "                                                               ⎥\n",
      "                                      2         2              ⎥\n",
      "       -1.0⋅l₁⋅l₃ + 1.0⋅l₂⋅l₄ + 1.0⋅l₃  - 1.0⋅l₄               ⎦\n",
      "H = \n",
      "⎡1.0   0 ⎤\n",
      "⎢        ⎥\n",
      "⎢ 0   1.0⎥\n",
      "⎢        ⎥\n",
      "⎢ 0    0 ⎥\n",
      "⎢        ⎥\n",
      "⎣ 0    0 ⎦\n"
     ]
    }
   ],
   "source": [
    "pprint('F = ')\n",
    "pprint(F)\n",
    "pprint('Gb = ')\n",
    "pprint(Gb)\n",
    "pprint('H = ')\n",
    "pprint(H)"
   ]
  },
  {
   "cell_type": "markdown",
   "metadata": {
    "collapsed": true
   },
   "source": [
    "#### b)"
   ]
  },
  {
   "cell_type": "code",
   "execution_count": 17,
   "metadata": {},
   "outputs": [
    {
     "name": "stdout",
     "output_type": "stream",
     "text": [
      "⎡                                 2                          2                \n",
      "⎣1.0, 2.0⋅l₁ - 2.0⋅l₃, 1.0⋅HoverJd  + 2.0⋅HoverJd⋅l₂ + 1.0⋅l₁  - 2.0⋅l₁⋅l₃ + 1\n",
      "\n",
      "     2                     2         2               2                        \n",
      ".0⋅l₂  - 2.0⋅l₂⋅l₄ + 1.0⋅l₃  + 1.0⋅l₄ , - 2.0⋅HoverJd ⋅l₃ + 2.0⋅HoverJd⋅l₁⋅l₄ \n",
      "\n",
      "                                2   2              2   2⎤\n",
      "- 2.0⋅HoverJd⋅l₂⋅l₃, 1.0⋅HoverJd ⋅l₃  + 1.0⋅HoverJd ⋅l₄ ⎦\n"
     ]
    }
   ],
   "source": [
    "p = F.charpoly(s)\n",
    "coeffs = p.all_coeffs()\n",
    "pprint(coeffs)"
   ]
  },
  {
   "cell_type": "markdown",
   "metadata": {
    "collapsed": true
   },
   "source": [
    "#### c)\n",
    "\n",
    "I have put in as much time on this problem as I care to.  The characteristic equation above clearly leads to a nonlinear optimization problem for $l_1, l_2, l_3, $ and $l_4$.  I tried to solve for it below by changing my initial guess to get reasonably-small $f$ evaluation and I got a pretty good estimate for when the oscillatory modes are completely deadened, but the minimizer wouldn't converge for non-zero frequencies in the two oscillatory modes ($\\omega = 3000$).  Changing the objective function below to some other convex objective did the trick.  I was unable to get a quick unit test implemented for this, so I am leaving as is. "
   ]
  },
  {
   "cell_type": "code",
   "execution_count": 91,
   "metadata": {},
   "outputs": [
    {
     "name": "stdout",
     "output_type": "stream",
     "text": [
      "[1.0e+00 4.0e+03 1.5e+07 2.2e+10 1.0e+13]\n",
      "l1, l2, l3, l4 = [2000.0039425825403, -3113.2106773237365, -0.0039425825401703\n",
      "08, 1054.5851351060987]\n",
      "[1.00000000e+00 4.00001577e+03 1.16912894e+07 1.26550439e+10\n",
      "                       1.00093483e+13]                      \n"
     ]
    }
   ],
   "source": [
    "from scipy.optimize import minimize\n",
    "HoverJd, KDoverJd, KQoverJd = 3000., 30., 60.\n",
    "coeffs = [1.0,\n",
    "          2.*(l1 - l3),\n",
    "          HoverJd**2 + 2.0*HoverJd*l2 + l1**2 - 2.0*l1*l3 + l2**2 - 2.0*l2*l4 + 1.0*l3**2 + 1.0*l4**2,\n",
    "          -2.0*HoverJd**2*l3 + 2.0*HoverJd*l1*l4 - 2.0*HoverJd*l2*l3,\n",
    "          HoverJd**2*l3**2 + HoverJd**2*l4**2\n",
    "         ]\n",
    "#pprint(factor(coeffs))\n",
    "A = np.array([[0., 0., 1., 0.],\n",
    "             [0., 0., 0., 1.],\n",
    "             [-KDoverJd, -KQoverJd, 0., -HoverJd],\n",
    "             [KQoverJd, -KDoverJd, HoverJd, 0.]])\n",
    "B = np.array([[0., 0.],\n",
    "            [0., 0.],\n",
    "            [1., 0.],\n",
    "            [0., 1.]])\n",
    "C = np.array([[1., 0., 0., 0.],\n",
    "            [0., 1., 0., 0.]])\n",
    "E = np.array([[-1., 0.],\n",
    "              [0., -1.],\n",
    "              [0., 0.],\n",
    "              [0., 0.]])\n",
    "Ca = np.eye(2)\n",
    "Aaa = np.zeros((2, 2))\n",
    "Aau = np.array([[A[0, 2], A[0, 3], E[0, 0], E[0, 1]], [A[1, 2], A[1, 3], E[1, 0], E[1, 1]]])\n",
    "Aua = np.array([[A[2, 0], A[2, 1]], [A[3, 0], A[3, 1]], [0., 0.], [0., 0.]])\n",
    "Auu = np.array([[A[2, 2], A[2, 3], E[2, 0], E[2, 1]], [A[3, 2], A[3, 3], E[3, 0], E[3, 1]], [0., 0., 0., 0.], [0., 0., 0., 0.]])\n",
    "openLoopCoeffs = np.array(Auu.charpoly(s).all_coeffs())\n",
    "#pprint(np.roots(openLoopCoeffs))\n",
    "# keep imaginary parts as-is and shoot for real part = -1000.\n",
    "#desiredCoeffs = np.poly(np.array([np.complex(-1000., 3000.), np.complex(-1000., -3000.), np.complex(-1000., 0.), np.complex(-1000., 0.)]))\n",
    "r = -1000.\n",
    "i = 3000.\n",
    "desiredCoeffs = np.poly(np.array([np.complex(r, 0.), np.complex(r, 0.), np.complex(r, i), np.complex(r, -i)]))\n",
    "pprint(desiredCoeffs)\n",
    "# setup objective for the optimization - x, y, z -> l2, l3, l4\n",
    "def obj(w):\n",
    "    x, y, z = w\n",
    "    u = desiredCoeffs[1] / 2. - y\n",
    "    f2 = (u - y)**2 + (x - z)**2 + HoverJd**2 + 2.*HoverJd*x - desiredCoeffs[2]\n",
    "    f3 = 2. * HoverJd * (u*z - x*y - HoverJd*y) - desiredCoeffs[3]\n",
    "    f4 = HoverJd**2*(y**2 + z**2) - desiredCoeffs[4]\n",
    "    return (f2 + f3 + f4)**2 # this objective works! the more intuitive (f2**2 + f3**2 + f4**2) does not!\n",
    "\n",
    "def grad(w):\n",
    "    h = 1e-8\n",
    "    w1 = np.array([w[0] + h, w[1], w[2], w[3]])\n",
    "    g1 = (obj(w1) - obj(w)) / h\n",
    "    w2 = np.array([w[0], w[1]+h, w[2], w[3]])\n",
    "    g2 = (obj(w2) - obj(w)) / h\n",
    "    w3 = np.array([w[0], w[1], w[2]+h, w[3]])\n",
    "    g3 = (obj(w3) - obj(w)) / h\n",
    "    return np.array([g1, g2, g3])\n",
    "\n",
    "x0 = np.array([-3000., -.004, 1000.])\n",
    "sol = minimize(obj, x0=x0, method='nelder-mead', options={'maxiter': 10000})\n",
    "l = list(sol.x)\n",
    "#pprint(l)\n",
    "l.insert(0, desiredCoeffs[1] / 2. - sol.x[1]) # l1 as a function of l1 came from first coefficient\n",
    "#pprint(obj(sol.x)) # check on how close the solution found gets to actual solution (f(x) = 0), curr ~ 10e-5, not bad\n",
    "pprint('l1, l2, l3, l4 = {}'.format(l))\n",
    "L = np.array([[l[0], l[1]], [-l[1], l[0]], [l[2], l[3]], [-l[3], l[2]]])\n",
    "F = Auu - L.dot(Ca.dot(Aau))\n",
    "pprint(np.poly(np.linalg.eigvals(F))) # this doesn't match super closely, but oh well - probably a combination of user-error and numerical instability of the minimizer (shrug)"
   ]
  },
  {
   "cell_type": "markdown",
   "metadata": {},
   "source": [
    "### Problem 7.6\n",
    "\n",
    "#### a)"
   ]
  },
  {
   "cell_type": "code",
   "execution_count": 68,
   "metadata": {},
   "outputs": [
    {
     "name": "stdout",
     "output_type": "stream",
     "text": [
      "K[disturbance-free] = \n",
      "[[42.5] \n",
      " [16.5] \n",
      " [ 2. ]]\n"
     ]
    }
   ],
   "source": [
    "R, _C = 2., 1.\n",
    "# x == (v1, v2, v3)\n",
    "A = np.array([[-3./(R*_C), 1./(R*_C), 0.],[1./(R*_C), -2./(R*_C), 1./(R*_C)], [0., 1./(R*_C), -3./(R*_C)]])\n",
    "B = np.array([[2. / (R*_C)], [0.], [0.]])\n",
    "C = np.array([[0., 0., 1.]])\n",
    "w0 = 3.\n",
    "desiredPoles = np.roots(np.array([1.0, 2.*w0, 2.*w0**2, w0**3]))\n",
    "K = ch7_utils.obsBassGura(A, C, desiredPoles)\n",
    "pprint('K[disturbance-free] = ')\n",
    "pprint(K)"
   ]
  },
  {
   "cell_type": "markdown",
   "metadata": {},
   "source": [
    "#### b)\n",
    "\n",
    "I am not drawing any more block diagrams!!"
   ]
  },
  {
   "cell_type": "code",
   "execution_count": 69,
   "metadata": {},
   "outputs": [
    {
     "name": "stdout",
     "output_type": "stream",
     "text": [
      "K[full] = \n",
      "[[42.5] \n",
      " [16.5] \n",
      " [ 2. ] \n",
      " [ 0. ] \n",
      " [ 0. ]]\n"
     ]
    }
   ],
   "source": [
    "D = np.zeros((1, 2))\n",
    "E = np.array([[0., 0.], [0., 1./(R*_C)], [-3./(R*_C), 1./(R*_C)]])\n",
    "desiredExoPoles = np.array([np.complex(-5., 5), np.complex(-5., -5)])\n",
    "K = ch7_utils.obsBassGura(A, C, desiredPoles, D, E, desiredExoPoles)\n",
    "pprint('K[full] = ')  # currently broken\n",
    "pprint(K)"
   ]
  },
  {
   "cell_type": "markdown",
   "metadata": {},
   "source": [
    "#### c)\n",
    "\n",
    "Took a stab at this one and it didn't work out as expected.  Considering that a valid observer was found with the same desired characteristics in part b), I'm not going to work through this any further.  _The metasystem is unobservable, so I don't know how this is expected to work.  I might have setup the problem incorrectly._"
   ]
  },
  {
   "cell_type": "code",
   "execution_count": 73,
   "metadata": {},
   "outputs": [],
   "source": [
    "# XXX doesn't work\n",
    "#R, C = 2., 1.\n",
    "# x == (v1, v2, v3)\n",
    "#A = np.array([[-3./(R*C), 1./(R*C), 0.],[1./(R*C), -2./(R*C), 1./(R*C)], [0., 1./(R*C), -3./(R*C)]])\n",
    "#B = np.array([[2. / (R*C)], [0.], [0.]])\n",
    "#E = np.array([[0., 0.], [0., 1./(R*C)], [-3. / (R*C), 1./(R*C)]])\n",
    "#Am = np.zeros((5, 5))\n",
    "#Am[:3, :3] = A\n",
    "#Am[:3, 3:] = E\n",
    "#Bm = np.zeros((5, 1))\n",
    "#Bm[:3] = B\n",
    "#Cm = np.array([[0., 0., 1., 1., 1.]])\n",
    "#desiredCoeffsNoDist = np.array([1.0, 2.*w0, 2.*w0**2, w0**3])\n",
    "#xRoots = np.array(np.roots(desiredCoeffsNoDist))\n",
    "#x0Roots = np.array([np.complex(-5., 5), np.complex(-5., -5)])\n",
    "#roots = np.array([xRoots[0], xRoots[1], xRoots[2], x0Roots[0], x0Roots[1]])\n",
    "#pprint(roots)\n",
    "#desiredCoeffs = np.poly(roots)\n",
    "#_, K = BassGuraObsGain(Am, Cm, desiredCoeffs)\n",
    "#pprint('Full K = ')\n",
    "#pprint(K)"
   ]
  },
  {
   "cell_type": "markdown",
   "metadata": {},
   "source": [
    "### Problem 7.7\n",
    "\n",
    "Most of this problem is worked out in Example 7C, so I will just complete it.\n",
    "\n",
    "#### a)\n",
    "\n",
    "Solve the linear system from 7C.3 plugging in desired $\\{ \\hat b_i \\}$.  The coefficients come from the desired poles given in the problem construction."
   ]
  },
  {
   "cell_type": "code",
   "execution_count": 20,
   "metadata": {},
   "outputs": [
    {
     "name": "stdout",
     "output_type": "stream",
     "text": [
      "K = \n",
      " [[ 0.00000000e+00  6.65430000e+05]\n",
      "  [ 0.00000000e+00 -2.83894286e+00]\n",
      "  [-4.93150685e+00  0.00000000e+00]\n",
      " [ 0.00000000e+00 -2.28000000e-01]]\n"
     ]
    }
   ],
   "source": [
    "A = np.array([[-30.3, 0., 0., 0.], [1.2e-4, -6.02, 0., 0.], [0., -3.77, 0., 0.], [0., -2.8, 0., 0.]])\n",
    "C = np.array([[0., 0., -7.3, 0.], [0., 0., 0., -25.0]])\n",
    "desiredCoeffs = np.poly(np.array([np.complex(-18., 0.), np.complex(-9., np.sqrt(3.)/2.), np.complex(-9., -np.sqrt(3.)/2.)]))\n",
    "b = np.array([[desiredCoeffs[3]],\n",
    "             [desiredCoeffs[2] - A[0, 0]*A[0, 1]],\n",
    "             [36.],\n",
    "             [desiredCoeffs[1] + A[0, 0] + A[0, 1]]])\n",
    "P = np.array([[-A[1, 0]*A[3, 1], A[0, 0]*A[3, 1], 0., A[0, 0]*A[1, 1]], \n",
    "              [0., -A[3, 1], 0., -(A[0, 0] + A[1, 1])],\n",
    "              [0., 0., 1., 0.],\n",
    "              [0., 0., 0., 1.]\n",
    "              ])\n",
    "k = np.linalg.inv(P).dot(b)\n",
    "# following example -\n",
    "tildeK12 = k[0] / C[1, 3]\n",
    "tildeK22 = k[1] / C[1, 3]\n",
    "tildeK31 = k[2] / C[0, 2]\n",
    "tildeK42 = k[3] / C[1, 3]\n",
    "K = np.array([[0., tildeK12[0]],\n",
    "             [0., tildeK22[0]],\n",
    "             [tildeK31[0], 0.],\n",
    "             [0., tildeK42[0]]\n",
    "             ])\n",
    "pprint('K = ')\n",
    "pprint(K)"
   ]
  },
  {
   "cell_type": "markdown",
   "metadata": {},
   "source": [
    "#### b)"
   ]
  },
  {
   "cell_type": "code",
   "execution_count": 21,
   "metadata": {},
   "outputs": [
    {
     "name": "stdout",
     "output_type": "stream",
     "text": [
      "V = \n",
      " [[ 0.00000000e+00 -8.43444295e+05]\n",
      "  [ 0.00000000e+00  1.29875686e+00]\n",
      "  [-1.72777778e+00 -2.96008704e-01]\n",
      " [ 0.00000000e+00 -1.53623144e+00]]\n"
     ]
    }
   ],
   "source": [
    "E = np.array([[0., 0.], [0., 0.], [62.2, 5.76], [0., 5.12]])\n",
    "Ac = A - K.dot(C)\n",
    "V = np.linalg.inv(Ac).dot(E)\n",
    "pprint('V = ')\n",
    "pprint(V)"
   ]
  },
  {
   "cell_type": "markdown",
   "metadata": {},
   "source": [
    "#### c)\n",
    "\n",
    "I'm not drawing any more block diagrams."
   ]
  }
 ],
 "metadata": {
  "kernelspec": {
   "display_name": "Python 3",
   "language": "python",
   "name": "python3"
  },
  "language_info": {
   "codemirror_mode": {
    "name": "ipython",
    "version": 3
   },
   "file_extension": ".py",
   "mimetype": "text/x-python",
   "name": "python",
   "nbconvert_exporter": "python",
   "pygments_lexer": "ipython3",
   "version": "3.6.0"
  }
 },
 "nbformat": 4,
 "nbformat_minor": 2
}
