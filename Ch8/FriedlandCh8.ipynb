{
 "cells": [
  {
   "cell_type": "markdown",
   "metadata": {},
   "source": [
    "## Chapter 8"
   ]
  },
  {
   "cell_type": "code",
   "execution_count": 62,
   "metadata": {},
   "outputs": [],
   "source": [
    "import sys\n",
    "sys.path.append(\"..\")\n",
    "from importlib import reload"
   ]
  },
  {
   "cell_type": "code",
   "execution_count": 63,
   "metadata": {},
   "outputs": [
    {
     "data": {
      "text/plain": [
       "<module 'Ch6.utilities' from '../Ch6/utilities.py'>"
      ]
     },
     "execution_count": 63,
     "metadata": {},
     "output_type": "execute_result"
    }
   ],
   "source": [
    "import Ch6.utilities as ch6_utils\n",
    "reload(ch6_utils)"
   ]
  },
  {
   "cell_type": "code",
   "execution_count": 64,
   "metadata": {},
   "outputs": [
    {
     "data": {
      "text/plain": [
       "<module 'Ch7.utilities' from '../Ch7/utilities.py'>"
      ]
     },
     "execution_count": 64,
     "metadata": {},
     "output_type": "execute_result"
    }
   ],
   "source": [
    "import Ch7.utilities as ch7_utils\n",
    "reload(ch7_utils)"
   ]
  },
  {
   "cell_type": "code",
   "execution_count": 65,
   "metadata": {},
   "outputs": [
    {
     "data": {
      "text/plain": [
       "<module 'Ch8.utilities' from '../Ch8/utilities.py'>"
      ]
     },
     "execution_count": 65,
     "metadata": {},
     "output_type": "execute_result"
    }
   ],
   "source": [
    "import Ch8.utilities as ch8_utils\n",
    "reload(ch8_utils)"
   ]
  },
  {
   "cell_type": "code",
   "execution_count": 66,
   "metadata": {},
   "outputs": [],
   "source": [
    "import numpy as np\n",
    "from sympy import *\n",
    "init_printing(use_latex='mathjax')\n",
    "import control\n",
    "import matplotlib.pyplot as plt"
   ]
  },
  {
   "cell_type": "markdown",
   "metadata": {},
   "source": [
    "### Problem 8.1\n",
    "\n",
    "It is given that\n",
    "\n",
    "\\begin{eqnarray}\n",
    "\\Phi_c (s) \\triangleq [ \\Phi^{-1}(s) + BG ]^{-1}.\n",
    "\\end{eqnarray}\n",
    "\n",
    "Do algebraic manipulations to get rid of the $\\Phi^{-1}$ on the RHS:\n",
    "\n",
    "\\begin{eqnarray}\n",
    "[ \\Phi^{-1}(s) + BG ] \\Phi_c (s) &=& I \\\\\n",
    "\\Phi(s) [ \\Phi^{-1}(s) + BG ] \\Phi_c(s) &=& \\Phi(s) \\\\\n",
    "[ I + \\Phi(s) BG] \\Phi_c(s) &=& \\Phi(s) \\\\\n",
    "\\Phi_c(s) &=& [ I + \\Phi(s) BG]^{-1} \\Phi(s).\n",
    "\\end{eqnarray}\n",
    "\n",
    "Now, it remains to show that:\n",
    "\n",
    "\\begin{eqnarray}\n",
    "\\Phi(s) - \\Phi(s) B [ \\Phi(s) + G \\Phi(s) B]^{-1} G \\Phi(s) &=& [ I + \\Phi(s) BG]^{-1} \\Phi(s) \\\\\n",
    "\\implies I - \\Phi(s) B [ \\Phi(s) + G \\Phi(s) B]^{-1} G &=& [ I + \\Phi(s) BG]^{-1}\n",
    "\\end{eqnarray}\n",
    "\n",
    "Using the hint about block-diagram manipulations, it can be shown that $\\Phi(s) B [ \\Phi(s) + G \\Phi(s) B]^{-1} = [ \\Phi(s) + \\Phi(s) B G]^{-1} \\Phi(s) B$:\n",
    "\n",
    "Now, plug in the above to the previous relation:\n",
    "\\begin{eqnarray}\n",
    "I - [\\Phi(s) + \\Phi(s) B G]^{-1} \\Phi(s) B G &=& [ I + \\Phi(s) BG]^{-1}\n",
    "\\end{eqnarray}\n",
    "\n",
    "Left-multiply both sides by $I + \\Phi(s) BG$:\n",
    "\\begin{eqnarray}\n",
    "(I + \\Phi(s) BG) \\bigl ( I - [\\Phi(s) + \\Phi(s) B G]^{-1} \\Phi(s) B G \\bigr ) &=& I \\\\\n",
    "(I + \\Phi(s) BG) - \\Phi(s) B G &=& I \\\\\n",
    "I &=& I\n",
    "\\end{eqnarray}\n",
    "\n",
    "So, through algebraic reductions, a tautology is reached.  Therefore, it is true that\n",
    "\n",
    "\\begin{eqnarray}\n",
    "\\Phi_c (s) \\triangleq [ \\Phi^{-1}(s) + BG ]^{-1} = \\Phi(s) - \\Phi(s) B [ \\Phi(s) + G \\Phi(s) B]^{-1} G \\Phi(s)\n",
    "\\end{eqnarray}"
   ]
  },
  {
   "cell_type": "markdown",
   "metadata": {},
   "source": [
    "### Problem 8.2\n",
    "\n",
    "Transform the system of equations from $\\mathbf{\\hat x}$ to $\\mathbf{\\hat w}$, where $\\mathbf{\\hat x} = P \\mathbf{\\hat w}_1 + Q \\mathbf{\\hat w}_2$, and $\\mathbf{w}_1 = C \\mathbf{x}$ and $\\mathbf{w}_2 = M \\mathbf{x}$.\n",
    "\n",
    "The feedback law $u = -G \\mathbf{\\hat x}$ becomes:\n",
    "\\begin{eqnarray}\n",
    "u &=& -G (P \\mathbf{\\hat w}_1 + Q \\mathbf{\\hat w}_2) \\\\\n",
    "&=& -G P \\mathbf{\\hat w}_1 - G Q \\mathbf{\\hat w}_2 \\\\\n",
    "&\\triangleq& -\\bar G_1 \\mathbf{\\hat w}_1 -  \\bar G_2 \\mathbf{\\hat w}_2.\n",
    "\\end{eqnarray}\n",
    "\n",
    "The dynamics of the closed-loop transformed system is:\n",
    "\\begin{eqnarray}\n",
    "\\mathbf{\\dot w} &=& \\bar A \\mathbf{w} + \\bar B u \\\\\n",
    "&=& \\bar A \\mathbf{w} - \\bar B ( \\bar G_1 \\mathbf{\\hat w}_1 + \\bar G_2 \\mathbf{\\hat w}_2 ) \n",
    "\\end{eqnarray}\n",
    "\n",
    "Now, follow the steps leading up to Eqn. 8.27:  $\\mathbf{e} = \\mathbf{w} - \\mathbf{\\hat w} \\implies \\mathbf{\\hat w} = \\mathbf{w} - \\mathbf{e}$:\n",
    "\n",
    "\\begin{eqnarray}\n",
    "\\mathbf{\\dot w} &=& \\bar A \\mathbf{w} - \\bar B \\bigl [ \\bar G_1 (\\mathbf{w}_1 - \\mathbf{e}_1) + \\bar G_2 (\\mathbf{w}_2 - \\mathbf{e}_2) \\bigr ] \\\\\n",
    "&=& (\\bar A - \\bar B \\bar G) \\mathbf{w} + \\bar B( \\bar G_1 \\mathbf{e}_1 + \\bar G_2 \\mathbf{e_2}).\n",
    "\\end{eqnarray}\n",
    "\n",
    "The remainder of the derivation for the transformed system follows _exactly_ the same steps in deriving Eqn. 8.27:\n",
    "\n",
    "\\begin{eqnarray}\n",
    "\\mathbf{w}(s) &=& (sI - \\mathbf{\\bar A}_c)^{-1} \\bar B \\bar G_2 \\mathbf{e}_2(s) + (sI - \\mathbf{\\bar A}_c)^{-1} \\mathbf{w}(0) \\\\\n",
    "\\mathbf{e}_2 &=& (sI - \\bar F)^{-1} \\mathbf{e}_2(0) \\\\\n",
    "\\implies \\mathbf{w}(s) &=& (sI - \\mathbf{\\bar A}_c)^{-1} \\bar B \\bar G_2 (sI - \\bar F)^{-1} \\mathbf{e}_2(0) + (sI - \\mathbf{\\bar A}_c)^{-1} \\mathbf{w}(0) \\\\\n",
    "&=& \\frac{\\text{adj}(sI - \\mathbf{\\bar A}_c) \\bar B \\bar G_2 \\text{adj}(sI - \\bar F)}{|sI - \\mathbf{\\bar A}_c| |sI - \\bar F|} \\mathbf{e}_2(0) + (sI - \\mathbf{\\bar A}_c)^{-1} \\mathbf{w}(0)\n",
    "\\end{eqnarray}\n",
    "\n",
    "The characteristic equation is then $|sI - \\mathbf{\\bar A}_c||sI - \\bar F| = 0$, with\n",
    "\n",
    "\\begin{eqnarray}\n",
    "\\bar A &=& \\begin{pmatrix}\n",
    "CAP & CAQ \\\\\n",
    "MAP & MAQ\n",
    "\\end{pmatrix}\\\\\n",
    "\\bar B &=& \\begin{pmatrix}\n",
    "CB \\\\\n",
    "MB\n",
    "\\end{pmatrix} \\\\\n",
    "\\bar F &=& (M - LC)AQ \\\\\n",
    "\\mathbf{\\bar A}_c &=& \\bar A - \\bar B \\bar G,\n",
    "\\end{eqnarray}\n",
    "\n",
    "with $\\bar G \\triangleq [\\bar G_1 | \\bar G_2]$."
   ]
  },
  {
   "cell_type": "markdown",
   "metadata": {},
   "source": [
    "### Problem 8.3\n",
    "\n",
    "#### a)\n",
    "The reduced order observer is defined by the matrices $F, \\bar {\\bar G}, H$:\n",
    "\\begin{eqnarray}\n",
    "F &\\triangleq& A_{uu} - L C_a A_{au} = -\\alpha - L \\times 1 \\times 1 = -\\alpha - L \\\\\n",
    "\\bar {\\bar G} &\\triangleq& (A_{ua} - L C_a A_{aa}) C_a^{-1} = 0 - L \\times 1 \\times 0 \\times 1 = 0 \\\\\n",
    "H &\\triangleq& B_u - L \\times C_a \\times B_a = \\beta - L \\times 1 \\times 0 = \\beta\n",
    "\\end{eqnarray}\n",
    "\n",
    "The observability matrix for the available subsystem, $C_a$, is just unity ($=1$).\n",
    "\n",
    "#### b)\n",
    "The gains from example 8B are:\n",
    "\\begin{eqnarray}\n",
    "G_1 &=& \\frac{\\bar a_2}{\\beta} \\\\\n",
    "G_2 &=& \\frac{\\bar a_1 - \\alpha}{\\beta}\n",
    "\\end{eqnarray}\n",
    "\n",
    "The feedback law using these gains is:\n",
    "\\begin{eqnarray}\n",
    "u &=& -G_1 \\hat \\theta - G_2 \\hat \\omega \\\\\n",
    "&=& -G_1 y - G_2 (Ly + z),\n",
    "\\end{eqnarray}\n",
    "\n",
    "The second equality above follows from the fact that $\\theta$ is the measurement from which the reduced order observer for $\\hat \\omega$ is built.\n",
    "\n",
    "Now, it remains to find the transfer function that takes measurement $y(s)$ to $z(s)$.  Plugging in the control found above into the equation for $z$, $\\dot z = F z + \\bar {\\bar G} y + Hu$, leads to the closed-loop system:\n",
    "\\begin{eqnarray}\n",
    "\\dot z &=& (F - H G_2) z + (\\bar {\\bar G} - HG_1 C_a^{-1} - H G_2 L) y \\\\\n",
    "&\\equiv& \\mathbf{F}_c z + \\mathbf{\\bar G} y \n",
    "\\end{eqnarray}\n",
    "\n",
    "which has transfer function representation (see Ch. 3):\n",
    "\\begin{eqnarray}\n",
    "z(s) = (sI - \\mathbf{F}_c)^{-1} \\mathbf{\\bar G} y(s)\n",
    "\\end{eqnarray}\n",
    "\n",
    "The feedback law can then be written in the Laplace domain as:\n",
    "\\begin{eqnarray}\n",
    "u(s) &=& -(G_1 + G_2 L + (sI - \\mathbf{F}_c)^{-1} \\mathbf{\\bar G}) y(s)\n",
    "\\end{eqnarray}\n",
    "\n",
    "Putting this in the form $u(s) = -D(s)y(s)$ gives the compensator:\n",
    "\\begin{eqnarray}\n",
    "D(s) = G_1 + G_2 L + (sI - \\mathbf{F}_c)^{-1} \\mathbf{\\bar G}.\n",
    "\\end{eqnarray}\n",
    "\n",
    "#### c)\n",
    "\n",
    "Example 8B gives $\\bar a_1 = 4$ and $\\bar a_2 = 8$.  Plugging these values into $D(s)$ found in the previous section gives:"
   ]
  },
  {
   "cell_type": "code",
   "execution_count": 7,
   "metadata": {},
   "outputs": [
    {
     "name": "stdout",
     "output_type": "stream",
     "text": [
      "                2                                 \n",
      "-a₂ - l⋅(a₁ - 1)  + (a₂ + l⋅(a₁ - 1))⋅(a₁ + l + s)\n",
      "──────────────────────────────────────────────────\n",
      "                    a₁ + l + s                    \n",
      "-9.0⋅l + (3.0⋅l + 8.0)⋅(l + s + 4.0) - 8.0\n",
      "──────────────────────────────────────────\n",
      "               l + s + 4.0                \n"
     ]
    }
   ],
   "source": [
    "# use sympy to do reduction\n",
    "a1, a2, l, s = symbols('a1 a2 l s')\n",
    "p = a2 + (a1 - 1)*l + ((a1 - 1)*(1-a1)*l - a2)/(s+l+a1)\n",
    "pprint(simplify(p))\n",
    "# the beta term cancels regardless of choice of L\n",
    "a2 = 8.\n",
    "a1 = 4.\n",
    "q = (-a2 - l*(a1-1.)**2 + (a2 + l*(a1-1.))*(a1 + l + s)) / (s+l+a1)\n",
    "pprint(simplify(q))"
   ]
  },
  {
   "cell_type": "markdown",
   "metadata": {},
   "source": [
    "Use `sympy` reduction above:\n",
    "\\begin{eqnarray}\n",
    "D(s) = \\frac{(3L+8)s + 3L^2 + 3L + 32}{\\beta (s + L + 4)}.\n",
    "\\end{eqnarray}"
   ]
  },
  {
   "cell_type": "code",
   "execution_count": 53,
   "metadata": {},
   "outputs": [
    {
     "data": {
      "image/png": "[encoded data removed]",
      "text/plain": [
       "<matplotlib.figure.Figure at 0x7f4cfd635a20>"
      ]
     },
     "metadata": {
      "needs_background": "light"
     },
     "output_type": "display_data"
    }
   ],
   "source": [
    "G = control.TransferFunction(np.array([1.]), np.array([1., 1., 0.]))\n",
    "L = 1.0\n",
    "num = np.array([3.*L+8., 3.*L**2 + 3.*L+32.])\n",
    "den = np.array([1., L+4])\n",
    "D = control.TransferFunction(num, den)\n",
    "control.root_locus(D*G, PrintGain=False, Plot=True)\n",
    "#_, _, _ = control.nyquist_plot(D*G, Plot=True, PrintGain=False)\n",
    "plt.show()"
   ]
  },
  {
   "cell_type": "markdown",
   "metadata": {},
   "source": [
    "For $L \\ge 0$, the system has infinite gain margin.  As hinted at in Example 8B, this seems to indicate that a compensator derived with a reduced order observer can have simplified form and better performance characteristics.  Nyquist plots don't make much sense to me, but here it is because the problem asked for it."
   ]
  },
  {
   "cell_type": "code",
   "execution_count": 54,
   "metadata": {},
   "outputs": [
    {
     "data": {
      "image/png": "[encoded data removed]",
      "text/plain": [
       "<matplotlib.figure.Figure at 0x7f4cfcb79630>"
      ]
     },
     "metadata": {
      "needs_background": "light"
     },
     "output_type": "display_data"
    }
   ],
   "source": [
    "_, _, _ = control.nyquist_plot(D*G, Plot=True)\n",
    "plt.show()"
   ]
  },
  {
   "cell_type": "markdown",
   "metadata": {},
   "source": [
    "### Problem 8.4\n",
    "\n",
    "#### a)\n",
    "The gains from Problems 6.1 (regulator) and 7.2 (full-order observer) are:\n",
    "\\begin{eqnarray}\n",
    "G &=& \\begin{pmatrix}\n",
    "-326.53061224, \\ \n",
    "-226.32653061, \\\n",
    "-812.09061224, \\\n",
    "-242.32653061\n",
    "\\end{pmatrix}\\\\\n",
    "K &=& \\begin{pmatrix}\n",
    "-11.935 \\\\\n",
    "394.510 \\\\\n",
    "-452.006 \\\\\n",
    "-1993.619\n",
    "\\end{pmatrix}\n",
    "\\end{eqnarray}\n",
    "\n",
    "The form of the compensator is $D(s) = G (sI - A + BG + KC)^{-1} K$:"
   ]
  },
  {
   "cell_type": "code",
   "execution_count": 67,
   "metadata": {},
   "outputs": [
    {
     "name": "stdout",
     "output_type": "stream",
     "text": [
      "                        D(s) =                         \n",
      "7.648e+05 s^3 + 2.153e+07 s^2 + 5.963e+07 s - 2.041e+05\n",
      "-------------------------------------------------------\n",
      "  s^4 + 21.07 s^3 + 232.7 s^2 - 3.807e+05 s - 1.197e+06\n",
      "                  H(s) =                    \n",
      "            0.5 s^2 + 2.012e-15 s - 4.9     \n",
      "--------------------------------------------\n",
      "s^4 + 25 s^3 - 10.78 s^2 - 245 s + 1.981e-14\n"
     ]
    }
   ],
   "source": [
    "A = np.array([[0., 1., 0., 0.], [0., -25., -0.98, 0.], [0., 0., 0., 1.], [0., 25., 10.78, 0.]]).astype('float')\n",
    "B = np.array([[0.], [0.5], [0.], [-0.5]]).reshape((4,1)).astype('float')\n",
    "C = np.array([[1., 0., 0., 0.]]).reshape((1, 4)).astype('float')\n",
    "D = np.zeros((1, 1)).astype('float')\n",
    "desiredPolesCtrl = np.array([-25., -4., np.complex(-2., 2.*np.sqrt(3)), np.complex(-2., -2.*np.sqrt(3))])\n",
    "w0 = 5.\n",
    "desiredPolesObsv = np.roots(np.array([1.0, 2.613*w0, (2.+np.sqrt(2))*w0**2, 2.613*w0**3, w0**4]))\n",
    "tfD = ch8_utils.fullOrderCompensator(A, B, C, D, desiredPolesCtrl, desiredPolesObsv)\n",
    "pprint('D(s) = {}'.format(tfD))\n",
    "sysplant = control.StateSpace(A, B, C, D)\n",
    "tfplant = control.ss2tf(sysplant)\n",
    "pprint('H(s) = {}'.format(tfplant))"
   ]
  },
  {
   "cell_type": "markdown",
   "metadata": {},
   "source": [
    "The return difference has the desired form for $K=1$ (unity loop gain).\n",
    "\n",
    "#### b)\n",
    "The return difference $T(s) = 1 + K D(s) H(s)$ is the denominator of the closed-loop transfer function. As shown above, the zeros of $T(s)$ will be the poles of the closed-loop system.  We can find the range of K for which the closed-loop system is stable by the Hurwitz criteria (see Ch. 4), or just use the `zero` method of `python-control` to find some numeric range for $K$."
   ]
  },
  {
   "cell_type": "code",
   "execution_count": 56,
   "metadata": {},
   "outputs": [
    {
     "name": "stdout",
     "output_type": "stream",
     "text": [
      "0.99972 <= k <= 1.001 defines the range of stable gains.\n"
     ]
    }
   ],
   "source": [
    "# T(s) = 1 + Kb*D(s)*H(s) (Kb != K from above!)\n",
    "k = np.linspace(0.998, 1.002, 101)\n",
    "kStable = ch8_utils.stabilityRange(tfD, tfplant, k)\n",
    "if kStable is not None:\n",
    "    print('{min} <= k <= {max} defines the range of stable gains.'.format(min=kStable[0], max=kStable[1]))\n",
    "else:\n",
    "    print('no stable gains were found in the range provided')"
   ]
  },
  {
   "cell_type": "markdown",
   "metadata": {},
   "source": [
    "#### c)\n",
    "\n",
    "The closed-loop compensator was shown to achieve the desired closed-loop poles, but with very slight gain margin.  This is not a good sign. Hopefully, the reduced order observer results in a simpler system and more robust system.\n",
    "\n",
    "### Problem 8.5\n",
    "#### a)"
   ]
  },
  {
   "cell_type": "code",
   "execution_count": 68,
   "metadata": {},
   "outputs": [
    {
     "name": "stdout",
     "output_type": "stream",
     "text": [
      "                        D(s) =                         \n",
      "1.049e+05 s^3 + 2.955e+06 s^2 + 8.202e+06 s - 4.082e+04\n",
      "-------------------------------------------------------\n",
      "              s^3 + 18 s^2 - 5.23e+04 s - 1.648e+05    \n",
      "                  H(s) =                    \n",
      "            0.5 s^2 + 2.012e-15 s - 4.9     \n",
      "--------------------------------------------\n",
      "s^4 + 25 s^3 - 10.78 s^2 - 245 s + 1.981e-14\n"
     ]
    }
   ],
   "source": [
    "A = np.array([[0., 1., 0., 0.], [0., -25., -0.98, 0.], [0., 0., 0., 1.], [0., 25., 10.78, 0.]]).astype('float')\n",
    "B = np.array([[0.], [0.5], [0.], [-0.5]]).reshape((4,1)).astype('float')\n",
    "C = np.array([[1., 0., 0., 0.]]).reshape((1, 4)).astype('float')\n",
    "D = np.zeros((1, 1)).astype('float')\n",
    "\n",
    "### Controller ###\n",
    "desiredPolesCtrl = np.array([-25., -4., np.complex(-2., 2.*np.sqrt(3)), np.complex(-2., -2.*np.sqrt(3))])\n",
    "G = ch6_utils.bassGura(A, B, desiredPolesCtrl)\n",
    "            \n",
    "### Observer ###\n",
    "desiredPolesObsv = np.roots(np.array([1.0, 2.*5., 2.*5.**2, 5.**3]))\n",
    "Aaa = np.array(A[0, 0]).reshape((1, 1))\n",
    "Aau = np.array(A[0, 1:]).reshape((1, 3))\n",
    "Aua = np.array(A[1:, 0]).reshape((3, 1))\n",
    "Auu = np.array(A[1:, 1:]).reshape((3, 3))\n",
    "Ba = np.array(B[0]).reshape((1, 1))\n",
    "Bu = np.array(B[1:]).reshape((3, 1))\n",
    "Ca = np.array([[1]]).reshape((1, 1)).astype('float')\n",
    "L, Gbb, H = ch7_utils.reducedOrderObserver(Aaa, Aau, Aua, Auu, Ba, Bu, Ca, desiredPolesObsv)\n",
    "\n",
    "### Compensator ###\n",
    "G1 = G[0, 0].reshape((1, 1))\n",
    "G2 = G[0, 1:].reshape((1, 3))\n",
    "F = Auu - L@Aau\n",
    "Ar = F-H@G2\n",
    "Br = Ar@L + Gbb - H@G1\n",
    "Cr = G2\n",
    "Dr = G1+G2@L\n",
    "sysD = control.StateSpace(Ar, Br, Cr, Dr)\n",
    "tfD = control.ss2tf(sysD)\n",
    "pprint('D(s) = {}'.format(tfD))\n",
    "sysplant = control.StateSpace(A, B, C, D)\n",
    "tfplant = control.ss2tf(sysplant)\n",
    "pprint('H(s) = {}'.format(tfplant))"
   ]
  },
  {
   "cell_type": "markdown",
   "metadata": {},
   "source": [
    "The return difference has the desired form for $K=1$ (unity loop gain).\n",
    "\n",
    "#### b)"
   ]
  },
  {
   "cell_type": "code",
   "execution_count": 58,
   "metadata": {},
   "outputs": [
    {
     "name": "stdout",
     "output_type": "stream",
     "text": [
      "0.99948 <= k <= 1.00112 defines the range of stable gains.\n"
     ]
    }
   ],
   "source": [
    "# T(s) = 1 + Kb*D(s)*H(s) (Kb != K from above!)\n",
    "k = np.linspace(0.998, 1.002, 101)\n",
    "kStable = ch8_utils.stabilityRange(tfD, tfplant, k)\n",
    "if kStable is not None:\n",
    "    print('{min} <= k <= {max} defines the range of stable gains.'.format(min=kStable[0], max=kStable[1]))\n",
    "else:\n",
    "    print('no stable gains were found in the range provided')"
   ]
  },
  {
   "cell_type": "markdown",
   "metadata": {},
   "source": [
    "#### c)\n",
    "The compensated system has slightly better stability margins and with lower order.  This would be preferable to the controller from the previous problem.\n",
    "\n",
    "### Problem 8.6\n",
    "\n",
    "#### a)\n",
    "I'm not drawing any more block diagrams.  As for the compensator:\n",
    "\n",
    "The gains found in Problem 6.8 were $G = [0, \\ 6.5, \\ 6.5]$, and for Problem 7.8 was $K = [42.5, \\ 16.5, \\ 2.]$."
   ]
  },
  {
   "cell_type": "code",
   "execution_count": 69,
   "metadata": {},
   "outputs": [
    {
     "name": "stdout",
     "output_type": "stream",
     "text": [
      "         D(s) =           \n",
      "120.3 s^2 + 552.5 s + 624 \n",
      "--------------------------\n",
      "s^3 + 6 s^2 + 21.25 s + 40\n",
      "         H(s) =           \n",
      "                0.25      \n",
      "--------------------------\n",
      "s^3 + 4 s^2 + 4.75 s + 1.5\n"
     ]
    }
   ],
   "source": [
    "R, _C = 2., 1.\n",
    "A = np.array([[-3./(R*_C), 1./(R*_C), 0.],[1./(R*_C), -2./(R*_C), 1./(R*_C)], [0., 1./(R*_C), -3./(R*_C)]]).reshape((3, 3)).astype('float')\n",
    "B = np.array([[2. / (R*_C)], [0.], [0.]]).reshape((3, 1)).astype('float')\n",
    "C = np.array([[0., 0., 1.]]).reshape((1, 3)).astype('float')\n",
    "D = np.zeros((1, 1)).astype('float')\n",
    "desiredPolesCtrl = np.roots(np.array([1., 4., 8., 8.]))\n",
    "w0 = 3.\n",
    "desiredPolesObsv = np.roots(np.array([1.0, 2.*w0, 2.*w0**2, w0**3]))\n",
    "tfD = ch8_utils.fullOrderCompensator(A, B, C, D, desiredPolesCtrl, desiredPolesObsv)\n",
    "pprint('D(s) = {}'.format(tfD))\n",
    "sysplant = control.StateSpace(A, B, C, D)\n",
    "tfplant = control.ss2tf(sysplant)\n",
    "pprint('H(s) = {}'.format(tfplant))"
   ]
  },
  {
   "cell_type": "markdown",
   "metadata": {},
   "source": [
    "$0$ is not a zero of the return difference, so then it is not a pole of the closed-loop transfer function.  This means that the compensator does _not_ provide true integral control.\n",
    "\n",
    "#### b)"
   ]
  },
  {
   "cell_type": "markdown",
   "metadata": {},
   "source": [
    "_(omitted)_\n",
    "\n",
    "#### c)"
   ]
  },
  {
   "cell_type": "code",
   "execution_count": 70,
   "metadata": {},
   "outputs": [
    {
     "data": {
      "image/png": "[encoded data removed]",
      "text/plain": [
       "<matplotlib.figure.Figure at 0x7f4cfcb3fcf8>"
      ]
     },
     "metadata": {
      "needs_background": "light"
     },
     "output_type": "display_data"
    }
   ],
   "source": [
    "H = tfD*tfplant\n",
    "control.root_locus(H, Plot=True, PrintGain=False)\n",
    "plt.show()"
   ]
  },
  {
   "cell_type": "code",
   "execution_count": 71,
   "metadata": {},
   "outputs": [
    {
     "data": {
      "image/png": "[encoded data removed]",
      "text/plain": [
       "<matplotlib.figure.Figure at 0x7f4cfcaffda0>"
      ]
     },
     "metadata": {
      "needs_background": "light"
     },
     "output_type": "display_data"
    },
    {
     "name": "stdout",
     "output_type": "stream",
     "text": [
      "Gain margin (dB): 8.231445913407786\n",
      "Phase margin (dB): 36.92108653472774\n"
     ]
    }
   ],
   "source": [
    "control.bode_plot(H)\n",
    "plt.show()\n",
    "gm, pm, _, _ = control.margin(H)\n",
    "print('Gain margin (dB): {}'.format(control.mag2db(gm)))\n",
    "print('Phase margin (dB): {}'.format(control.mag2db(pm)))"
   ]
  },
  {
   "cell_type": "markdown",
   "metadata": {},
   "source": [
    "### Problem 8.7\n",
    "\n",
    "#### a)"
   ]
  },
  {
   "cell_type": "code",
   "execution_count": 77,
   "metadata": {},
   "outputs": [
    {
     "name": "stdout",
     "output_type": "stream",
     "text": [
      "K = \n",
      "[[-9.7172000e+01] \n",
      " [ 1.8189894e-11] \n",
      " [ 9.6812000e+03] \n",
      " [ 4.0000000e+01]]\n"
     ]
    }
   ],
   "source": [
    "# with K, M, k, R, r = 40, 1, 2, 100, 0.02\n",
    "A = np.array([[0, 0, 1, 0], [0, 0, 0, 1], [-40, 40, -100, 0], [40, -40, 0, -100]]).astype('float')\n",
    "B = np.array([[0], [0], [1], [0]]).astype('float')\n",
    "C = np.array([1, 0, 0, 0]).astype('float').reshape((1, 4))\n",
    "D = np.zeros((1, 1)).astype('float')\n",
    "\n",
    "## from Problem 6.3\n",
    "closedLoopPoles = np.array([np.complex(-1., -1.), np.complex(-1., 1.), np.complex(-100., -100.), np.complex(-100., 100.)])\n",
    "G = ch6_utils.bassGura(A, B, closedLoopPoles)\n",
    "\n",
    "H = control.ss2tf(control.StateSpace(A, B, C, D))\n",
    "N = control.zero(H)\n",
    "poly1 = np.poly(N)\n",
    "\n",
    "# place 2 remaining observer poles in a butterworth pattern order 2 -> z**2 + sqrt(2)*z + 1\n",
    "# z = s/w0\n",
    "w0 = 2\n",
    "p2 = np.poly(np.roots([1., 1.414*w0, w0**2]))\n",
    "p = np.polymul(poly1, p2)\n",
    "\n",
    "K = ch7_utils.obsBassGura(A, C, np.roots(p))\n",
    "pprint('K = ')\n",
    "pprint(K)"
   ]
  },
  {
   "cell_type": "markdown",
   "metadata": {},
   "source": [
    "#### b) and c)"
   ]
  },
  {
   "cell_type": "code",
   "execution_count": 78,
   "metadata": {},
   "outputs": [
    {
     "name": "stdout",
     "output_type": "stream",
     "text": [
      "                         D(s) =                          \n",
      "   -1.944e+06 s^3 - 9.991e+07 s^2 - 7.918e+07 s + 1.6e+05\n",
      "---------------------------------------------------------\n",
      "s^4 + 104.8 s^3 + 1.045e+04 s^2 + 9.934e+05 s + 3.973e+05\n",
      "               H(s) =                 \n",
      "                s^2 + 100 s + 40      \n",
      "--------------------------------------\n",
      "s^4 + 200 s^3 + 1.008e+04 s^2 + 8000 s\n",
      "Gain margin (dB): 0.009760182356690496\n",
      "Phase margin: -0.10731738183710604\n"
     ]
    },
    {
     "data": {
      "image/png": "[encoded data removed]",
      "text/plain": [
       "<matplotlib.figure.Figure at 0x7f4cfc909c88>"
      ]
     },
     "metadata": {
      "needs_background": "light"
     },
     "output_type": "display_data"
    }
   ],
   "source": [
    "Abarc = A - B.dot(G) - K.dot(C)\n",
    "sysD = control.StateSpace(Abarc, K, G, np.zeros((1, 1)))\n",
    "tfD = control.ss2tf(sysD)\n",
    "pprint('D(s) = {}'.format(tfD))\n",
    "sysplant = control.StateSpace(A, B, C, np.zeros((1, 1)))\n",
    "tfplant = control.ss2tf(sysplant)\n",
    "pprint('H(s) = {}'.format(tfplant))\n",
    "\n",
    "H = tfD*tfplant\n",
    "\n",
    "gm, pm, _, _ = control.margin(H)\n",
    "print('Gain margin (dB): {}'.format(control.mag2db(gm)))\n",
    "print('Phase margin: {}'.format(pm))\n",
    "\n",
    "control.root_locus(H, Plot=True, PrintGain=False)\n",
    "plt.show()"
   ]
  },
  {
   "cell_type": "markdown",
   "metadata": {},
   "source": [
    "The gain and phase margins here suck!  Maybe the design will be better in the next problem.\n",
    "\n",
    "### Problem 8.8\n",
    "\n",
    "#### a)"
   ]
  },
  {
   "cell_type": "code",
   "execution_count": 80,
   "metadata": {},
   "outputs": [
    {
     "name": "stdout",
     "output_type": "stream",
     "text": [
      "K = \n",
      " [[-2.35323455e+04]\n",
      "  [-1.94774000e+02]\n",
      "  [ 2.34382390e+06]\n",
      " [ 2.88884569e+04]]\n"
     ]
    }
   ],
   "source": [
    "# with K, M, k, R, r = 40, 1, 2, 100, 0.02\n",
    "A = np.array([[0, 0, 1, 0], [0, 0, 0, 1], [-40, 40, -100, 0], [40, -40, 0, -100]]).astype('float')\n",
    "B = np.array([[0], [0], [1], [0]]).astype('float')\n",
    "C = np.array([0, 1, 0, 0]).astype('float').reshape((1, 4))\n",
    "D = np.zeros((1, 1)).astype('float')\n",
    "\n",
    "## from Problem 6.3\n",
    "closedLoopPoles = np.array([np.complex(-1., -1.), np.complex(-1., 1.), np.complex(-100., -100.), np.complex(-100., 100.)])\n",
    "G = ch6_utils.bassGura(A, B, closedLoopPoles)\n",
    "\n",
    "H = control.ss2tf(control.StateSpace(A, B, C, D))\n",
    "N = control.zero(H)\n",
    "poly1 = np.poly(N)\n",
    "\n",
    "# place 4 remaining observer poles in a butterworth pattern order 4\n",
    "# z = s/w0\n",
    "w0 = 2\n",
    "p2 = np.poly(np.roots([1., 2.613*w0, (2.+np.sqrt(2.))*w0**2, 2.613*w0**3, w0**4]))\n",
    "p = np.polymul(poly1, p2)\n",
    "K = ch7_utils.obsBassGura(A, C, np.roots(p))\n",
    "pprint('K = ')\n",
    "pprint(K)"
   ]
  },
  {
   "cell_type": "markdown",
   "metadata": {},
   "source": [
    "#### b) and c)"
   ]
  },
  {
   "cell_type": "code",
   "execution_count": 81,
   "metadata": {},
   "outputs": [
    {
     "name": "stdout",
     "output_type": "stream",
     "text": [
      "                        D(s) =                          \n",
      "-9.394e+08 s^3 - 7.125e+10 s^2 - 5.685e+10 s + 1.603e+04\n",
      "--------------------------------------------------------\n",
      "   s^4 + 7.226 s^3 + 9946 s^2 - 1.92e+06 s + 2.843e+08  \n",
      "               H(s) =                 \n",
      "                           40         \n",
      "--------------------------------------\n",
      "s^4 + 200 s^3 + 1.008e+04 s^2 + 8000 s\n",
      "Gain margin (dB): 1.7220406074625598e-06\n",
      "Phase margin: -8.010068796693304e-06\n"
     ]
    },
    {
     "data": {
      "image/png": "[encoded data removed]",
      "text/plain": [
       "<matplotlib.figure.Figure at 0x7f4cfc8b44e0>"
      ]
     },
     "metadata": {
      "needs_background": "light"
     },
     "output_type": "display_data"
    }
   ],
   "source": [
    "Abarc = A - B.dot(G) - K.dot(C)\n",
    "sysD = control.StateSpace(Abarc, K, G, np.zeros((1, 1)))\n",
    "tfD = control.ss2tf(sysD)\n",
    "pprint('D(s) = {}'.format(tfD))\n",
    "sysplant = control.StateSpace(A, B, C, np.zeros((1, 1)))\n",
    "tfplant = control.ss2tf(sysplant)\n",
    "pprint('H(s) = {}'.format(tfplant))\n",
    "\n",
    "H = tfD*tfplant\n",
    "\n",
    "gm, pm, _, _ = control.margin(H)\n",
    "print('Gain margin (dB): {}'.format(control.mag2db(gm)))\n",
    "print('Phase margin: {}'.format(pm))\n",
    "\n",
    "control.root_locus(H, Plot=True, PrintGain=False)\n",
    "#plt.axis([-10, 10, -10, 10])\n",
    "plt.show()"
   ]
  },
  {
   "cell_type": "markdown",
   "metadata": {},
   "source": [
    "##### Similarities to 8.7\n",
    "* Compensators have similar form (3 zeros vs. 4 poles)\n",
    "\n",
    "##### Differences to 8.7\n",
    "* worse gain/phase margins\n",
    "* greater freedom of placing observer poles\n",
    "* qualitatively different pole/zero migration indicated by root locus plots\n",
    "\n",
    "### Problem 8.9\n",
    "#### a)\n",
    "See Problem 4.4:\n",
    "\n",
    "\\begin{eqnarray}\n",
    "A_{aa} &=& \\begin{pmatrix}\n",
    "-0.746 & 0.387 & 0 \\\\\n",
    "0.024 & -0.0174 & 0 \\\\\n",
    "0 & 0 & 0 \\\\\n",
    "\\end{pmatrix},\n",
    "A_{au} = \\begin{pmatrix}\n",
    "-12.9 & 0 \\\\\n",
    "4.31 & 0 \\\\\n",
    "0 & 0 \\\\\n",
    "\\end{pmatrix}, \\\\\n",
    "A_{ua} &=& \\begin{pmatrix}\n",
    "0.006 & 0.001 & 0 \\\\\n",
    "-1 & 0 & 1 \\\\\n",
    "\\end{pmatrix},\n",
    "A_{uu} = \\begin{pmatrix}\n",
    "-0.746 & 0.0369 \\\\\n",
    "0 & 0 \\\\\n",
    "\\end{pmatrix},\\\\\n",
    "B_{a} &=& \\begin{pmatrix}\n",
    "6.05 & 0.952 \\\\\n",
    "-0.416 & -1.76 \\\\\n",
    "0 & 0 \\\\\n",
    "\\end{pmatrix},\\\\\n",
    "B_{u} &=& \\begin{pmatrix}\n",
    "0.0012 & 0.0092 \\\\\n",
    "0 & 0 \\\\\n",
    "\\end{pmatrix}\n",
    "\\end{eqnarray}\n",
    "\n",
    "#### b)\n",
    "\n",
    "As I've said before, I am not doing any more block-diagrams.\n",
    "\n",
    "#### c)\n",
    "\n",
    "Condition 8.86 is $B_u - L C_a B_a = \\mathbf{0}$.  $B_u$ is $2 \\times 2$, while $C_a$ is $3 \\times 3$ and $B_a$ is $3 \\times 2$.  This means that $L$ must be $2 \\times 3$ just by size requirements.  Let:\n",
    "\\begin{eqnarray}\n",
    "L = \\begin{pmatrix}\n",
    "l_1 & l_2 & l_3 \\\\\n",
    "l_4 & l_5 & l_6\n",
    "\\end{pmatrix},\n",
    "\\end{eqnarray}\n",
    "and then see if is a way to satisfy Condition 8.86."
   ]
  },
  {
   "cell_type": "code",
   "execution_count": 185,
   "metadata": {},
   "outputs": [
    {
     "name": "stdout",
     "output_type": "stream",
     "text": [
      "⎡6.05⋅l₁ - 0.416⋅l₂  0.952⋅l₁ - 1.76⋅l₂⎤\n",
      "⎢                                      ⎥\n",
      "⎣6.05⋅l₄ - 0.416⋅l₅  0.952⋅l₄ - 1.76⋅l₅⎦\n",
      " = \n",
      "⎡0.0012  0.0092⎤\n",
      "⎢              ⎥\n",
      "⎣  0       0   ⎦\n"
     ]
    }
   ],
   "source": [
    "Ba = Matrix([[6.05, .952], [-.416, -1.76], [0, 0]])\n",
    "Bu = Matrix([[.0012, .0092], [0, 0]])\n",
    "Ca = eye(3)\n",
    "l = symbols(\"l1:7\")\n",
    "L = Matrix([[l[0], l[1], l[2]], [l[3], l[4], l[5]]])\n",
    "pprint(L*Ba)\n",
    "pprint(' = ')\n",
    "pprint(Bu)"
   ]
  },
  {
   "cell_type": "markdown",
   "metadata": {},
   "source": [
    "This is a linear system with $\\mathbf{x} = [l_1 \\ l_2 \\ l_4 \\ l_5]^T$.  "
   ]
  },
  {
   "cell_type": "code",
   "execution_count": 186,
   "metadata": {},
   "outputs": [
    {
     "name": "stdout",
     "output_type": "stream",
     "text": [
      "[[l1], [l2], [l4], [l5]]' = \n",
      " [[ 0.00053777]\n",
      "  [ 0.00493639]\n",
      "  [ 0.        ]\n",
      " [-0.        ]]\n"
     ]
    }
   ],
   "source": [
    "As = np.array([[6.05, -.416, 0, 0], [.952, 1.76, 0, 0], [0, 0, 6.05, -.416], [0, 0, 0.952, -1.76]]).astype('float').reshape((4, 4))\n",
    "bs = np.array([[.0012], [.0092], [0], [0]]).astype('float').reshape((4, 1))\n",
    "xs = np.linalg.solve(As, bs)\n",
    "pprint('[[l1], [l2], [l4], [l5]]\\' = ')\n",
    "pprint(xs)"
   ]
  },
  {
   "cell_type": "markdown",
   "metadata": {},
   "source": [
    "The gain matrix $L$ can be made to meet Condition 8.86 when:\n",
    "\\begin{eqnarray}\n",
    "L = \\begin{pmatrix}\n",
    "0.000538 & 0.00494 & l_3 \\\\\n",
    "0 & 0 & l_6 \\\\\n",
    "\\end{pmatrix}\n",
    "\\end{eqnarray}\n",
    "\n",
    "The parameters $l_3$ and $l_6$ can be chosen freely to meet other observer design objectives; e.g. pole-placement.\n",
    "\n",
    "But what about the suitability of the pole-placement?  The observer poles are determined by the characteristic polynomial of $F$."
   ]
  },
  {
   "cell_type": "code",
   "execution_count": 187,
   "metadata": {},
   "outputs": [
    {
     "name": "stdout",
     "output_type": "stream",
     "text": [
      "⎡-0.7603385176  0.0369⎤\n",
      "⎢                     ⎥\n",
      "⎣      0          0   ⎦\n"
     ]
    }
   ],
   "source": [
    "Auu = Matrix([[-0.746, 0.0369], [0, 0]])\n",
    "Aau = Matrix([[-12.9, 0], [4.31, 0], [0, 0]])\n",
    "L = Matrix([[5.37777e-4, 4.93639e-3, l[2]], [0, 0, l[5]]])\n",
    "F = Auu - L*Aau\n",
    "pprint(F)"
   ]
  },
  {
   "cell_type": "markdown",
   "metadata": {},
   "source": [
    "Clearly, $F$ has a pole at $s=0$, so the closed-loop dynamics will not be asymptotically stable.  Because of this one pole, every pole is not at a desirable location.\n",
    "\n",
    "#### d)\n",
    "We have two free gains, $l_3$ and $l_6$.  The reduced-order observer will have two singular values, because it is order 2.  Therefore, we can place the remaining poles to cancel transmission zeros of the (unavailable) process.\n",
    "\n",
    "### Problem 8.10\n",
    "\n",
    "#### a)\n",
    "We have a reduced order observer from Problem 7.5, and a control law from 6.9.  At this point, the methods of Problem 8.5 above can be used to find each compensator in terms of the gains $g_i$, $l_i$ for $i = 1, 2, 3 ,4$.  This would be kind of tedious, so I'm not going to do it.\n",
    "\n",
    "#### b)\n",
    "Block-diagram omitted.\n",
    "\n",
    "### Problem 8.11\n",
    "_Omitted because of bogus exogenous method_"
   ]
  },
  {
   "cell_type": "markdown",
   "metadata": {},
   "source": [
    "### Problem 8.12\n",
    "#### a)\n",
    "Get $G$ from Problem 6.6.  The problem specifically calls out a fourth-order observer, so the reference $h_0$ and the airspeed $V$ are discarded in the subsequent treatment."
   ]
  },
  {
   "cell_type": "code",
   "execution_count": 85,
   "metadata": {},
   "outputs": [
    {
     "name": "stdout",
     "output_type": "stream",
     "text": [
      "D(s) = \n",
      "   -339.8 s^3 - 725.8 s^2 - 2096 s - 1176\n",
      "--------------------------------------------\n",
      "s^4 + 16.26 s^3 + 127.8 s^2 + 633.2 s + 1786\n",
      "\n"
     ]
    }
   ],
   "source": [
    "A = np.array([[-1, 1, 0, 0], [-5, -.5, 0, 0], [0, 1, 0, 0], [-1, 0, 1, 0]]).astype('float').reshape((4, 4))\n",
    "B = np.array([[-.1], [-9], [0], [0]]).astype('float').reshape((4, 1))\n",
    "C = np.array([[0., 0., 0., 1.]]).astype('float').reshape((1, 4))\n",
    "D = np.zeros((1, 1))\n",
    "closedLoopPoles = np.array(2.5*np.array([np.complex(-0.5, 0.5*np.sqrt(3.)), np.complex(-0.5, -0.5*np.sqrt(3.)),\n",
    "                                         np.complex(-0.5*np.sqrt(3.), 0.5), np.complex(-0.5*np.sqrt(3.), -0.5)]))\n",
    "desiredObsPoles = np.array([np.complex(-2., np.sqrt(3)*2.), np.complex(-2., -np.sqrt(3)*2.),\n",
    "                      np.complex(-np.sqrt(3)*2., 2.), np.complex(-np.sqrt(3)*2., -2.)])\n",
    "tfComp = ch8_utils.fullOrderCompensator(A, B, C, D, closedLoopPoles, desiredObsPoles)\n",
    "print('D(s) = {}'.format(tfComp))\n",
    "sysPlant = control.StateSpace(A, B, C, D)\n",
    "tfPlant = control.ss2tf(sysPlant)\n",
    "H = tfComp*tfPlant"
   ]
  },
  {
   "cell_type": "markdown",
   "metadata": {},
   "source": [
    "#### b)"
   ]
  },
  {
   "cell_type": "code",
   "execution_count": 86,
   "metadata": {},
   "outputs": [
    {
     "data": {
      "image/png": "[encoded data removed]",
      "text/plain": [
       "<matplotlib.figure.Figure at 0x7f4cfc957c18>"
      ]
     },
     "metadata": {
      "needs_background": "light"
     },
     "output_type": "display_data"
    },
    {
     "name": "stdout",
     "output_type": "stream",
     "text": [
      "1.0 <= k <= 1.62 defines the range of stable gains.\n"
     ]
    }
   ],
   "source": [
    "control.root_locus(H, Plot=True, PrintGain=False)\n",
    "plt.show()\n",
    "k = np.linspace(1, 2, 101)\n",
    "kStable = ch8_utils.stabilityRange(tfComp, tfPlant, k)\n",
    "if kStable is not None:\n",
    "    print('{min} <= k <= {max} defines the range of stable gains.'.format(min=kStable[0], max=kStable[1]))\n",
    "else:\n",
    "    print('no stable gains were found in the range provided')"
   ]
  },
  {
   "cell_type": "markdown",
   "metadata": {},
   "source": [
    "### Problem 8.13\n",
    "#### a)\n",
    "We can reuse a lot from Problem 8.12.  However, the system needs to be rearranged so that $h$. which is measurable, is the first state."
   ]
  },
  {
   "cell_type": "code",
   "execution_count": 91,
   "metadata": {},
   "outputs": [
    {
     "name": "stdout",
     "output_type": "stream",
     "text": [
      "D(s) = \n",
      "-81.66 s^3 - 178.9 s^2 - 500.7 s - 294.1\n",
      "----------------------------------------\n",
      "    s^3 + 14.99 s^2 + 108.1 s + 373.2\n",
      "\n",
      " [-2.82842712+2.82842712j -2.82842712-2.82842712j -4.        +0.j \n",
      " -1.25      +2.16506351j -1.25      -2.16506351j -2.16506351+1.25j\n",
      "                     -2.16506351-1.25j      ]                     \n"
     ]
    }
   ],
   "source": [
    "A = np.array([[0, -1, 0, 1], [0, -1, 1, 0], [0, -5, -.5, 0], [0, 0, 1, 0]]).astype('float').reshape((4, 4))\n",
    "B = np.array([[0], [-.1], [-9], [0]]).astype('float').reshape((4, 1))\n",
    "C = np.array([[1, 0, 0, 0]]).astype('float').reshape((1, 4))\n",
    "D = np.zeros((1, 1))\n",
    "sysPlant = control.StateSpace(A, B, C, D)\n",
    "\n",
    "### Controller ###\n",
    "closedLoopPoles = np.array(2.5*np.array([np.complex(-0.5, 0.5*np.sqrt(3.)), np.complex(-0.5, -0.5*np.sqrt(3.)),\n",
    "                                         np.complex(-0.5*np.sqrt(3.), 0.5), np.complex(-0.5*np.sqrt(3.), -0.5)]))\n",
    "G = ch6_utils.bassGura(A, B, closedLoopPoles)\n",
    "\n",
    "### Observer ###\n",
    "desiredObsPoles = np.array([np.complex(-4., 0.), np.complex(-2.*np.sqrt(2), 2.*np.sqrt(2)),\n",
    "                            np.complex(-2.*np.sqrt(2), -2.*np.sqrt(2))])\n",
    "Aaa = np.array([A[0, 0]]).reshape((1, 1))\n",
    "Aau = np.array(A[0, 1:]).reshape((1, 3))\n",
    "Aua = np.array(A[1:, 0]).reshape((3, 1))\n",
    "Auu = np.array(A[1:, 1:]).reshape((3, 3))\n",
    "Ba = np.array([0]).reshape((1, 1))\n",
    "Bu = np.array(B[1:]).reshape((3, 1))\n",
    "Ca = np.array([[1]])\n",
    "L, Gbb, H = ch7_utils.reducedOrderObserver(Aaa, Aau, Aua, Auu, Ba, Bu, Ca, desiredObsPoles)\n",
    "F = Auu - L@Aau\n",
    "\n",
    "### Compensator ###\n",
    "G1 = np.array([G[0, 0]]).reshape((1, 1))\n",
    "G2 = np.array(G[0, 1:]).reshape((1, 3))\n",
    "Ar = F-H@G2\n",
    "Br = Ar@L + Gbb - H@G1\n",
    "Cr = G2\n",
    "Dr = G1+G2@L\n",
    "sysComp = control.StateSpace(Ar, Br, Cr, Dr)\n",
    "tfComp = control.ss2tf(sysComp)\n",
    "print('D(s) = {}'.format(tfComp))\n",
    "tfPlant = control.ss2tf(sysPlant)\n",
    "H = tfComp*tfPlant"
   ]
  },
  {
   "cell_type": "markdown",
   "metadata": {},
   "source": [
    "#### b)"
   ]
  },
  {
   "cell_type": "code",
   "execution_count": 92,
   "metadata": {},
   "outputs": [
    {
     "data": {
      "image/png": "[encoded data removed]",
      "text/plain": [
       "<matplotlib.figure.Figure at 0x7f4cfca3f6a0>"
      ]
     },
     "metadata": {
      "needs_background": "light"
     },
     "output_type": "display_data"
    },
    {
     "name": "stdout",
     "output_type": "stream",
     "text": [
      "1.0 <= k <= 2.035 defines the range of stable gains.\n"
     ]
    }
   ],
   "source": [
    "control.root_locus(H, Plot=True, PrintGain=False)\n",
    "plt.show()\n",
    "# T(s) = 1 + Kb*D(s)*H(s) (Kb != K from above!)\n",
    "k = np.linspace(1, 2.5, 101)\n",
    "kStable = ch8_utils.stabilityRange(tfComp, tfPlant, k)\n",
    "if kStable is not None:\n",
    "    print('{min} <= k <= {max} defines the range of stable gains.'.format(min=kStable[0], max=kStable[1]))\n",
    "else:\n",
    "    print('no stable gains were found in the range provided')"
   ]
  },
  {
   "cell_type": "markdown",
   "metadata": {},
   "source": [
    "The margins for the compensator with reduced-order observer is significantly better.  The root locus indicates some nice pole-zero cancellation (dots are very near x's near the line $y=0$ above).  There is the same number of poles as zeros in the reduced order observer case.  This compensator is lower order with better closed-loop stability properties.  This is pretty cool, I think."
   ]
  }
 ],
 "metadata": {
  "kernelspec": {
   "display_name": "Python 3",
   "language": "python",
   "name": "python3"
  },
  "language_info": {
   "codemirror_mode": {
    "name": "ipython",
    "version": 3
   },
   "file_extension": ".py",
   "mimetype": "text/x-python",
   "name": "python",
   "nbconvert_exporter": "python",
   "pygments_lexer": "ipython3",
   "version": "3.6.0"
  }
 },
 "nbformat": 4,
 "nbformat_minor": 2
}
